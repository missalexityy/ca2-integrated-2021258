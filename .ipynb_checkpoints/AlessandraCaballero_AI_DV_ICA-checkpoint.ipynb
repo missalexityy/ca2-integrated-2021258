{
 "cells": [
  {
   "cell_type": "code",
   "execution_count": 1,
   "id": "fa332de3-6272-4feb-9296-f6462d9953ce",
   "metadata": {},
   "outputs": [
    {
     "name": "stdout",
     "output_type": "stream",
     "text": [
      "Collecting python-constraint\n",
      "  Downloading python-constraint-1.4.0.tar.bz2 (18 kB)\n",
      "  Preparing metadata (setup.py): started\n",
      "  Preparing metadata (setup.py): finished with status 'done'\n",
      "Building wheels for collected packages: python-constraint\n",
      "  Building wheel for python-constraint (setup.py): started\n",
      "  Building wheel for python-constraint (setup.py): finished with status 'done'\n",
      "  Created wheel for python-constraint: filename=python_constraint-1.4.0-py2.py3-none-any.whl size=24085 sha256=fabf07e1c2f69596ac7452f3d3328bc1b23a768a036f98b5bb9fca5e634446ed\n",
      "  Stored in directory: c:\\users\\lssnd\\appdata\\local\\pip\\cache\\wheels\\c1\\d2\\3d\\082849b61a9c6de02d4a7c8a402c224640f08d8a971307b92b\n",
      "Successfully built python-constraint\n",
      "Installing collected packages: python-constraint\n",
      "Successfully installed python-constraint-1.4.0\n",
      "Note: you may need to restart the kernel to use updated packages.\n"
     ]
    }
   ],
   "source": [
    "pip install python-constraint\n"
   ]
  },
  {
   "cell_type": "code",
   "execution_count": 3,
   "id": "e282c4c3-c5bf-44af-838d-a8277a5cf02d",
   "metadata": {},
   "outputs": [
    {
     "name": "stdout",
     "output_type": "stream",
     "text": [
      "Possible Assignments:\n",
      "Solution 1:\n",
      " - Data Analyst: Diana\n",
      " - DevOps Engineer: Charlie\n",
      " - Project Manager: Eve\n",
      " - Software Developer: Bob\n",
      "Solution 2:\n",
      " - Data Analyst: Diana\n",
      " - DevOps Engineer: Charlie\n",
      " - Project Manager: Eve\n",
      " - Software Developer: Alice\n",
      "Solution 3:\n",
      " - Data Analyst: Diana\n",
      " - DevOps Engineer: Bob\n",
      " - Project Manager: Eve\n",
      " - Software Developer: Alice\n",
      "Solution 4:\n",
      " - Data Analyst: Diana\n",
      " - DevOps Engineer: Bob\n",
      " - Project Manager: Charlie\n",
      " - Software Developer: Eve\n",
      "Solution 5:\n",
      " - Data Analyst: Diana\n",
      " - DevOps Engineer: Bob\n",
      " - Project Manager: Charlie\n",
      " - Software Developer: Alice\n",
      "Solution 6:\n",
      " - Data Analyst: Alice\n",
      " - DevOps Engineer: Charlie\n",
      " - Project Manager: Eve\n",
      " - Software Developer: Bob\n",
      "Solution 7:\n",
      " - Data Analyst: Alice\n",
      " - DevOps Engineer: Charlie\n",
      " - Project Manager: Diana\n",
      " - Software Developer: Eve\n",
      "Solution 8:\n",
      " - Data Analyst: Alice\n",
      " - DevOps Engineer: Charlie\n",
      " - Project Manager: Diana\n",
      " - Software Developer: Bob\n",
      "Solution 9:\n",
      " - Data Analyst: Alice\n",
      " - DevOps Engineer: Bob\n",
      " - Project Manager: Diana\n",
      " - Software Developer: Eve\n",
      "Solution 10:\n",
      " - Data Analyst: Alice\n",
      " - DevOps Engineer: Bob\n",
      " - Project Manager: Charlie\n",
      " - Software Developer: Eve\n"
     ]
    }
   ],
   "source": [
    "from constraint import Problem\n",
    "\n",
    "#Define the Problem\n",
    "problem = Problem()\n",
    "\n",
    "#Variables (Roles to be filled)\n",
    "roles = [\"Data Analyst\", \"Software Developer\", \"DevOps Engineer\", \"Project Manager\"]\n",
    "\n",
    "#Domains (Candidates for each role)\n",
    "candidates = {\n",
    "    \"Alice\": [\"Data Analyst\", \"Software Developer\"],\n",
    "    \"Bob\": [\"Software Developer\", \"DevOps Engineer\"],\n",
    "    \"Charlie\": [\"DevOps Engineer\", \"Project Manager\"],\n",
    "    \"Diana\": [\"Data Analyst\", \"Project Manager\"],\n",
    "    \"Eve\": [\"Software Developer\", \"Project Manager\"]\n",
    "}\n",
    "\n",
    "#Add variables to the problem with candidate constraints\n",
    "for role in roles:\n",
    "    problem.addVariable(role, list(candidates.keys()))  # Assign candidates to roles\n",
    "\n",
    "#Constraints\n",
    "#I-Each candidate can only take one role (no duplication of people)\n",
    "def unique_candidate(*args):\n",
    "    return len(args) == len(set(args))  # Ensure all assignments are unique\n",
    "\n",
    "problem.addConstraint(unique_candidate, roles)\n",
    "\n",
    "#II-Role compatibility constraint (assign valid candidates only)\n",
    "for role in roles:\n",
    "    valid_candidates = [candidate for candidate, possible_roles in candidates.items() if role in possible_roles]\n",
    "    problem.addConstraint(lambda x, valid=valid_candidates: x in valid, (role,))\n",
    "\n",
    "#Solve the CSP\n",
    "solution = problem.getSolutions()\n",
    "\n",
    "#Display Results\n",
    "if solution:\n",
    "    print(\"Possible Assignments:\")\n",
    "    for i, sol in enumerate(solution, 1):\n",
    "        print(f\"Solution {i}:\")\n",
    "        for role, candidate in sol.items():\n",
    "            print(f\" - {role}: {candidate}\")\n",
    "else:\n",
    "    print(\"No valid solution found!\")\n"
   ]
  },
  {
   "cell_type": "code",
   "execution_count": null,
   "id": "60b10ca9-aabf-46c7-9fb2-c6f2af1942a0",
   "metadata": {},
   "outputs": [],
   "source": []
  }
 ],
 "metadata": {
  "kernelspec": {
   "display_name": "Python 3 (ipykernel)",
   "language": "python",
   "name": "python3"
  },
  "language_info": {
   "codemirror_mode": {
    "name": "ipython",
    "version": 3
   },
   "file_extension": ".py",
   "mimetype": "text/x-python",
   "name": "python",
   "nbconvert_exporter": "python",
   "pygments_lexer": "ipython3",
   "version": "3.12.4"
  }
 },
 "nbformat": 4,
 "nbformat_minor": 5
}
