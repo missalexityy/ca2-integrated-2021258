{
 "cells": [
  {
   "cell_type": "code",
   "execution_count": 1,
   "id": "fa332de3-6272-4feb-9296-f6462d9953ce",
   "metadata": {},
   "outputs": [
    {
     "name": "stdout",
     "output_type": "stream",
     "text": [
      "Collecting python-constraint\n",
      "  Downloading python-constraint-1.4.0.tar.bz2 (18 kB)\n",
      "  Preparing metadata (setup.py): started\n",
      "  Preparing metadata (setup.py): finished with status 'done'\n",
      "Building wheels for collected packages: python-constraint\n",
      "  Building wheel for python-constraint (setup.py): started\n",
      "  Building wheel for python-constraint (setup.py): finished with status 'done'\n",
      "  Created wheel for python-constraint: filename=python_constraint-1.4.0-py2.py3-none-any.whl size=24085 sha256=fabf07e1c2f69596ac7452f3d3328bc1b23a768a036f98b5bb9fca5e634446ed\n",
      "  Stored in directory: c:\\users\\lssnd\\appdata\\local\\pip\\cache\\wheels\\c1\\d2\\3d\\082849b61a9c6de02d4a7c8a402c224640f08d8a971307b92b\n",
      "Successfully built python-constraint\n",
      "Installing collected packages: python-constraint\n",
      "Successfully installed python-constraint-1.4.0\n",
      "Note: you may need to restart the kernel to use updated packages.\n"
     ]
    }
   ],
   "source": [
    "pip install python-constraint\n"
   ]
  },
  {
   "cell_type": "code",
   "execution_count": 7,
   "id": "e282c4c3-c5bf-44af-838d-a8277a5cf02d",
   "metadata": {},
   "outputs": [
    {
     "name": "stdout",
     "output_type": "stream",
     "text": [
      "Possible Assignments for Scenario 1:\n",
      "\n",
      "Solution 1:\n",
      " - Database Admin: Jane\n",
      " - Web Designer: Anita\n",
      " - Systems Engineer: Bruce\n",
      " - AI Engineer: Maria\n",
      "\n",
      "\n",
      "Solution 2:\n",
      " - Database Admin: Jane\n",
      " - Web Designer: Anita\n",
      " - Systems Engineer: Bruce\n",
      " - AI Engineer: Jim\n",
      "\n",
      "\n",
      "Solution 3:\n",
      " - Database Admin: Jane\n",
      " - Web Designer: Anita\n",
      " - Systems Engineer: Bruce\n",
      " - AI Engineer: Juan\n",
      "\n",
      "\n",
      "Solution 4:\n",
      " - Database Admin: Jane\n",
      " - Web Designer: Anita\n",
      " - Systems Engineer: Bruce\n",
      " - AI Engineer: Peter\n",
      "\n",
      "\n",
      "Solution 5:\n",
      " - Database Admin: Jane\n",
      " - Web Designer: Anita\n",
      " - Systems Engineer: Mary\n",
      " - AI Engineer: Maria\n",
      "\n",
      "\n",
      "Solution 6:\n",
      " - Database Admin: Jane\n",
      " - Web Designer: Anita\n",
      " - Systems Engineer: Mary\n",
      " - AI Engineer: Jim\n",
      "\n",
      "\n",
      "Solution 7:\n",
      " - Database Admin: Jane\n",
      " - Web Designer: Anita\n",
      " - Systems Engineer: Mary\n",
      " - AI Engineer: Juan\n",
      "\n",
      "\n",
      "Solution 8:\n",
      " - Database Admin: Jane\n",
      " - Web Designer: Anita\n",
      " - Systems Engineer: Mary\n",
      " - AI Engineer: Peter\n",
      "\n",
      "\n",
      "Solution 9:\n",
      " - Database Admin: Jane\n",
      " - Web Designer: Anita\n",
      " - Systems Engineer: Jim\n",
      " - AI Engineer: Maria\n",
      "\n",
      "\n",
      "Solution 10:\n",
      " - Database Admin: Jane\n",
      " - Web Designer: Anita\n",
      " - Systems Engineer: Jim\n",
      " - AI Engineer: Juan\n",
      "\n",
      "\n",
      "Solution 11:\n",
      " - Database Admin: Jane\n",
      " - Web Designer: Anita\n",
      " - Systems Engineer: Jim\n",
      " - AI Engineer: Peter\n",
      "\n",
      "\n",
      "Solution 12:\n",
      " - Database Admin: Jane\n",
      " - Web Designer: Anita\n",
      " - Systems Engineer: Juan\n",
      " - AI Engineer: Jim\n",
      "\n",
      "\n",
      "Solution 13:\n",
      " - Database Admin: Jane\n",
      " - Web Designer: Anita\n",
      " - Systems Engineer: Juan\n",
      " - AI Engineer: Maria\n",
      "\n",
      "\n",
      "Solution 14:\n",
      " - Database Admin: Jane\n",
      " - Web Designer: Anita\n",
      " - Systems Engineer: Juan\n",
      " - AI Engineer: Peter\n",
      "\n",
      "\n",
      "Solution 15:\n",
      " - Database Admin: Jane\n",
      " - Web Designer: Mary\n",
      " - Systems Engineer: Bruce\n",
      " - AI Engineer: Anita\n",
      "\n",
      "\n",
      "Solution 16:\n",
      " - Database Admin: Jane\n",
      " - Web Designer: Mary\n",
      " - Systems Engineer: Bruce\n",
      " - AI Engineer: Juan\n",
      "\n",
      "\n",
      "Solution 17:\n",
      " - Database Admin: Jane\n",
      " - Web Designer: Mary\n",
      " - Systems Engineer: Bruce\n",
      " - AI Engineer: Jim\n",
      "\n",
      "\n",
      "Solution 18:\n",
      " - Database Admin: Jane\n",
      " - Web Designer: Mary\n",
      " - Systems Engineer: Bruce\n",
      " - AI Engineer: Maria\n",
      "\n",
      "\n",
      "Solution 19:\n",
      " - Database Admin: Jane\n",
      " - Web Designer: Mary\n",
      " - Systems Engineer: Bruce\n",
      " - AI Engineer: Peter\n",
      "\n",
      "\n",
      "Solution 20:\n",
      " - Database Admin: Jane\n",
      " - Web Designer: Mary\n",
      " - Systems Engineer: Jim\n",
      " - AI Engineer: Anita\n",
      "\n",
      "\n",
      "Solution 21:\n",
      " - Database Admin: Jane\n",
      " - Web Designer: Mary\n",
      " - Systems Engineer: Jim\n",
      " - AI Engineer: Juan\n",
      "\n",
      "\n",
      "Solution 22:\n",
      " - Database Admin: Jane\n",
      " - Web Designer: Mary\n",
      " - Systems Engineer: Jim\n",
      " - AI Engineer: Maria\n",
      "\n",
      "\n",
      "Solution 23:\n",
      " - Database Admin: Jane\n",
      " - Web Designer: Mary\n",
      " - Systems Engineer: Jim\n",
      " - AI Engineer: Peter\n",
      "\n",
      "\n",
      "Solution 24:\n",
      " - Database Admin: Jane\n",
      " - Web Designer: Mary\n",
      " - Systems Engineer: Juan\n",
      " - AI Engineer: Jim\n",
      "\n",
      "\n",
      "Solution 25:\n",
      " - Database Admin: Jane\n",
      " - Web Designer: Mary\n",
      " - Systems Engineer: Juan\n",
      " - AI Engineer: Anita\n",
      "\n",
      "\n",
      "Solution 26:\n",
      " - Database Admin: Jane\n",
      " - Web Designer: Mary\n",
      " - Systems Engineer: Juan\n",
      " - AI Engineer: Maria\n",
      "\n",
      "\n",
      "Solution 27:\n",
      " - Database Admin: Jane\n",
      " - Web Designer: Mary\n",
      " - Systems Engineer: Juan\n",
      " - AI Engineer: Peter\n",
      "\n",
      "\n",
      "Solution 28:\n",
      " - Database Admin: Jane\n",
      " - Web Designer: Juan\n",
      " - Systems Engineer: Bruce\n",
      " - AI Engineer: Jim\n",
      "\n",
      "\n",
      "Solution 29:\n",
      " - Database Admin: Jane\n",
      " - Web Designer: Juan\n",
      " - Systems Engineer: Bruce\n",
      " - AI Engineer: Anita\n",
      "\n",
      "\n",
      "Solution 30:\n",
      " - Database Admin: Jane\n",
      " - Web Designer: Juan\n",
      " - Systems Engineer: Bruce\n",
      " - AI Engineer: Maria\n",
      "\n",
      "\n",
      "Solution 31:\n",
      " - Database Admin: Jane\n",
      " - Web Designer: Juan\n",
      " - Systems Engineer: Bruce\n",
      " - AI Engineer: Peter\n",
      "\n",
      "\n",
      "Solution 32:\n",
      " - Database Admin: Jane\n",
      " - Web Designer: Juan\n",
      " - Systems Engineer: Mary\n",
      " - AI Engineer: Jim\n",
      "\n",
      "\n",
      "Solution 33:\n",
      " - Database Admin: Jane\n",
      " - Web Designer: Juan\n",
      " - Systems Engineer: Mary\n",
      " - AI Engineer: Anita\n",
      "\n",
      "\n",
      "Solution 34:\n",
      " - Database Admin: Jane\n",
      " - Web Designer: Juan\n",
      " - Systems Engineer: Mary\n",
      " - AI Engineer: Maria\n",
      "\n",
      "\n",
      "Solution 35:\n",
      " - Database Admin: Jane\n",
      " - Web Designer: Juan\n",
      " - Systems Engineer: Mary\n",
      " - AI Engineer: Peter\n",
      "\n",
      "\n",
      "Solution 36:\n",
      " - Database Admin: Jane\n",
      " - Web Designer: Juan\n",
      " - Systems Engineer: Jim\n",
      " - AI Engineer: Anita\n",
      "\n",
      "\n",
      "Solution 37:\n",
      " - Database Admin: Jane\n",
      " - Web Designer: Juan\n",
      " - Systems Engineer: Jim\n",
      " - AI Engineer: Maria\n",
      "\n",
      "\n",
      "Solution 38:\n",
      " - Database Admin: Jane\n",
      " - Web Designer: Juan\n",
      " - Systems Engineer: Jim\n",
      " - AI Engineer: Peter\n",
      "\n",
      "\n",
      "Solution 39:\n",
      " - Database Admin: Jim\n",
      " - Web Designer: Anita\n",
      " - Systems Engineer: Bruce\n",
      " - AI Engineer: Juan\n",
      "\n",
      "\n",
      "Solution 40:\n",
      " - Database Admin: Jim\n",
      " - Web Designer: Anita\n",
      " - Systems Engineer: Bruce\n",
      " - AI Engineer: Maria\n",
      "\n",
      "\n",
      "Solution 41:\n",
      " - Database Admin: Jim\n",
      " - Web Designer: Anita\n",
      " - Systems Engineer: Bruce\n",
      " - AI Engineer: Peter\n",
      "\n",
      "\n",
      "Solution 42:\n",
      " - Database Admin: Jim\n",
      " - Web Designer: Anita\n",
      " - Systems Engineer: Mary\n",
      " - AI Engineer: Juan\n",
      "\n",
      "\n",
      "Solution 43:\n",
      " - Database Admin: Jim\n",
      " - Web Designer: Anita\n",
      " - Systems Engineer: Mary\n",
      " - AI Engineer: Maria\n",
      "\n",
      "\n",
      "Solution 44:\n",
      " - Database Admin: Jim\n",
      " - Web Designer: Anita\n",
      " - Systems Engineer: Mary\n",
      " - AI Engineer: Peter\n",
      "\n",
      "\n",
      "Solution 45:\n",
      " - Database Admin: Jim\n",
      " - Web Designer: Anita\n",
      " - Systems Engineer: Juan\n",
      " - AI Engineer: Maria\n",
      "\n",
      "\n",
      "Solution 46:\n",
      " - Database Admin: Jim\n",
      " - Web Designer: Anita\n",
      " - Systems Engineer: Juan\n",
      " - AI Engineer: Peter\n",
      "\n",
      "\n",
      "Solution 47:\n",
      " - Database Admin: Jim\n",
      " - Web Designer: Mary\n",
      " - Systems Engineer: Bruce\n",
      " - AI Engineer: Anita\n",
      "\n",
      "\n",
      "Solution 48:\n",
      " - Database Admin: Jim\n",
      " - Web Designer: Mary\n",
      " - Systems Engineer: Bruce\n",
      " - AI Engineer: Juan\n",
      "\n",
      "\n",
      "Solution 49:\n",
      " - Database Admin: Jim\n",
      " - Web Designer: Mary\n",
      " - Systems Engineer: Bruce\n",
      " - AI Engineer: Maria\n",
      "\n",
      "\n",
      "Solution 50:\n",
      " - Database Admin: Jim\n",
      " - Web Designer: Mary\n",
      " - Systems Engineer: Bruce\n",
      " - AI Engineer: Peter\n",
      "\n",
      "\n",
      "Solution 51:\n",
      " - Database Admin: Jim\n",
      " - Web Designer: Mary\n",
      " - Systems Engineer: Juan\n",
      " - AI Engineer: Anita\n",
      "\n",
      "\n",
      "Solution 52:\n",
      " - Database Admin: Jim\n",
      " - Web Designer: Mary\n",
      " - Systems Engineer: Juan\n",
      " - AI Engineer: Maria\n",
      "\n",
      "\n",
      "Solution 53:\n",
      " - Database Admin: Jim\n",
      " - Web Designer: Mary\n",
      " - Systems Engineer: Juan\n",
      " - AI Engineer: Peter\n",
      "\n",
      "\n",
      "Solution 54:\n",
      " - Database Admin: Jim\n",
      " - Web Designer: Juan\n",
      " - Systems Engineer: Bruce\n",
      " - AI Engineer: Anita\n",
      "\n",
      "\n",
      "Solution 55:\n",
      " - Database Admin: Jim\n",
      " - Web Designer: Juan\n",
      " - Systems Engineer: Bruce\n",
      " - AI Engineer: Maria\n",
      "\n",
      "\n",
      "Solution 56:\n",
      " - Database Admin: Jim\n",
      " - Web Designer: Juan\n",
      " - Systems Engineer: Bruce\n",
      " - AI Engineer: Peter\n",
      "\n",
      "\n",
      "Solution 57:\n",
      " - Database Admin: Jim\n",
      " - Web Designer: Juan\n",
      " - Systems Engineer: Mary\n",
      " - AI Engineer: Anita\n",
      "\n",
      "\n",
      "Solution 58:\n",
      " - Database Admin: Jim\n",
      " - Web Designer: Juan\n",
      " - Systems Engineer: Mary\n",
      " - AI Engineer: Maria\n",
      "\n",
      "\n",
      "Solution 59:\n",
      " - Database Admin: Jim\n",
      " - Web Designer: Juan\n",
      " - Systems Engineer: Mary\n",
      " - AI Engineer: Peter\n",
      "\n"
     ]
    }
   ],
   "source": [
    "from constraint import Problem\n",
    "\n",
    "#Define the Problem\n",
    "problem = Problem()\n",
    "\n",
    "#Variables (Positions to Fill)\n",
    "roles = [\"AI Engineer\", \"Systems Engineer\", \"Web Designer\", \"Database Admin\"]\n",
    "\n",
    "#Domains (Candidates for Each Role)\n",
    "candidates = {\n",
    "    \"AI Engineer\": [\"Peter\", \"Juan\", \"Jim\", \"Anita\", \"Maria\"],\n",
    "    \"Systems Engineer\": [\"Juan\", \"Jim\", \"Mary\", \"Bruce\"],\n",
    "    \"Web Designer\": [\"Juan\", \"Mary\", \"Anita\"],\n",
    "    \"Database Admin\": [\"Jim\", \"Jane\"]\n",
    "}\n",
    "\n",
    "#Add Variables to the Problem with Relevant Domains\n",
    "problem.addVariable(\"AI Engineer\", candidates[\"AI Engineer\"])\n",
    "problem.addVariable(\"Systems Engineer\", candidates[\"Systems Engineer\"])\n",
    "problem.addVariable(\"Web Designer\", candidates[\"Web Designer\"])\n",
    "problem.addVariable(\"Database Admin\", candidates[\"Database Admin\"])\n",
    "\n",
    "#Constraint 1: Unique Assignments (No Duplicate Candidates for Roles)\n",
    "def unique_candidates(*args):\n",
    "    return len(set(args)) == len(args)  # Ensure all assignments are unique\n",
    "\n",
    "problem.addConstraint(unique_candidates, roles)\n",
    "\n",
    "#Constraint 2: Max of Two Roles Per Candidate\n",
    "def max_roles(*assignments):\n",
    "    counts = {}\n",
    "    for candidate in assignments:\n",
    "        counts[candidate] = counts.get(candidate, 0) + 1\n",
    "    return all(count <= 2 for count in counts.values())\n",
    "\n",
    "problem.addConstraint(max_roles, roles)\n",
    "\n",
    "#Solve the CSP\n",
    "solutions = problem.getSolutions()\n",
    "\n",
    "#Display Results\n",
    "if solutions:\n",
    "    print(\"Possible Assignments for Scenario 1:\")\n",
    "    for i, solution in enumerate(solutions, 1):\n",
    "        print(f\"\\nSolution {i}:\")\n",
    "        for role, candidate in solution.items():\n",
    "            print(f\" - {role}: {candidate}\")\n",
    "        print(\"\")  #Adds a blank line after each solution\n",
    "else:\n",
    "    print(\"No valid solution found!\")\n"
   ]
  },
  {
   "cell_type": "markdown",
   "id": "b71a937f-6a84-44bf-84fe-4e32c091c7a3",
   "metadata": {},
   "source": [
    "## A* Algorithm Solution"
   ]
  },
  {
   "cell_type": "code",
   "execution_count": 3,
   "id": "db06d65a-0f9d-4430-80a6-10f5ae2a46fd",
   "metadata": {},
   "outputs": [],
   "source": [
    "import heapq"
   ]
  },
  {
   "cell_type": "code",
   "execution_count": 7,
   "id": "7e30695c-d485-4f1c-8cdd-87468f7c323e",
   "metadata": {},
   "outputs": [
    {
     "name": "stdout",
     "output_type": "stream",
     "text": [
      "Ideal Assignment: {'Database Admin': 'Jane', 'Web Designer': 'Jane', 'Systems Engineer': 'Bruce', 'AI Engineer': 'Anita'}\n"
     ]
    }
   ],
   "source": [
    "#Existing Data\n",
    "positions = [\"Database Admin\", \"Web Designer\", \"Systems Engineer\", \"AI Engineer\"]\n",
    "candidates = {\n",
    "    \"Jane\": [\"Database Admin\", \"Web Designer\"],\n",
    "    \"Anita\": [\"Web Designer\", \"AI Engineer\"],\n",
    "    \"Bruce\": [\"Systems Engineer\"],\n",
    "    \"Maria\": [\"AI Engineer\"],\n",
    "    \"Jim\": [\"AI Engineer\", \"Database Admin\"],\n",
    "    \"Mary\": [\"Systems Engineer\", \"Web Designer\"],\n",
    "    \"Juan\": [\"AI Engineer\", \"Web Designer\"],\n",
    "    \"Peter\": [\"AI Engineer\", \"Systems Engineer\"]\n",
    "}\n",
    "\n",
    "#Define A* Node\n",
    "class Node:\n",
    "    def __init__(self, assignment, cost, remaining_positions):\n",
    "        self.assignment = assignment\n",
    "        self.cost = cost\n",
    "        self.remaining_positions = remaining_positions\n",
    "\n",
    "    def __lt__(self, other):\n",
    "        return self.cost < other.cost\n",
    "\n",
    "#Heuristic Function: Counts unassigned positions (simplified example)\n",
    "def heuristic(remaining_positions):\n",
    "    return len(remaining_positions)\n",
    "\n",
    "#Constraint Check: Valid assignment\n",
    "def is_valid(assignment, position, candidate):\n",
    "    #Max 2 roles per person\n",
    "    if list(assignment.values()).count(candidate) >= 2:\n",
    "        return False\n",
    "    #Candidate must be qualified\n",
    "    return position in candidates[candidate]\n",
    "\n",
    "#Generate Successors\n",
    "def successors(node):\n",
    "    successors_list = []\n",
    "    for candidate in candidates.keys():\n",
    "        if node.remaining_positions:\n",
    "            position = node.remaining_positions[0]\n",
    "            if is_valid(node.assignment, position, candidate):\n",
    "                new_assignment = node.assignment.copy()\n",
    "                new_assignment[position] = candidate\n",
    "                new_remaining_positions = node.remaining_positions[1:]\n",
    "                new_cost = len(new_remaining_positions) + heuristic(new_remaining_positions)\n",
    "                successors_list.append(Node(new_assignment, new_cost, new_remaining_positions))\n",
    "    return successors_list\n",
    "\n",
    "#A* Algorithm\n",
    "def a_star_hiring(positions, candidates):\n",
    "    initial_node = Node({}, 0, positions)\n",
    "    frontier = []\n",
    "    heapq.heappush(frontier, initial_node)\n",
    "    \n",
    "    while frontier:\n",
    "        current_node = heapq.heappop(frontier)\n",
    "        \n",
    "        #Goal check\n",
    "        if not current_node.remaining_positions:\n",
    "            return current_node.assignment\n",
    "        \n",
    "        #Generate successors\n",
    "        for successor in successors(current_node):\n",
    "            heapq.heappush(frontier, successor)\n",
    "    \n",
    "    return None  #No solution\n",
    "\n",
    "#Run the A* Algorithm\n",
    "solution = a_star_hiring(positions, candidates)\n",
    "print(\"Ideal Assignment:\", solution)\n"
   ]
  },
  {
   "cell_type": "markdown",
   "id": "1404ca30-05b7-49a2-8c74-e4ca1ec0b4e7",
   "metadata": {},
   "source": [
    "## Visualising Scenario 1\n",
    "\n",
    "Constraint Visualisation:\n",
    "- Show candidates and their skill sets.\n",
    "- Illustrate domains for each role (e.g., candidates who qualify for each position).\n",
    "- Visualise constraints such as \"Max Roles per Person\" and \"One Role per Position.\"\n",
    "\n",
    "Solution Visualisation:\n",
    "- Represent the feasible solutions using tables, heatmaps, or bar charts.\n",
    "- Use a bar chart to show the distribution of roles across candidates.\n",
    "- Highlight the number of feasible solutions found."
   ]
  },
  {
   "cell_type": "markdown",
   "id": "cccd8dc8-60a0-47b1-9d5a-cfe24bcebee7",
   "metadata": {},
   "source": [
    "### Organise Data"
   ]
  },
  {
   "cell_type": "code",
   "execution_count": 37,
   "id": "d88f6ab6-e70b-4c83-ae12-2ce799fe1f33",
   "metadata": {},
   "outputs": [],
   "source": [
    "#List of all 59 solutions\n",
    "solutions = [\n",
    "    {'Database Admin': 'Jane', 'Web Designer': 'Anita', 'Systems Engineer': 'Bruce', 'AI Engineer': 'Maria'},\n",
    "    {'Database Admin': 'Jane', 'Web Designer': 'Anita', 'Systems Engineer': 'Bruce', 'AI Engineer': 'Jim'},\n",
    "    {'Database Admin': 'Jane', 'Web Designer': 'Anita', 'Systems Engineer': 'Bruce', 'AI Engineer': 'Juan'},\n",
    "    {'Database Admin': 'Jane', 'Web Designer': 'Anita', 'Systems Engineer': 'Bruce', 'AI Engineer': 'Peter'},\n",
    "    {'Database Admin': 'Jane', 'Web Designer': 'Anita', 'Systems Engineer': 'Mary', 'AI Engineer': 'Maria'},\n",
    "    {'Database Admin': 'Jane', 'Web Designer': 'Anita', 'Systems Engineer': 'Mary', 'AI Engineer': 'Jim'},\n",
    "    {'Database Admin': 'Jane', 'Web Designer': 'Anita', 'Systems Engineer': 'Mary', 'AI Engineer': 'Juan'},\n",
    "    {'Database Admin': 'Jane', 'Web Designer': 'Anita', 'Systems Engineer': 'Mary', 'AI Engineer': 'Peter'},\n",
    "    {'Database Admin': 'Jane', 'Web Designer': 'Anita', 'Systems Engineer': 'Jim', 'AI Engineer': 'Maria'},\n",
    "    {'Database Admin': 'Jane', 'Web Designer': 'Anita', 'Systems Engineer': 'Jim', 'AI Engineer': 'Juan'},\n",
    "    {'Database Admin': 'Jane', 'Web Designer': 'Anita', 'Systems Engineer': 'Jim', 'AI Engineer': 'Peter'},\n",
    "    {'Database Admin': 'Jane', 'Web Designer': 'Anita', 'Systems Engineer': 'Juan', 'AI Engineer': 'Jim'},\n",
    "    {'Database Admin': 'Jane', 'Web Designer': 'Anita', 'Systems Engineer': 'Juan', 'AI Engineer': 'Maria'},\n",
    "    {'Database Admin': 'Jane', 'Web Designer': 'Anita', 'Systems Engineer': 'Juan', 'AI Engineer': 'Peter'},\n",
    "    {'Database Admin': 'Jane', 'Web Designer': 'Mary', 'Systems Engineer': 'Bruce', 'AI Engineer': 'Anita'},\n",
    "    {'Database Admin': 'Jane', 'Web Designer': 'Mary', 'Systems Engineer': 'Bruce', 'AI Engineer': 'Juan'},\n",
    "    {'Database Admin': 'Jane', 'Web Designer': 'Mary', 'Systems Engineer': 'Bruce', 'AI Engineer': 'Jim'},\n",
    "    {'Database Admin': 'Jane', 'Web Designer': 'Mary', 'Systems Engineer': 'Bruce', 'AI Engineer': 'Maria'},\n",
    "    {'Database Admin': 'Jane', 'Web Designer': 'Mary', 'Systems Engineer': 'Bruce', 'AI Engineer': 'Peter'},\n",
    "    {'Database Admin': 'Jane', 'Web Designer': 'Mary', 'Systems Engineer': 'Jim', 'AI Engineer': 'Anita'},\n",
    "    {'Database Admin': 'Jane', 'Web Designer': 'Mary', 'Systems Engineer': 'Jim', 'AI Engineer': 'Juan'},\n",
    "    {'Database Admin': 'Jane', 'Web Designer': 'Mary', 'Systems Engineer': 'Jim', 'AI Engineer': 'Maria'},\n",
    "    {'Database Admin': 'Jane', 'Web Designer': 'Mary', 'Systems Engineer': 'Jim', 'AI Engineer': 'Peter'},\n",
    "    {'Database Admin': 'Jane', 'Web Designer': 'Mary', 'Systems Engineer': 'Juan', 'AI Engineer': 'Jim'},\n",
    "    {'Database Admin': 'Jane', 'Web Designer': 'Mary', 'Systems Engineer': 'Juan', 'AI Engineer': 'Anita'},\n",
    "    {'Database Admin': 'Jane', 'Web Designer': 'Mary', 'Systems Engineer': 'Juan', 'AI Engineer': 'Maria'},\n",
    "    {'Database Admin': 'Jane', 'Web Designer': 'Mary', 'Systems Engineer': 'Juan', 'AI Engineer': 'Peter'},\n",
    "    {'Database Admin': 'Jane', 'Web Designer': 'Juan', 'Systems Engineer': 'Bruce', 'AI Engineer': 'Jim'},\n",
    "    {'Database Admin': 'Jane', 'Web Designer': 'Juan', 'Systems Engineer': 'Bruce', 'AI Engineer': 'Anita'},\n",
    "    {'Database Admin': 'Jane', 'Web Designer': 'Juan', 'Systems Engineer': 'Bruce', 'AI Engineer': 'Maria'},\n",
    "    {'Database Admin': 'Jane', 'Web Designer': 'Juan', 'Systems Engineer': 'Bruce', 'AI Engineer': 'Peter'},\n",
    "    {'Database Admin': 'Jane', 'Web Designer': 'Juan', 'Systems Engineer': 'Mary', 'AI Engineer': 'Jim'},\n",
    "    {'Database Admin': 'Jane', 'Web Designer': 'Juan', 'Systems Engineer': 'Mary', 'AI Engineer': 'Anita'},\n",
    "    {'Database Admin': 'Jane', 'Web Designer': 'Juan', 'Systems Engineer': 'Mary', 'AI Engineer': 'Maria'},\n",
    "    {'Database Admin': 'Jane', 'Web Designer': 'Juan', 'Systems Engineer': 'Mary', 'AI Engineer': 'Peter'},\n",
    "    {'Database Admin': 'Jane', 'Web Designer': 'Juan', 'Systems Engineer': 'Jim', 'AI Engineer': 'Anita'},\n",
    "    {'Database Admin': 'Jane', 'Web Designer': 'Juan', 'Systems Engineer': 'Jim', 'AI Engineer': 'Maria'},\n",
    "    {'Database Admin': 'Jane', 'Web Designer': 'Juan', 'Systems Engineer': 'Jim', 'AI Engineer': 'Peter'},\n",
    "    {'Database Admin': 'Jim', 'Web Designer': 'Anita', 'Systems Engineer': 'Bruce', 'AI Engineer': 'Juan'},\n",
    "    {'Database Admin': 'Jim', 'Web Designer': 'Anita', 'Systems Engineer': 'Bruce', 'AI Engineer': 'Maria'},\n",
    "    {'Database Admin': 'Jim', 'Web Designer': 'Anita', 'Systems Engineer': 'Bruce', 'AI Engineer': 'Peter'},\n",
    "    {'Database Admin': 'Jim', 'Web Designer': 'Anita', 'Systems Engineer': 'Mary', 'AI Engineer': 'Juan'},\n",
    "    {'Database Admin': 'Jim', 'Web Designer': 'Anita', 'Systems Engineer': 'Mary', 'AI Engineer': 'Maria'},\n",
    "    {'Database Admin': 'Jim', 'Web Designer': 'Anita', 'Systems Engineer': 'Mary', 'AI Engineer': 'Peter'},\n",
    "    {'Database Admin': 'Jim', 'Web Designer': 'Anita', 'Systems Engineer': 'Juan', 'AI Engineer': 'Maria'},\n",
    "    {'Database Admin': 'Jim', 'Web Designer': 'Anita', 'Systems Engineer': 'Juan', 'AI Engineer': 'Peter'},\n",
    "    {'Database Admin': 'Jim', 'Web Designer': 'Mary', 'Systems Engineer': 'Bruce', 'AI Engineer': 'Anita'},\n",
    "    {'Database Admin': 'Jim', 'Web Designer': 'Mary', 'Systems Engineer': 'Bruce', 'AI Engineer': 'Juan'},\n",
    "    {'Database Admin': 'Jim', 'Web Designer': 'Mary', 'Systems Engineer': 'Bruce', 'AI Engineer': 'Maria'},\n",
    "    {'Database Admin': 'Jim', 'Web Designer': 'Mary', 'Systems Engineer': 'Bruce', 'AI Engineer': 'Peter'},\n",
    "    {'Database Admin': 'Jim', 'Web Designer': 'Mary', 'Systems Engineer': 'Juan', 'AI Engineer': 'Anita'},\n",
    "    {'Database Admin': 'Jim', 'Web Designer': 'Mary', 'Systems Engineer': 'Juan', 'AI Engineer': 'Maria'},\n",
    "    {'Database Admin': 'Jim', 'Web Designer': 'Mary', 'Systems Engineer': 'Juan', 'AI Engineer': 'Peter'},\n",
    "    {'Database Admin': 'Jim', 'Web Designer': 'Juan', 'Systems Engineer': 'Bruce', 'AI Engineer': 'Anita'},\n",
    "    {'Database Admin': 'Jim', 'Web Designer': 'Juan', 'Systems Engineer': 'Bruce', 'AI Engineer': 'Maria'},\n",
    "    {'Database Admin': 'Jim', 'Web Designer': 'Juan', 'Systems Engineer': 'Bruce', 'AI Engineer': 'Peter'},\n",
    "    {'Database Admin': 'Jim', 'Web Designer': 'Juan', 'Systems Engineer': 'Mary', 'AI Engineer': 'Anita'},\n",
    "    {'Database Admin': 'Jim', 'Web Designer': 'Juan', 'Systems Engineer': 'Mary', 'AI Engineer': 'Maria'},\n",
    "    {'Database Admin': 'Jim', 'Web Designer': 'Juan', 'Systems Engineer': 'Mary', 'AI Engineer': 'Peter'}\n",
    "]\n",
    "\n",
    "#Extract roles\n",
    "roles = ['Database Admin', 'Web Designer', 'Systems Engineer', 'AI Engineer']"
   ]
  },
  {
   "cell_type": "markdown",
   "id": "746b8f91-6004-483f-8c08-dfa6e94075fd",
   "metadata": {},
   "source": [
    "### Count Assignments"
   ]
  },
  {
   "cell_type": "code",
   "execution_count": 39,
   "id": "f86a3076-9d23-4a83-a90e-39372055358c",
   "metadata": {},
   "outputs": [
    {
     "name": "stdout",
     "output_type": "stream",
     "text": [
      "Database Admin: {'Jane': 38, 'Jim': 21}\n",
      "Web Designer: {'Anita': 22, 'Mary': 20, 'Juan': 17}\n",
      "Systems Engineer: {'Bruce': 23, 'Mary': 14, 'Jim': 10, 'Juan': 12}\n",
      "AI Engineer: {'Maria': 17, 'Jim': 7, 'Juan': 8, 'Peter': 17, 'Anita': 10}\n"
     ]
    }
   ],
   "source": [
    "from collections import Counter\n",
    "\n",
    "#Initialise counters for each role\n",
    "role_counts = {role: Counter() for role in roles}\n",
    "\n",
    "#Count occurrences\n",
    "for solution in solutions:\n",
    "    for role, individual in solution.items():\n",
    "        role_counts[role][individual] += 1\n",
    "\n",
    "#Print role counts\n",
    "for role, counts in role_counts.items():\n",
    "    print(f\"{role}: {dict(counts)}\")\n"
   ]
  },
  {
   "cell_type": "markdown",
   "id": "5646ee61-a667-495a-8231-669a00ebdb03",
   "metadata": {},
   "source": [
    "### Candidate Skills Heatmap\n",
    "Heatmap: To represent which candidates have the required skills for each position."
   ]
  },
  {
   "cell_type": "code",
   "execution_count": 5,
   "id": "cd18ec24-87e3-4946-ab5d-0c0b6129d33f",
   "metadata": {},
   "outputs": [],
   "source": [
    "import pandas as pd\n",
    "import seaborn as sns\n",
    "import matplotlib.pyplot as plt"
   ]
  },
  {
   "cell_type": "code",
   "execution_count": 64,
   "id": "4d292e21-cb46-4ca5-b384-d59852fe84a5",
   "metadata": {
    "scrolled": true
   },
   "outputs": [
    {
     "data": {
      "image/png": "[encoded data removed]",
      "text/plain": [
       "<Figure size 1200x600 with 2 Axes>"
      ]
     },
     "metadata": {},
     "output_type": "display_data"
    }
   ],
   "source": [
    "#Data(Candidates and their roles)\n",
    "candidates = {\n",
    "    \"Jane\": [\"Database Admin\", \"Python Programmer\"],\n",
    "    \"Jim\": [\"AI Engineer\", \"Python Programmer\"],\n",
    "    \"Anita\": [\"Web Designer\", \"Frontend Developer\"],\n",
    "    \"Maria\": [\"AI Engineer\", \"Data Scientist\"],\n",
    "    \"Juan\": [\"Systems Engineer\", \"DevOps Specialist\"],\n",
    "    \"Peter\": [\"AI Engineer\", \"Backend Developer\"],\n",
    "    \"Bruce\": [\"Systems Engineer\", \"Network Specialist\"],\n",
    "    \"Mary\": [\"Systems Engineer\", \"Project Manager\"]\n",
    "}\n",
    "\n",
    "#Define the roles that will be displayed in the heatmap\n",
    "roles = [\"Database Admin\", \"Web Designer\", \"Systems Engineer\", \"AI Engineer\", \"Python Programmer\"]\n",
    "\n",
    "#To create a binary matrix of skills for the heatmap\n",
    "skills_matrix = pd.DataFrame([\n",
    "    {role: int(role in skills) for role in roles} for skills in candidates.values()\n",
    "], index=candidates.keys())\n",
    "\n",
    "#Plot the heatmap\n",
    "plt.figure(figsize=(12, 6))\n",
    "sns.heatmap(skills_matrix, annot=True, cmap=\"RdYlBu\", cbar=True, linewidths=0.5)\n",
    "plt.title(\"Candidate Skills Heatmap\", fontsize=16, fontweight=\"bold\", pad=15)\n",
    "plt.xlabel(\"Skills\", fontsize=12)\n",
    "plt.ylabel(\"Candidates\", fontsize=12)\n",
    "plt.xticks(rotation=0, fontsize=10)\n",
    "plt.yticks(fontsize=10)\n",
    "plt.tight_layout()\n",
    "plt.show()"
   ]
  },
  {
   "cell_type": "markdown",
   "id": "aa49307c-c92c-48de-b045-48397ff78e59",
   "metadata": {},
   "source": [
    "###  Domain Representation for Each Role\n",
    "Bar chart: can display the domains (qualified candidates) for each position."
   ]
  },
  {
   "cell_type": "code",
   "execution_count": 18,
   "id": "6d1d9e1e-4510-4ba1-831a-ea1fa8481958",
   "metadata": {},
   "outputs": [],
   "source": [
    "import pandas as pd\n",
    "import seaborn as sns\n",
    "import matplotlib.pyplot as plt"
   ]
  },
  {
   "cell_type": "code",
   "execution_count": 34,
   "id": "538a9cfd-b492-4360-a69c-fedf74a59cfc",
   "metadata": {},
   "outputs": [
    {
     "data": {
      "image/png": "[encoded data removed]",
      "text/plain": [
       "<Figure size 1000x600 with 1 Axes>"
      ]
     },
     "metadata": {},
     "output_type": "display_data"
    }
   ],
   "source": [
    "#Data(Candidates and their skills)\n",
    "candidates = {\n",
    "    \"Jane\": [\"Database Admin\", \"Python Programmer\"],\n",
    "    \"Jim\": [\"AI Engineer\", \"Python Programmer\"],\n",
    "    \"Anita\": [\"Web Designer\", \"Frontend Developer\"],\n",
    "    \"Maria\": [\"AI Engineer\", \"Data Scientist\"],\n",
    "    \"Juan\": [\"Systems Engineer\", \"DevOps Specialist\"],\n",
    "    \"Peter\": [\"AI Engineer\", \"Backend Developer\"],\n",
    "    \"Bruce\": [\"Systems Engineer\", \"Network Specialist\"],\n",
    "    \"Mary\": [\"Systems Engineer\", \"Project Manager\"]\n",
    "}\n",
    "\n",
    "#To create a binary matrix of skills\n",
    "roles = [\"Database Admin\", \"Web Designer\", \"Systems Engineer\", \"AI Engineer\", \"Python Programmer\"]\n",
    "skills_matrix = pd.DataFrame([\n",
    "    {role: int(role in skills) for role in roles} for skills in candidates.values()\n",
    "], index=candidates.keys())\n",
    "\n",
    "#To count how many candidates are qualified for each role\n",
    "role_counts = skills_matrix.sum(axis=0)\n",
    "\n",
    "#Style and color palette for the chart\n",
    "sns.set_theme(style=\"whitegrid\")\n",
    "color_palette = sns.color_palette(\"coolwarm\", len(role_counts))\n",
    "\n",
    "#Plot the bar chart\n",
    "plt.figure(figsize=(10, 6))\n",
    "role_counts.sort_values().plot(\n",
    "    kind=\"barh\",  #Horizontal bar chart for better readability\n",
    "    color=color_palette,\n",
    "    alpha=0.85,\n",
    "    edgecolor=\"black\",\n",
    "    linewidth=1\n",
    ")\n",
    "\n",
    "#Add titles and labels with consistent styling\n",
    "plt.title(\"Domain Representation for Each Role\", fontsize=16, fontweight=\"bold\", pad=15)\n",
    "plt.xlabel(\"Number of Qualified Candidates\", fontsize=12)\n",
    "plt.ylabel(\"Roles\", fontsize=12)\n",
    "plt.xticks(fontsize=10)\n",
    "plt.yticks(fontsize=10)\n",
    "\n",
    "#Gridlines for clarity\n",
    "plt.grid(axis=\"x\", linestyle=\"--\", linewidth=0.5, alpha=0.7)\n",
    "\n",
    "#Tighten the layout and show the chart\n",
    "plt.tight_layout()\n",
    "plt.show()"
   ]
  },
  {
   "cell_type": "markdown",
   "id": "aed0d20e-667b-47a2-90df-7b60521a46e8",
   "metadata": {},
   "source": [
    "### Role Distribution and Requirements\n",
    "Stacked Bar Chart: To show the required roles (Python Programmers, AI Engineers, Web Designer, Database Admin, Systems Engineer) versus the employees' skills distribution. This gives stakeholders a clear understanding of how individual abilities align with job roles."
   ]
  },
  {
   "cell_type": "code",
   "execution_count": 10,
   "id": "ad1262e0-4e89-4f87-9b40-c9e529beb794",
   "metadata": {},
   "outputs": [],
   "source": [
    "import pandas as pd\n",
    "import matplotlib.pyplot as plt"
   ]
  },
  {
   "cell_type": "code",
   "execution_count": 51,
   "id": "e1cd658b-8fdd-41db-ad39-5b0b148360ac",
   "metadata": {},
   "outputs": [
    {
     "data": {
      "text/plain": [
       "<Figure size 1000x600 with 0 Axes>"
      ]
     },
     "metadata": {},
     "output_type": "display_data"
    },
    {
     "data": {
      "image/png": "[encoded data removed]",
      "text/plain": [
       "<Figure size 1000x600 with 1 Axes>"
      ]
     },
     "metadata": {},
     "output_type": "display_data"
    }
   ],
   "source": [
    "#Create a dataset for required roles and available skills\n",
    "required_roles = {\n",
    "    \"Database Admin\": 1,\n",
    "    \"Web Designer\": 1,\n",
    "    \"Systems Engineer\": 1,\n",
    "    \"AI Engineer\": 1,\n",
    "    \"Python Programmer\": 2\n",
    "}\n",
    "\n",
    "#Calculate the available roles from the skills matrix\n",
    "available_roles = skills_matrix.sum(axis=0)\n",
    "\n",
    "#Combine the data into a DataFrame for visualisation\n",
    "role_distribution = pd.DataFrame({\n",
    "    \"Required\": pd.Series(required_roles),\n",
    "    \"Available\": available_roles\n",
    "})\n",
    "\n",
    "#Plot the stacked bar chart with improved styling\n",
    "plt.figure(figsize=(10, 6))\n",
    "\n",
    "#Customize colors for better readability\n",
    "role_distribution.plot(\n",
    "    kind=\"bar\",\n",
    "    stacked=True,\n",
    "    figsize=(10, 6),\n",
    "    color=[\"#4682B4\", \"#FF7F50\"],  #Steel blue and coral\n",
    "    edgecolor=\"black\",\n",
    "    linewidth=1\n",
    ")\n",
    "\n",
    "#Add titles, labels, and legends with enhanced styling\n",
    "plt.title(\"Role Distribution and Requirements\", fontsize=16, fontweight=\"bold\", pad=15)\n",
    "plt.xlabel(\"Roles\", fontsize=12)\n",
    "plt.ylabel(\"Count\", fontsize=12)\n",
    "plt.xticks(rotation=0, fontsize=10)\n",
    "plt.yticks(fontsize=10)\n",
    "plt.legend(title=\"Category\", fontsize=10, title_fontsize=12, loc=\"upper right\")\n",
    "\n",
    "#Add gridlines for visual clarity\n",
    "plt.grid(axis=\"y\", linestyle=\"--\", linewidth=0.5, alpha=0.7)\n",
    "\n",
    "#Optimise the layout\n",
    "plt.tight_layout()\n",
    "\n",
    "#Display the chart\n",
    "plt.show()\n"
   ]
  },
  {
   "cell_type": "markdown",
   "id": "c6765f34-82ae-4ac9-b6b8-71a401115fff",
   "metadata": {},
   "source": [
    "### Role Allocation Summary (Proportions per Solution)\n",
    "Pie Chart: Break down the roles fulfilled by individuals in each solution. For example, in Solution 1, who fulfills the AI Engineer, Systems Engineer, etc."
   ]
  },
  {
   "cell_type": "code",
   "execution_count": 55,
   "id": "b74044b7-9c81-4e7a-8004-2fbf7c9633ac",
   "metadata": {},
   "outputs": [],
   "source": [
    "import matplotlib.pyplot as plt\n",
    "import pandas as pd\n",
    "import seaborn as sns"
   ]
  },
  {
   "cell_type": "code",
   "execution_count": 59,
   "id": "069e9d59-7cef-4ef0-934e-4768da293e74",
   "metadata": {},
   "outputs": [
    {
     "data": {
      "image/png": "[encoded data removed]",
      "text/plain": [
       "<Figure size 500x500 with 1 Axes>"
      ]
     },
     "metadata": {},
     "output_type": "display_data"
    },
    {
     "data": {
      "image/png": "[encoded data removed]",
      "text/plain": [
       "<Figure size 500x500 with 1 Axes>"
      ]
     },
     "metadata": {},
     "output_type": "display_data"
    },
    {
     "data": {
      "image/png": "[encoded data removed]",
      "text/plain": [
       "<Figure size 500x500 with 1 Axes>"
      ]
     },
     "metadata": {},
     "output_type": "display_data"
    }
   ],
   "source": [
    "#Three different selected solutions out of 59\n",
    "solutions = [\n",
    "    {'Database Admin': 'Jane', 'Web Designer': 'Anita', 'Systems Engineer': 'Bruce', 'AI Engineer': 'Maria'},\n",
    "    {'Database Admin': 'Jim', 'Web Designer': 'Anita', 'Systems Engineer': 'Juan', 'AI Engineer': 'Maria'},\n",
    "    {'Database Admin': 'Jane', 'Web Designer': 'Mary', 'Systems Engineer': 'Bruce', 'AI Engineer': 'Anita'}\n",
    "]\n",
    "\n",
    "#Roles(Python programmer not included in scenario 1)\n",
    "roles = ['Database Admin', 'Web Designer', 'Systems Engineer', 'AI Engineer']\n",
    "\n",
    "#Color palette\n",
    "custom_colors = sns.color_palette(\"bright\", len(roles))\n",
    "\n",
    "#Plot each solution as a separate pie chart\n",
    "for i, solution in enumerate(solutions, start=1):\n",
    "    #Count how many roles are assigned to each individual\n",
    "    allocation_summary = pd.Series(solution).value_counts()\n",
    "    \n",
    "     #Pie chart\n",
    "    plt.figure(figsize=(5, 5))\n",
    "    allocation_summary.plot.pie(\n",
    "        autopct=\"%1.1f%%\",\n",
    "        startangle=90,\n",
    "        colors=custom_colors,\n",
    "        wedgeprops={'edgecolor': 'white', 'linewidth': 1.2},\n",
    "        textprops={'fontsize': 12} \n",
    "    )\n",
    "    plt.title(f\"Role Allocation Summary (Solution {i})\", fontsize=14, weight='bold')\n",
    "    plt.ylabel(\"\")  #Remove the default y-label\n",
    "    plt.tight_layout()\n",
    "    plt.show()"
   ]
  },
  {
   "cell_type": "markdown",
   "id": "3404a68f-bba2-4eaf-94dd-4178bc53dff7",
   "metadata": {},
   "source": [
    "## Interactive Bar Chart Visualisation\n",
    "- allows users to explore alternate constraint scenarios."
   ]
  },
  {
   "cell_type": "code",
   "execution_count": 3,
   "id": "3db40372-9469-49ea-9146-39b60eb85f53",
   "metadata": {},
   "outputs": [],
   "source": [
    "import pandas as pd\n",
    "import plotly.express as px"
   ]
  },
  {
   "cell_type": "code",
   "execution_count": 10,
   "id": "fafb867e-a418-4a5c-839e-5a7ea7124e67",
   "metadata": {},
   "outputs": [
    {
     "data": {
      "application/vnd.plotly.v1+json": {
       "config": {
        "plotlyServerURL": "https://plot.ly"
       },
       "data": [
        {
         "alignmentgroup": "True",
         "hovertemplate": "Job Roles=%{x}<br>Assigned Person=%{y}<extra></extra>",
         "legendgroup": "Database Admin",
         "marker": {
          "color": [
           "green",
           "pink",
           "yellow",
           "blue",
           "green",
           "pink",
           "yellow",
           "blue",
           "green",
           "pink",
           "yellow",
           "blue"
          ],
          "pattern": {
           "shape": ""
          }
         },
         "name": "Database Admin",
         "offsetgroup": "Database Admin",
         "orientation": "v",
         "showlegend": true,
         "textposition": "auto",
         "type": "bar",
         "x": [
          "Database Admin",
          "Web Designer",
          "Systems Engineer",
          "AI Engineer",
          "Database Admin",
          "Web Designer",
          "Systems Engineer",
          "AI Engineer",
          "Database Admin",
          "Web Designer",
          "Systems Engineer",
          "AI Engineer"
         ],
         "xaxis": "x",
         "y": [
          "Jane",
          "Anita",
          "Bruce",
          "Maria",
          "Jim",
          "Mary",
          "Juan",
          "Maria",
          "Jane",
          "Juan",
          "Mary",
          "Peter"
         ],
         "yaxis": "y"
        },
        {
         "alignmentgroup": "True",
         "hovertemplate": "Job Roles=%{x}<br>Assigned Person=%{y}<extra></extra>",
         "legendgroup": "Web Designer",
         "marker": {
          "color": [
           "green",
           "pink",
           "yellow",
           "blue",
           "green",
           "pink",
           "yellow",
           "blue",
           "green",
           "pink",
           "yellow",
           "blue"
          ],
          "pattern": {
           "shape": ""
          }
         },
         "name": "Web Designer",
         "offsetgroup": "Web Designer",
         "orientation": "v",
         "showlegend": true,
         "textposition": "auto",
         "type": "bar",
         "x": [
          "Database Admin",
          "Web Designer",
          "Systems Engineer",
          "AI Engineer",
          "Database Admin",
          "Web Designer",
          "Systems Engineer",
          "AI Engineer",
          "Database Admin",
          "Web Designer",
          "Systems Engineer",
          "AI Engineer"
         ],
         "xaxis": "x",
         "y": [
          "Jane",
          "Anita",
          "Bruce",
          "Maria",
          "Jim",
          "Mary",
          "Juan",
          "Maria",
          "Jane",
          "Juan",
          "Mary",
          "Peter"
         ],
         "yaxis": "y"
        },
        {
         "alignmentgroup": "True",
         "hovertemplate": "Job Roles=%{x}<br>Assigned Person=%{y}<extra></extra>",
         "legendgroup": "Systems Engineer",
         "marker": {
          "color": [
           "green",
           "pink",
           "yellow",
           "blue",
           "green",
           "pink",
           "yellow",
           "blue",
           "green",
           "pink",
           "yellow",
           "blue"
          ],
          "pattern": {
           "shape": ""
          }
         },
         "name": "Systems Engineer",
         "offsetgroup": "Systems Engineer",
         "orientation": "v",
         "showlegend": true,
         "textposition": "auto",
         "type": "bar",
         "x": [
          "Database Admin",
          "Web Designer",
          "Systems Engineer",
          "AI Engineer",
          "Database Admin",
          "Web Designer",
          "Systems Engineer",
          "AI Engineer",
          "Database Admin",
          "Web Designer",
          "Systems Engineer",
          "AI Engineer"
         ],
         "xaxis": "x",
         "y": [
          "Jane",
          "Anita",
          "Bruce",
          "Maria",
          "Jim",
          "Mary",
          "Juan",
          "Maria",
          "Jane",
          "Juan",
          "Mary",
          "Peter"
         ],
         "yaxis": "y"
        },
        {
         "alignmentgroup": "True",
         "hovertemplate": "Job Roles=%{x}<br>Assigned Person=%{y}<extra></extra>",
         "legendgroup": "AI Engineer",
         "marker": {
          "color": [
           "green",
           "pink",
           "yellow",
           "blue",
           "green",
           "pink",
           "yellow",
           "blue",
           "green",
           "pink",
           "yellow",
           "blue"
          ],
          "pattern": {
           "shape": ""
          }
         },
         "name": "AI Engineer",
         "offsetgroup": "AI Engineer",
         "orientation": "v",
         "showlegend": true,
         "textposition": "auto",
         "type": "bar",
         "x": [
          "Database Admin",
          "Web Designer",
          "Systems Engineer",
          "AI Engineer",
          "Database Admin",
          "Web Designer",
          "Systems Engineer",
          "AI Engineer",
          "Database Admin",
          "Web Designer",
          "Systems Engineer",
          "AI Engineer"
         ],
         "xaxis": "x",
         "y": [
          "Jane",
          "Anita",
          "Bruce",
          "Maria",
          "Jim",
          "Mary",
          "Juan",
          "Maria",
          "Jane",
          "Juan",
          "Mary",
          "Peter"
         ],
         "yaxis": "y"
        }
       ],
       "layout": {
        "autosize": true,
        "barmode": "group",
        "legend": {
         "itemclick": false,
         "itemdoubleclick": false,
         "title": {
          "text": "Role"
         },
         "tracegroupgap": 0
        },
        "showlegend": true,
        "template": {
         "data": {
          "bar": [
           {
            "error_x": {
             "color": "#2a3f5f"
            },
            "error_y": {
             "color": "#2a3f5f"
            },
            "marker": {
             "line": {
              "color": "#E5ECF6",
              "width": 0.5
             },
             "pattern": {
              "fillmode": "overlay",
              "size": 10,
              "solidity": 0.2
             }
            },
            "type": "bar"
           }
          ],
          "barpolar": [
           {
            "marker": {
             "line": {
              "color": "#E5ECF6",
              "width": 0.5
             },
             "pattern": {
              "fillmode": "overlay",
              "size": 10,
              "solidity": 0.2
             }
            },
            "type": "barpolar"
           }
          ],
          "carpet": [
           {
            "aaxis": {
             "endlinecolor": "#2a3f5f",
             "gridcolor": "white",
             "linecolor": "white",
             "minorgridcolor": "white",
             "startlinecolor": "#2a3f5f"
            },
            "baxis": {
             "endlinecolor": "#2a3f5f",
             "gridcolor": "white",
             "linecolor": "white",
             "minorgridcolor": "white",
             "startlinecolor": "#2a3f5f"
            },
            "type": "carpet"
           }
          ],
          "choropleth": [
           {
            "colorbar": {
             "outlinewidth": 0,
             "ticks": ""
            },
            "type": "choropleth"
           }
          ],
          "contour": [
           {
            "colorbar": {
             "outlinewidth": 0,
             "ticks": ""
            },
            "colorscale": [
             [
              0,
              "#0d0887"
             ],
             [
              0.1111111111111111,
              "#46039f"
             ],
             [
              0.2222222222222222,
              "#7201a8"
             ],
             [
              0.3333333333333333,
              "#9c179e"
             ],
             [
              0.4444444444444444,
              "#bd3786"
             ],
             [
              0.5555555555555556,
              "#d8576b"
             ],
             [
              0.6666666666666666,
              "#ed7953"
             ],
             [
              0.7777777777777778,
              "#fb9f3a"
             ],
             [
              0.8888888888888888,
              "#fdca26"
             ],
             [
              1,
              "#f0f921"
             ]
            ],
            "type": "contour"
           }
          ],
          "contourcarpet": [
           {
            "colorbar": {
             "outlinewidth": 0,
             "ticks": ""
            },
            "type": "contourcarpet"
           }
          ],
          "heatmap": [
           {
            "colorbar": {
             "outlinewidth": 0,
             "ticks": ""
            },
            "colorscale": [
             [
              0,
              "#0d0887"
             ],
             [
              0.1111111111111111,
              "#46039f"
             ],
             [
              0.2222222222222222,
              "#7201a8"
             ],
             [
              0.3333333333333333,
              "#9c179e"
             ],
             [
              0.4444444444444444,
              "#bd3786"
             ],
             [
              0.5555555555555556,
              "#d8576b"
             ],
             [
              0.6666666666666666,
              "#ed7953"
             ],
             [
              0.7777777777777778,
              "#fb9f3a"
             ],
             [
              0.8888888888888888,
              "#fdca26"
             ],
             [
              1,
              "#f0f921"
             ]
            ],
            "type": "heatmap"
           }
          ],
          "heatmapgl": [
           {
            "colorbar": {
             "outlinewidth": 0,
             "ticks": ""
            },
            "colorscale": [
             [
              0,
              "#0d0887"
             ],
             [
              0.1111111111111111,
              "#46039f"
             ],
             [
              0.2222222222222222,
              "#7201a8"
             ],
             [
              0.3333333333333333,
              "#9c179e"
             ],
             [
              0.4444444444444444,
              "#bd3786"
             ],
             [
              0.5555555555555556,
              "#d8576b"
             ],
             [
              0.6666666666666666,
              "#ed7953"
             ],
             [
              0.7777777777777778,
              "#fb9f3a"
             ],
             [
              0.8888888888888888,
              "#fdca26"
             ],
             [
              1,
              "#f0f921"
             ]
            ],
            "type": "heatmapgl"
           }
          ],
          "histogram": [
           {
            "marker": {
             "pattern": {
              "fillmode": "overlay",
              "size": 10,
              "solidity": 0.2
             }
            },
            "type": "histogram"
           }
          ],
          "histogram2d": [
           {
            "colorbar": {
             "outlinewidth": 0,
             "ticks": ""
            },
            "colorscale": [
             [
              0,
              "#0d0887"
             ],
             [
              0.1111111111111111,
              "#46039f"
             ],
             [
              0.2222222222222222,
              "#7201a8"
             ],
             [
              0.3333333333333333,
              "#9c179e"
             ],
             [
              0.4444444444444444,
              "#bd3786"
             ],
             [
              0.5555555555555556,
              "#d8576b"
             ],
             [
              0.6666666666666666,
              "#ed7953"
             ],
             [
              0.7777777777777778,
              "#fb9f3a"
             ],
             [
              0.8888888888888888,
              "#fdca26"
             ],
             [
              1,
              "#f0f921"
             ]
            ],
            "type": "histogram2d"
           }
          ],
          "histogram2dcontour": [
           {
            "colorbar": {
             "outlinewidth": 0,
             "ticks": ""
            },
            "colorscale": [
             [
              0,
              "#0d0887"
             ],
             [
              0.1111111111111111,
              "#46039f"
             ],
             [
              0.2222222222222222,
              "#7201a8"
             ],
             [
              0.3333333333333333,
              "#9c179e"
             ],
             [
              0.4444444444444444,
              "#bd3786"
             ],
             [
              0.5555555555555556,
              "#d8576b"
             ],
             [
              0.6666666666666666,
              "#ed7953"
             ],
             [
              0.7777777777777778,
              "#fb9f3a"
             ],
             [
              0.8888888888888888,
              "#fdca26"
             ],
             [
              1,
              "#f0f921"
             ]
            ],
            "type": "histogram2dcontour"
           }
          ],
          "mesh3d": [
           {
            "colorbar": {
             "outlinewidth": 0,
             "ticks": ""
            },
            "type": "mesh3d"
           }
          ],
          "parcoords": [
           {
            "line": {
             "colorbar": {
              "outlinewidth": 0,
              "ticks": ""
             }
            },
            "type": "parcoords"
           }
          ],
          "pie": [
           {
            "automargin": true,
            "type": "pie"
           }
          ],
          "scatter": [
           {
            "fillpattern": {
             "fillmode": "overlay",
             "size": 10,
             "solidity": 0.2
            },
            "type": "scatter"
           }
          ],
          "scatter3d": [
           {
            "line": {
             "colorbar": {
              "outlinewidth": 0,
              "ticks": ""
             }
            },
            "marker": {
             "colorbar": {
              "outlinewidth": 0,
              "ticks": ""
             }
            },
            "type": "scatter3d"
           }
          ],
          "scattercarpet": [
           {
            "marker": {
             "colorbar": {
              "outlinewidth": 0,
              "ticks": ""
             }
            },
            "type": "scattercarpet"
           }
          ],
          "scattergeo": [
           {
            "marker": {
             "colorbar": {
              "outlinewidth": 0,
              "ticks": ""
             }
            },
            "type": "scattergeo"
           }
          ],
          "scattergl": [
           {
            "marker": {
             "colorbar": {
              "outlinewidth": 0,
              "ticks": ""
             }
            },
            "type": "scattergl"
           }
          ],
          "scattermapbox": [
           {
            "marker": {
             "colorbar": {
              "outlinewidth": 0,
              "ticks": ""
             }
            },
            "type": "scattermapbox"
           }
          ],
          "scatterpolar": [
           {
            "marker": {
             "colorbar": {
              "outlinewidth": 0,
              "ticks": ""
             }
            },
            "type": "scatterpolar"
           }
          ],
          "scatterpolargl": [
           {
            "marker": {
             "colorbar": {
              "outlinewidth": 0,
              "ticks": ""
             }
            },
            "type": "scatterpolargl"
           }
          ],
          "scatterternary": [
           {
            "marker": {
             "colorbar": {
              "outlinewidth": 0,
              "ticks": ""
             }
            },
            "type": "scatterternary"
           }
          ],
          "surface": [
           {
            "colorbar": {
             "outlinewidth": 0,
             "ticks": ""
            },
            "colorscale": [
             [
              0,
              "#0d0887"
             ],
             [
              0.1111111111111111,
              "#46039f"
             ],
             [
              0.2222222222222222,
              "#7201a8"
             ],
             [
              0.3333333333333333,
              "#9c179e"
             ],
             [
              0.4444444444444444,
              "#bd3786"
             ],
             [
              0.5555555555555556,
              "#d8576b"
             ],
             [
              0.6666666666666666,
              "#ed7953"
             ],
             [
              0.7777777777777778,
              "#fb9f3a"
             ],
             [
              0.8888888888888888,
              "#fdca26"
             ],
             [
              1,
              "#f0f921"
             ]
            ],
            "type": "surface"
           }
          ],
          "table": [
           {
            "cells": {
             "fill": {
              "color": "#EBF0F8"
             },
             "line": {
              "color": "white"
             }
            },
            "header": {
             "fill": {
              "color": "#C8D4E3"
             },
             "line": {
              "color": "white"
             }
            },
            "type": "table"
           }
          ]
         },
         "layout": {
          "annotationdefaults": {
           "arrowcolor": "#2a3f5f",
           "arrowhead": 0,
           "arrowwidth": 1
          },
          "autotypenumbers": "strict",
          "coloraxis": {
           "colorbar": {
            "outlinewidth": 0,
            "ticks": ""
           }
          },
          "colorscale": {
           "diverging": [
            [
             0,
             "#8e0152"
            ],
            [
             0.1,
             "#c51b7d"
            ],
            [
             0.2,
             "#de77ae"
            ],
            [
             0.3,
             "#f1b6da"
            ],
            [
             0.4,
             "#fde0ef"
            ],
            [
             0.5,
             "#f7f7f7"
            ],
            [
             0.6,
             "#e6f5d0"
            ],
            [
             0.7,
             "#b8e186"
            ],
            [
             0.8,
             "#7fbc41"
            ],
            [
             0.9,
             "#4d9221"
            ],
            [
             1,
             "#276419"
            ]
           ],
           "sequential": [
            [
             0,
             "#0d0887"
            ],
            [
             0.1111111111111111,
             "#46039f"
            ],
            [
             0.2222222222222222,
             "#7201a8"
            ],
            [
             0.3333333333333333,
             "#9c179e"
            ],
            [
             0.4444444444444444,
             "#bd3786"
            ],
            [
             0.5555555555555556,
             "#d8576b"
            ],
            [
             0.6666666666666666,
             "#ed7953"
            ],
            [
             0.7777777777777778,
             "#fb9f3a"
            ],
            [
             0.8888888888888888,
             "#fdca26"
            ],
            [
             1,
             "#f0f921"
            ]
           ],
           "sequentialminus": [
            [
             0,
             "#0d0887"
            ],
            [
             0.1111111111111111,
             "#46039f"
            ],
            [
             0.2222222222222222,
             "#7201a8"
            ],
            [
             0.3333333333333333,
             "#9c179e"
            ],
            [
             0.4444444444444444,
             "#bd3786"
            ],
            [
             0.5555555555555556,
             "#d8576b"
            ],
            [
             0.6666666666666666,
             "#ed7953"
            ],
            [
             0.7777777777777778,
             "#fb9f3a"
            ],
            [
             0.8888888888888888,
             "#fdca26"
            ],
            [
             1,
             "#f0f921"
            ]
           ]
          },
          "colorway": [
           "#636efa",
           "#EF553B",
           "#00cc96",
           "#ab63fa",
           "#FFA15A",
           "#19d3f3",
           "#FF6692",
           "#B6E880",
           "#FF97FF",
           "#FECB52"
          ],
          "font": {
           "color": "#2a3f5f"
          },
          "geo": {
           "bgcolor": "white",
           "lakecolor": "white",
           "landcolor": "#E5ECF6",
           "showlakes": true,
           "showland": true,
           "subunitcolor": "white"
          },
          "hoverlabel": {
           "align": "left"
          },
          "hovermode": "closest",
          "mapbox": {
           "style": "light"
          },
          "paper_bgcolor": "white",
          "plot_bgcolor": "#E5ECF6",
          "polar": {
           "angularaxis": {
            "gridcolor": "white",
            "linecolor": "white",
            "ticks": ""
           },
           "bgcolor": "#E5ECF6",
           "radialaxis": {
            "gridcolor": "white",
            "linecolor": "white",
            "ticks": ""
           }
          },
          "scene": {
           "xaxis": {
            "backgroundcolor": "#E5ECF6",
            "gridcolor": "white",
            "gridwidth": 2,
            "linecolor": "white",
            "showbackground": true,
            "ticks": "",
            "zerolinecolor": "white"
           },
           "yaxis": {
            "backgroundcolor": "#E5ECF6",
            "gridcolor": "white",
            "gridwidth": 2,
            "linecolor": "white",
            "showbackground": true,
            "ticks": "",
            "zerolinecolor": "white"
           },
           "zaxis": {
            "backgroundcolor": "#E5ECF6",
            "gridcolor": "white",
            "gridwidth": 2,
            "linecolor": "white",
            "showbackground": true,
            "ticks": "",
            "zerolinecolor": "white"
           }
          },
          "shapedefaults": {
           "line": {
            "color": "#2a3f5f"
           }
          },
          "ternary": {
           "aaxis": {
            "gridcolor": "white",
            "linecolor": "white",
            "ticks": ""
           },
           "baxis": {
            "gridcolor": "white",
            "linecolor": "white",
            "ticks": ""
           },
           "bgcolor": "#E5ECF6",
           "caxis": {
            "gridcolor": "white",
            "linecolor": "white",
            "ticks": ""
           }
          },
          "title": {
           "x": 0.05
          },
          "xaxis": {
           "automargin": true,
           "gridcolor": "white",
           "linecolor": "white",
           "ticks": "",
           "title": {
            "standoff": 15
           },
           "zerolinecolor": "white",
           "zerolinewidth": 2
          },
          "yaxis": {
           "automargin": true,
           "gridcolor": "white",
           "linecolor": "white",
           "ticks": "",
           "title": {
            "standoff": 15
           },
           "zerolinecolor": "white",
           "zerolinewidth": 2
          }
         }
        },
        "title": {
         "font": {
          "size": 20
         },
         "text": "All Solutions"
        },
        "updatemenus": [
         {
          "active": 0,
          "buttons": [
           {
            "args": [
             {
              "marker.color": [
               [
                "green",
                "pink",
                "yellow",
                "blue",
                "green",
                "pink",
                "yellow",
                "blue",
                "green",
                "pink",
                "yellow",
                "blue"
               ]
              ],
              "x": [
               [
                "Database Admin",
                "Web Designer",
                "Systems Engineer",
                "AI Engineer",
                "Database Admin",
                "Web Designer",
                "Systems Engineer",
                "AI Engineer",
                "Database Admin",
                "Web Designer",
                "Systems Engineer",
                "AI Engineer"
               ]
              ],
              "y": [
               [
                "Jane",
                "Anita",
                "Bruce",
                "Maria",
                "Jim",
                "Mary",
                "Juan",
                "Maria",
                "Jane",
                "Juan",
                "Mary",
                "Peter"
               ]
              ]
             },
             {
              "title": "All Solutions"
             }
            ],
            "label": "All Solutions",
            "method": "update"
           },
           {
            "args": [
             {
              "marker.color": [
               [
                "green",
                "pink",
                "yellow",
                "blue"
               ]
              ],
              "x": [
               [
                "Database Admin",
                "Web Designer",
                "Systems Engineer",
                "AI Engineer"
               ]
              ],
              "y": [
               [
                "Jane",
                "Anita",
                "Bruce",
                "Maria"
               ]
              ]
             },
             {
              "title": "Solution 1"
             }
            ],
            "label": "Solution 1",
            "method": "update"
           },
           {
            "args": [
             {
              "marker.color": [
               [
                "green",
                "pink",
                "yellow",
                "blue"
               ]
              ],
              "x": [
               [
                "Database Admin",
                "Web Designer",
                "Systems Engineer",
                "AI Engineer"
               ]
              ],
              "y": [
               [
                "Jim",
                "Mary",
                "Juan",
                "Maria"
               ]
              ]
             },
             {
              "title": "Solution 2"
             }
            ],
            "label": "Solution 2",
            "method": "update"
           },
           {
            "args": [
             {
              "marker.color": [
               [
                "green",
                "pink",
                "yellow",
                "blue"
               ]
              ],
              "x": [
               [
                "Database Admin",
                "Web Designer",
                "Systems Engineer",
                "AI Engineer"
               ]
              ],
              "y": [
               [
                "Jane",
                "Juan",
                "Mary",
                "Peter"
               ]
              ]
             },
             {
              "title": "Solution 3"
             }
            ],
            "label": "Solution 3",
            "method": "update"
           }
          ],
          "direction": "down",
          "showactive": true,
          "x": 0.1,
          "xanchor": "left",
          "y": 1.15,
          "yanchor": "top"
         }
        ],
        "xaxis": {
         "anchor": "y",
         "autorange": true,
         "categoryarray": [
          "Database Admin",
          "Web Designer",
          "Systems Engineer",
          "AI Engineer"
         ],
         "categoryorder": "array",
         "domain": [
          0,
          1
         ],
         "range": [
          -0.5,
          3.5
         ],
         "tickangle": 45,
         "title": {
          "text": "Roles"
         },
         "type": "category"
        },
        "yaxis": {
         "anchor": "x",
         "autorange": true,
         "domain": [
          0,
          1
         ],
         "range": [
          -0.7222222222222223,
          13.722222222222221
         ],
         "title": {
          "text": "Assigned Person"
         },
         "type": "category"
        }
       }
      },
      "image/png": "[encoded data removed]",
      "text/html": [
       "<div>                            <div id=\"652eec03-9d42-4214-896f-d6cc3987334d\" class=\"plotly-graph-div\" style=\"height:525px; width:100%;\"></div>            <script type=\"text/javascript\">                require([\"plotly\"], function(Plotly) {                    window.PLOTLYENV=window.PLOTLYENV || {};                                    if (document.getElementById(\"652eec03-9d42-4214-896f-d6cc3987334d\")) {                    Plotly.newPlot(                        \"652eec03-9d42-4214-896f-d6cc3987334d\",                        [{\"alignmentgroup\":\"True\",\"hovertemplate\":\"Job Roles=%{x}\\u003cbr\\u003eAssigned Person=%{y}\\u003cextra\\u003e\\u003c\\u002fextra\\u003e\",\"legendgroup\":\"Database Admin\",\"marker\":{\"color\":\"green\",\"pattern\":{\"shape\":\"\"}},\"name\":\"Database Admin\",\"offsetgroup\":\"Database Admin\",\"orientation\":\"v\",\"showlegend\":true,\"textposition\":\"auto\",\"x\":[\"Database Admin\",\"Database Admin\",\"Database Admin\"],\"xaxis\":\"x\",\"y\":[\"Jane\",\"Jim\",\"Jane\"],\"yaxis\":\"y\",\"type\":\"bar\"},{\"alignmentgroup\":\"True\",\"hovertemplate\":\"Job Roles=%{x}\\u003cbr\\u003eAssigned Person=%{y}\\u003cextra\\u003e\\u003c\\u002fextra\\u003e\",\"legendgroup\":\"Web Designer\",\"marker\":{\"color\":\"pink\",\"pattern\":{\"shape\":\"\"}},\"name\":\"Web Designer\",\"offsetgroup\":\"Web Designer\",\"orientation\":\"v\",\"showlegend\":true,\"textposition\":\"auto\",\"x\":[\"Web Designer\",\"Web Designer\",\"Web Designer\"],\"xaxis\":\"x\",\"y\":[\"Anita\",\"Mary\",\"Juan\"],\"yaxis\":\"y\",\"type\":\"bar\"},{\"alignmentgroup\":\"True\",\"hovertemplate\":\"Job Roles=%{x}\\u003cbr\\u003eAssigned Person=%{y}\\u003cextra\\u003e\\u003c\\u002fextra\\u003e\",\"legendgroup\":\"Systems Engineer\",\"marker\":{\"color\":\"yellow\",\"pattern\":{\"shape\":\"\"}},\"name\":\"Systems Engineer\",\"offsetgroup\":\"Systems Engineer\",\"orientation\":\"v\",\"showlegend\":true,\"textposition\":\"auto\",\"x\":[\"Systems Engineer\",\"Systems Engineer\",\"Systems Engineer\"],\"xaxis\":\"x\",\"y\":[\"Bruce\",\"Juan\",\"Mary\"],\"yaxis\":\"y\",\"type\":\"bar\"},{\"alignmentgroup\":\"True\",\"hovertemplate\":\"Job Roles=%{x}\\u003cbr\\u003eAssigned Person=%{y}\\u003cextra\\u003e\\u003c\\u002fextra\\u003e\",\"legendgroup\":\"AI Engineer\",\"marker\":{\"color\":\"blue\",\"pattern\":{\"shape\":\"\"}},\"name\":\"AI Engineer\",\"offsetgroup\":\"AI Engineer\",\"orientation\":\"v\",\"showlegend\":true,\"textposition\":\"auto\",\"x\":[\"AI Engineer\",\"AI Engineer\",\"AI Engineer\"],\"xaxis\":\"x\",\"y\":[\"Maria\",\"Maria\",\"Peter\"],\"yaxis\":\"y\",\"type\":\"bar\"}],                        {\"template\":{\"data\":{\"histogram2dcontour\":[{\"type\":\"histogram2dcontour\",\"colorbar\":{\"outlinewidth\":0,\"ticks\":\"\"},\"colorscale\":[[0.0,\"#0d0887\"],[0.1111111111111111,\"#46039f\"],[0.2222222222222222,\"#7201a8\"],[0.3333333333333333,\"#9c179e\"],[0.4444444444444444,\"#bd3786\"],[0.5555555555555556,\"#d8576b\"],[0.6666666666666666,\"#ed7953\"],[0.7777777777777778,\"#fb9f3a\"],[0.8888888888888888,\"#fdca26\"],[1.0,\"#f0f921\"]]}],\"choropleth\":[{\"type\":\"choropleth\",\"colorbar\":{\"outlinewidth\":0,\"ticks\":\"\"}}],\"histogram2d\":[{\"type\":\"histogram2d\",\"colorbar\":{\"outlinewidth\":0,\"ticks\":\"\"},\"colorscale\":[[0.0,\"#0d0887\"],[0.1111111111111111,\"#46039f\"],[0.2222222222222222,\"#7201a8\"],[0.3333333333333333,\"#9c179e\"],[0.4444444444444444,\"#bd3786\"],[0.5555555555555556,\"#d8576b\"],[0.6666666666666666,\"#ed7953\"],[0.7777777777777778,\"#fb9f3a\"],[0.8888888888888888,\"#fdca26\"],[1.0,\"#f0f921\"]]}],\"heatmap\":[{\"type\":\"heatmap\",\"colorbar\":{\"outlinewidth\":0,\"ticks\":\"\"},\"colorscale\":[[0.0,\"#0d0887\"],[0.1111111111111111,\"#46039f\"],[0.2222222222222222,\"#7201a8\"],[0.3333333333333333,\"#9c179e\"],[0.4444444444444444,\"#bd3786\"],[0.5555555555555556,\"#d8576b\"],[0.6666666666666666,\"#ed7953\"],[0.7777777777777778,\"#fb9f3a\"],[0.8888888888888888,\"#fdca26\"],[1.0,\"#f0f921\"]]}],\"heatmapgl\":[{\"type\":\"heatmapgl\",\"colorbar\":{\"outlinewidth\":0,\"ticks\":\"\"},\"colorscale\":[[0.0,\"#0d0887\"],[0.1111111111111111,\"#46039f\"],[0.2222222222222222,\"#7201a8\"],[0.3333333333333333,\"#9c179e\"],[0.4444444444444444,\"#bd3786\"],[0.5555555555555556,\"#d8576b\"],[0.6666666666666666,\"#ed7953\"],[0.7777777777777778,\"#fb9f3a\"],[0.8888888888888888,\"#fdca26\"],[1.0,\"#f0f921\"]]}],\"contourcarpet\":[{\"type\":\"contourcarpet\",\"colorbar\":{\"outlinewidth\":0,\"ticks\":\"\"}}],\"contour\":[{\"type\":\"contour\",\"colorbar\":{\"outlinewidth\":0,\"ticks\":\"\"},\"colorscale\":[[0.0,\"#0d0887\"],[0.1111111111111111,\"#46039f\"],[0.2222222222222222,\"#7201a8\"],[0.3333333333333333,\"#9c179e\"],[0.4444444444444444,\"#bd3786\"],[0.5555555555555556,\"#d8576b\"],[0.6666666666666666,\"#ed7953\"],[0.7777777777777778,\"#fb9f3a\"],[0.8888888888888888,\"#fdca26\"],[1.0,\"#f0f921\"]]}],\"surface\":[{\"type\":\"surface\",\"colorbar\":{\"outlinewidth\":0,\"ticks\":\"\"},\"colorscale\":[[0.0,\"#0d0887\"],[0.1111111111111111,\"#46039f\"],[0.2222222222222222,\"#7201a8\"],[0.3333333333333333,\"#9c179e\"],[0.4444444444444444,\"#bd3786\"],[0.5555555555555556,\"#d8576b\"],[0.6666666666666666,\"#ed7953\"],[0.7777777777777778,\"#fb9f3a\"],[0.8888888888888888,\"#fdca26\"],[1.0,\"#f0f921\"]]}],\"mesh3d\":[{\"type\":\"mesh3d\",\"colorbar\":{\"outlinewidth\":0,\"ticks\":\"\"}}],\"scatter\":[{\"fillpattern\":{\"fillmode\":\"overlay\",\"size\":10,\"solidity\":0.2},\"type\":\"scatter\"}],\"parcoords\":[{\"type\":\"parcoords\",\"line\":{\"colorbar\":{\"outlinewidth\":0,\"ticks\":\"\"}}}],\"scatterpolargl\":[{\"type\":\"scatterpolargl\",\"marker\":{\"colorbar\":{\"outlinewidth\":0,\"ticks\":\"\"}}}],\"bar\":[{\"error_x\":{\"color\":\"#2a3f5f\"},\"error_y\":{\"color\":\"#2a3f5f\"},\"marker\":{\"line\":{\"color\":\"#E5ECF6\",\"width\":0.5},\"pattern\":{\"fillmode\":\"overlay\",\"size\":10,\"solidity\":0.2}},\"type\":\"bar\"}],\"scattergeo\":[{\"type\":\"scattergeo\",\"marker\":{\"colorbar\":{\"outlinewidth\":0,\"ticks\":\"\"}}}],\"scatterpolar\":[{\"type\":\"scatterpolar\",\"marker\":{\"colorbar\":{\"outlinewidth\":0,\"ticks\":\"\"}}}],\"histogram\":[{\"marker\":{\"pattern\":{\"fillmode\":\"overlay\",\"size\":10,\"solidity\":0.2}},\"type\":\"histogram\"}],\"scattergl\":[{\"type\":\"scattergl\",\"marker\":{\"colorbar\":{\"outlinewidth\":0,\"ticks\":\"\"}}}],\"scatter3d\":[{\"type\":\"scatter3d\",\"line\":{\"colorbar\":{\"outlinewidth\":0,\"ticks\":\"\"}},\"marker\":{\"colorbar\":{\"outlinewidth\":0,\"ticks\":\"\"}}}],\"scattermapbox\":[{\"type\":\"scattermapbox\",\"marker\":{\"colorbar\":{\"outlinewidth\":0,\"ticks\":\"\"}}}],\"scatterternary\":[{\"type\":\"scatterternary\",\"marker\":{\"colorbar\":{\"outlinewidth\":0,\"ticks\":\"\"}}}],\"scattercarpet\":[{\"type\":\"scattercarpet\",\"marker\":{\"colorbar\":{\"outlinewidth\":0,\"ticks\":\"\"}}}],\"carpet\":[{\"aaxis\":{\"endlinecolor\":\"#2a3f5f\",\"gridcolor\":\"white\",\"linecolor\":\"white\",\"minorgridcolor\":\"white\",\"startlinecolor\":\"#2a3f5f\"},\"baxis\":{\"endlinecolor\":\"#2a3f5f\",\"gridcolor\":\"white\",\"linecolor\":\"white\",\"minorgridcolor\":\"white\",\"startlinecolor\":\"#2a3f5f\"},\"type\":\"carpet\"}],\"table\":[{\"cells\":{\"fill\":{\"color\":\"#EBF0F8\"},\"line\":{\"color\":\"white\"}},\"header\":{\"fill\":{\"color\":\"#C8D4E3\"},\"line\":{\"color\":\"white\"}},\"type\":\"table\"}],\"barpolar\":[{\"marker\":{\"line\":{\"color\":\"#E5ECF6\",\"width\":0.5},\"pattern\":{\"fillmode\":\"overlay\",\"size\":10,\"solidity\":0.2}},\"type\":\"barpolar\"}],\"pie\":[{\"automargin\":true,\"type\":\"pie\"}]},\"layout\":{\"autotypenumbers\":\"strict\",\"colorway\":[\"#636efa\",\"#EF553B\",\"#00cc96\",\"#ab63fa\",\"#FFA15A\",\"#19d3f3\",\"#FF6692\",\"#B6E880\",\"#FF97FF\",\"#FECB52\"],\"font\":{\"color\":\"#2a3f5f\"},\"hovermode\":\"closest\",\"hoverlabel\":{\"align\":\"left\"},\"paper_bgcolor\":\"white\",\"plot_bgcolor\":\"#E5ECF6\",\"polar\":{\"bgcolor\":\"#E5ECF6\",\"angularaxis\":{\"gridcolor\":\"white\",\"linecolor\":\"white\",\"ticks\":\"\"},\"radialaxis\":{\"gridcolor\":\"white\",\"linecolor\":\"white\",\"ticks\":\"\"}},\"ternary\":{\"bgcolor\":\"#E5ECF6\",\"aaxis\":{\"gridcolor\":\"white\",\"linecolor\":\"white\",\"ticks\":\"\"},\"baxis\":{\"gridcolor\":\"white\",\"linecolor\":\"white\",\"ticks\":\"\"},\"caxis\":{\"gridcolor\":\"white\",\"linecolor\":\"white\",\"ticks\":\"\"}},\"coloraxis\":{\"colorbar\":{\"outlinewidth\":0,\"ticks\":\"\"}},\"colorscale\":{\"sequential\":[[0.0,\"#0d0887\"],[0.1111111111111111,\"#46039f\"],[0.2222222222222222,\"#7201a8\"],[0.3333333333333333,\"#9c179e\"],[0.4444444444444444,\"#bd3786\"],[0.5555555555555556,\"#d8576b\"],[0.6666666666666666,\"#ed7953\"],[0.7777777777777778,\"#fb9f3a\"],[0.8888888888888888,\"#fdca26\"],[1.0,\"#f0f921\"]],\"sequentialminus\":[[0.0,\"#0d0887\"],[0.1111111111111111,\"#46039f\"],[0.2222222222222222,\"#7201a8\"],[0.3333333333333333,\"#9c179e\"],[0.4444444444444444,\"#bd3786\"],[0.5555555555555556,\"#d8576b\"],[0.6666666666666666,\"#ed7953\"],[0.7777777777777778,\"#fb9f3a\"],[0.8888888888888888,\"#fdca26\"],[1.0,\"#f0f921\"]],\"diverging\":[[0,\"#8e0152\"],[0.1,\"#c51b7d\"],[0.2,\"#de77ae\"],[0.3,\"#f1b6da\"],[0.4,\"#fde0ef\"],[0.5,\"#f7f7f7\"],[0.6,\"#e6f5d0\"],[0.7,\"#b8e186\"],[0.8,\"#7fbc41\"],[0.9,\"#4d9221\"],[1,\"#276419\"]]},\"xaxis\":{\"gridcolor\":\"white\",\"linecolor\":\"white\",\"ticks\":\"\",\"title\":{\"standoff\":15},\"zerolinecolor\":\"white\",\"automargin\":true,\"zerolinewidth\":2},\"yaxis\":{\"gridcolor\":\"white\",\"linecolor\":\"white\",\"ticks\":\"\",\"title\":{\"standoff\":15},\"zerolinecolor\":\"white\",\"automargin\":true,\"zerolinewidth\":2},\"scene\":{\"xaxis\":{\"backgroundcolor\":\"#E5ECF6\",\"gridcolor\":\"white\",\"linecolor\":\"white\",\"showbackground\":true,\"ticks\":\"\",\"zerolinecolor\":\"white\",\"gridwidth\":2},\"yaxis\":{\"backgroundcolor\":\"#E5ECF6\",\"gridcolor\":\"white\",\"linecolor\":\"white\",\"showbackground\":true,\"ticks\":\"\",\"zerolinecolor\":\"white\",\"gridwidth\":2},\"zaxis\":{\"backgroundcolor\":\"#E5ECF6\",\"gridcolor\":\"white\",\"linecolor\":\"white\",\"showbackground\":true,\"ticks\":\"\",\"zerolinecolor\":\"white\",\"gridwidth\":2}},\"shapedefaults\":{\"line\":{\"color\":\"#2a3f5f\"}},\"annotationdefaults\":{\"arrowcolor\":\"#2a3f5f\",\"arrowhead\":0,\"arrowwidth\":1},\"geo\":{\"bgcolor\":\"white\",\"landcolor\":\"#E5ECF6\",\"subunitcolor\":\"white\",\"showland\":true,\"showlakes\":true,\"lakecolor\":\"white\"},\"title\":{\"x\":0.05},\"mapbox\":{\"style\":\"light\"}}},\"xaxis\":{\"anchor\":\"y\",\"domain\":[0.0,1.0],\"title\":{\"text\":\"Roles\"},\"categoryorder\":\"array\",\"categoryarray\":[\"Database Admin\",\"Web Designer\",\"Systems Engineer\",\"AI Engineer\"],\"tickangle\":45},\"yaxis\":{\"anchor\":\"x\",\"domain\":[0.0,1.0],\"title\":{\"text\":\"Assigned Person\"}},\"legend\":{\"title\":{\"text\":\"Role\"},\"tracegroupgap\":0,\"itemclick\":false,\"itemdoubleclick\":false},\"title\":{\"text\":\"Interactive Bar Chart: All Solutions\",\"font\":{\"size\":20}},\"barmode\":\"group\",\"showlegend\":true,\"updatemenus\":[{\"buttons\":[{\"args\":[{\"x\":[[\"Database Admin\",\"Web Designer\",\"Systems Engineer\",\"AI Engineer\",\"Database Admin\",\"Web Designer\",\"Systems Engineer\",\"AI Engineer\",\"Database Admin\",\"Web Designer\",\"Systems Engineer\",\"AI Engineer\"]],\"y\":[[\"Jane\",\"Anita\",\"Bruce\",\"Maria\",\"Jim\",\"Mary\",\"Juan\",\"Maria\",\"Jane\",\"Juan\",\"Mary\",\"Peter\"]],\"marker.color\":[[\"green\",\"pink\",\"yellow\",\"blue\",\"green\",\"pink\",\"yellow\",\"blue\",\"green\",\"pink\",\"yellow\",\"blue\"]]},{\"title\":\"All Solutions\"}],\"label\":\"All Solutions\",\"method\":\"update\"},{\"args\":[{\"x\":[[\"Database Admin\",\"Web Designer\",\"Systems Engineer\",\"AI Engineer\"]],\"y\":[[\"Jane\",\"Anita\",\"Bruce\",\"Maria\"]],\"marker.color\":[[\"green\",\"pink\",\"yellow\",\"blue\"]]},{\"title\":\"Solution 1\"}],\"label\":\"Solution 1\",\"method\":\"update\"},{\"args\":[{\"x\":[[\"Database Admin\",\"Web Designer\",\"Systems Engineer\",\"AI Engineer\"]],\"y\":[[\"Jim\",\"Mary\",\"Juan\",\"Maria\"]],\"marker.color\":[[\"green\",\"pink\",\"yellow\",\"blue\"]]},{\"title\":\"Solution 2\"}],\"label\":\"Solution 2\",\"method\":\"update\"},{\"args\":[{\"x\":[[\"Database Admin\",\"Web Designer\",\"Systems Engineer\",\"AI Engineer\"]],\"y\":[[\"Jane\",\"Juan\",\"Mary\",\"Peter\"]],\"marker.color\":[[\"green\",\"pink\",\"yellow\",\"blue\"]]},{\"title\":\"Solution 3\"}],\"label\":\"Solution 3\",\"method\":\"update\"}],\"direction\":\"down\",\"showactive\":true,\"x\":0.1,\"xanchor\":\"left\",\"y\":1.15,\"yanchor\":\"top\"}]},                        {\"responsive\": true}                    ).then(function(){\n",
       "                            \n",
       "var gd = document.getElementById('652eec03-9d42-4214-896f-d6cc3987334d');\n",
       "var x = new MutationObserver(function (mutations, observer) {{\n",
       "        var display = window.getComputedStyle(gd).display;\n",
       "        if (!display || display === 'none') {{\n",
       "            console.log([gd, 'removed!']);\n",
       "            Plotly.purge(gd);\n",
       "            observer.disconnect();\n",
       "        }}\n",
       "}});\n",
       "\n",
       "// Listen for the removal of the full notebook cells\n",
       "var notebookContainer = gd.closest('#notebook-container');\n",
       "if (notebookContainer) {{\n",
       "    x.observe(notebookContainer, {childList: true});\n",
       "}}\n",
       "\n",
       "// Listen for the clearing of the current output cell\n",
       "var outputEl = gd.closest('.output');\n",
       "if (outputEl) {{\n",
       "    x.observe(outputEl, {childList: true});\n",
       "}}\n",
       "\n",
       "                        })                };                });            </script>        </div>"
      ]
     },
     "metadata": {},
     "output_type": "display_data"
    }
   ],
   "source": [
    "import plotly.express as px\n",
    "import pandas as pd\n",
    "\n",
    "# Sample data for solutions and role allocations\n",
    "data = [\n",
    "    {'Solution': 'Solution 1', 'Role': 'Database Admin', 'Person': 'Jane'},\n",
    "    {'Solution': 'Solution 1', 'Role': 'Web Designer', 'Person': 'Anita'},\n",
    "    {'Solution': 'Solution 1', 'Role': 'Systems Engineer', 'Person': 'Bruce'},\n",
    "    {'Solution': 'Solution 1', 'Role': 'AI Engineer', 'Person': 'Maria'},\n",
    "    {'Solution': 'Solution 2', 'Role': 'Database Admin', 'Person': 'Jim'},\n",
    "    {'Solution': 'Solution 2', 'Role': 'Web Designer', 'Person': 'Mary'},\n",
    "    {'Solution': 'Solution 2', 'Role': 'Systems Engineer', 'Person': 'Juan'},\n",
    "    {'Solution': 'Solution 2', 'Role': 'AI Engineer', 'Person': 'Maria'},\n",
    "    {'Solution': 'Solution 3', 'Role': 'Database Admin', 'Person': 'Jane'},\n",
    "    {'Solution': 'Solution 3', 'Role': 'Web Designer', 'Person': 'Juan'},\n",
    "    {'Solution': 'Solution 3', 'Role': 'Systems Engineer', 'Person': 'Mary'},\n",
    "    {'Solution': 'Solution 3', 'Role': 'AI Engineer', 'Person': 'Peter'}\n",
    "]\n",
    "\n",
    "# Convert data to DataFrame\n",
    "df = pd.DataFrame(data)\n",
    "\n",
    "# Define a custom color map for roles\n",
    "role_color_map = {\n",
    "    'Database Admin': 'green',\n",
    "    'Web Designer': 'pink',\n",
    "    'Systems Engineer': 'yellow',\n",
    "    'AI Engineer': 'blue'\n",
    "}\n",
    "\n",
    "# Create a function to generate the figure based on the selected solution\n",
    "def create_figure(selected_solution):\n",
    "    if selected_solution == 'All Solutions':\n",
    "        filtered_df = df\n",
    "        title = \"All Solutions\"\n",
    "    else:\n",
    "        filtered_df = df[df['Solution'] == selected_solution]\n",
    "        title = f\"{selected_solution}\"\n",
    "\n",
    "    fig = px.bar(\n",
    "        filtered_df,\n",
    "        x='Role',\n",
    "        y='Person',\n",
    "        color='Role',  # Set color based on Role\n",
    "        barmode='group',\n",
    "        color_discrete_map=role_color_map,  # Apply custom color map\n",
    "        title=title,\n",
    "        labels={'Role': 'Job Roles', 'Person': 'Assigned Person'}\n",
    "    )\n",
    "\n",
    "    fig.update_layout(\n",
    "        title=dict(text=f\"Interactive Bar Chart: {title}\", font=dict(size=20)),\n",
    "        xaxis=dict(title=\"Roles\", tickangle=45),  # Allow diagonal role names\n",
    "        yaxis_title=\"Assigned Person\",\n",
    "        legend_title=\"Role\",\n",
    "        template=\"plotly\",\n",
    "        showlegend=True,\n",
    "        legend_itemclick=False,        # Disable single-click interactions\n",
    "        legend_itemdoubleclick=False   # Disable double-click interactions\n",
    "    )\n",
    "\n",
    "    return fig\n",
    "\n",
    "# Create initial figure with all solutions\n",
    "fig = create_figure('All Solutions')\n",
    "\n",
    "# Add dropdown for filtering solutions\n",
    "fig.update_layout(\n",
    "    updatemenus=[\n",
    "        dict(\n",
    "            buttons=[\n",
    "                dict(\n",
    "                    label=\"All Solutions\",\n",
    "                    method=\"update\",\n",
    "                    args=[{\"x\": [df['Role']],\n",
    "                           \"y\": [df['Person']],\n",
    "                           \"marker.color\": [df['Role'].map(role_color_map)]},\n",
    "                          {\"title\": \"All Solutions\"}]\n",
    "                ),\n",
    "                dict(\n",
    "                    label=\"Solution 1\",\n",
    "                    method=\"update\",\n",
    "                    args=[{\"x\": [df[df['Solution'] == 'Solution 1']['Role']],\n",
    "                           \"y\": [df[df['Solution'] == 'Solution 1']['Person']],\n",
    "                           \"marker.color\": [df[df['Solution'] == 'Solution 1']['Role'].map(role_color_map)]},\n",
    "                          {\"title\": \"Solution 1\"}]\n",
    "                ),\n",
    "                dict(\n",
    "                    label=\"Solution 2\",\n",
    "                    method=\"update\",\n",
    "                    args=[{\"x\": [df[df['Solution'] == 'Solution 2']['Role']],\n",
    "                           \"y\": [df[df['Solution'] == 'Solution 2']['Person']],\n",
    "                           \"marker.color\": [df[df['Solution'] == 'Solution 2']['Role'].map(role_color_map)]},\n",
    "                          {\"title\": \"Solution 2\"}]\n",
    "                ),\n",
    "                dict(\n",
    "                    label=\"Solution 3\",\n",
    "                    method=\"update\",\n",
    "                    args=[{\"x\": [df[df['Solution'] == 'Solution 3']['Role']],\n",
    "                           \"y\": [df[df['Solution'] == 'Solution 3']['Person']],\n",
    "                           \"marker.color\": [df[df['Solution'] == 'Solution 3']['Role'].map(role_color_map)]},\n",
    "                          {\"title\": \"Solution 3\"}]\n",
    "                ),\n",
    "            ],\n",
    "            direction=\"down\",\n",
    "            showactive=True,\n",
    "            x=0.1,\n",
    "            xanchor=\"left\",\n",
    "            y=1.15,\n",
    "            yanchor=\"top\"\n",
    "        )\n",
    "    ]\n",
    ")\n",
    "\n",
    "# Show the chart\n",
    "fig.show()\n"
   ]
  },
  {
   "cell_type": "code",
   "execution_count": null,
   "id": "54194980-b3e4-42d2-9d25-978a6315f493",
   "metadata": {},
   "outputs": [],
   "source": []
  }
 ],
 "metadata": {
  "kernelspec": {
   "display_name": "Python 3 (ipykernel)",
   "language": "python",
   "name": "python3"
  },
  "language_info": {
   "codemirror_mode": {
    "name": "ipython",
    "version": 3
   },
   "file_extension": ".py",
   "mimetype": "text/x-python",
   "name": "python",
   "nbconvert_exporter": "python",
   "pygments_lexer": "ipython3",
   "version": "3.12.4"
  }
 },
 "nbformat": 4,
 "nbformat_minor": 5
}
