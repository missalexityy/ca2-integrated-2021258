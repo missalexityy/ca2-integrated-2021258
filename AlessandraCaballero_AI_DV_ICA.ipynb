{
 "cells": [
  {
   "cell_type": "code",
   "execution_count": 23,
   "id": "fa332de3-6272-4feb-9296-f6462d9953ce",
   "metadata": {},
   "outputs": [
    {
     "name": "stdout",
     "output_type": "stream",
     "text": [
      "Requirement already satisfied: python-constraint in c:\\users\\lssnd\\anaconda3\\lib\\site-packages (1.4.0)\n",
      "Note: you may need to restart the kernel to use updated packages.\n"
     ]
    }
   ],
   "source": [
    "pip install python-constraint\n"
   ]
  },
  {
   "cell_type": "markdown",
   "id": "2e39cf9a-6d9d-4c0b-91a1-b756dfe21ac5",
   "metadata": {},
   "source": [
    "## Scenario 1"
   ]
  },
  {
   "cell_type": "code",
   "execution_count": 7,
   "id": "e282c4c3-c5bf-44af-838d-a8277a5cf02d",
   "metadata": {},
   "outputs": [
    {
     "name": "stdout",
     "output_type": "stream",
     "text": [
      "Possible Assignments for Scenario 1:\n",
      "\n",
      "Solution 1:\n",
      " - Database Admin: Jane\n",
      " - Web Designer: Anita\n",
      " - Systems Engineer: Bruce\n",
      " - AI Engineer: Maria\n",
      "\n",
      "\n",
      "Solution 2:\n",
      " - Database Admin: Jane\n",
      " - Web Designer: Anita\n",
      " - Systems Engineer: Bruce\n",
      " - AI Engineer: Jim\n",
      "\n",
      "\n",
      "Solution 3:\n",
      " - Database Admin: Jane\n",
      " - Web Designer: Anita\n",
      " - Systems Engineer: Bruce\n",
      " - AI Engineer: Juan\n",
      "\n",
      "\n",
      "Solution 4:\n",
      " - Database Admin: Jane\n",
      " - Web Designer: Anita\n",
      " - Systems Engineer: Bruce\n",
      " - AI Engineer: Peter\n",
      "\n",
      "\n",
      "Solution 5:\n",
      " - Database Admin: Jane\n",
      " - Web Designer: Anita\n",
      " - Systems Engineer: Mary\n",
      " - AI Engineer: Maria\n",
      "\n",
      "\n",
      "Solution 6:\n",
      " - Database Admin: Jane\n",
      " - Web Designer: Anita\n",
      " - Systems Engineer: Mary\n",
      " - AI Engineer: Jim\n",
      "\n",
      "\n",
      "Solution 7:\n",
      " - Database Admin: Jane\n",
      " - Web Designer: Anita\n",
      " - Systems Engineer: Mary\n",
      " - AI Engineer: Juan\n",
      "\n",
      "\n",
      "Solution 8:\n",
      " - Database Admin: Jane\n",
      " - Web Designer: Anita\n",
      " - Systems Engineer: Mary\n",
      " - AI Engineer: Peter\n",
      "\n",
      "\n",
      "Solution 9:\n",
      " - Database Admin: Jane\n",
      " - Web Designer: Anita\n",
      " - Systems Engineer: Jim\n",
      " - AI Engineer: Maria\n",
      "\n",
      "\n",
      "Solution 10:\n",
      " - Database Admin: Jane\n",
      " - Web Designer: Anita\n",
      " - Systems Engineer: Jim\n",
      " - AI Engineer: Juan\n",
      "\n",
      "\n",
      "Solution 11:\n",
      " - Database Admin: Jane\n",
      " - Web Designer: Anita\n",
      " - Systems Engineer: Jim\n",
      " - AI Engineer: Peter\n",
      "\n",
      "\n",
      "Solution 12:\n",
      " - Database Admin: Jane\n",
      " - Web Designer: Anita\n",
      " - Systems Engineer: Juan\n",
      " - AI Engineer: Jim\n",
      "\n",
      "\n",
      "Solution 13:\n",
      " - Database Admin: Jane\n",
      " - Web Designer: Anita\n",
      " - Systems Engineer: Juan\n",
      " - AI Engineer: Maria\n",
      "\n",
      "\n",
      "Solution 14:\n",
      " - Database Admin: Jane\n",
      " - Web Designer: Anita\n",
      " - Systems Engineer: Juan\n",
      " - AI Engineer: Peter\n",
      "\n",
      "\n",
      "Solution 15:\n",
      " - Database Admin: Jane\n",
      " - Web Designer: Mary\n",
      " - Systems Engineer: Bruce\n",
      " - AI Engineer: Anita\n",
      "\n",
      "\n",
      "Solution 16:\n",
      " - Database Admin: Jane\n",
      " - Web Designer: Mary\n",
      " - Systems Engineer: Bruce\n",
      " - AI Engineer: Juan\n",
      "\n",
      "\n",
      "Solution 17:\n",
      " - Database Admin: Jane\n",
      " - Web Designer: Mary\n",
      " - Systems Engineer: Bruce\n",
      " - AI Engineer: Jim\n",
      "\n",
      "\n",
      "Solution 18:\n",
      " - Database Admin: Jane\n",
      " - Web Designer: Mary\n",
      " - Systems Engineer: Bruce\n",
      " - AI Engineer: Maria\n",
      "\n",
      "\n",
      "Solution 19:\n",
      " - Database Admin: Jane\n",
      " - Web Designer: Mary\n",
      " - Systems Engineer: Bruce\n",
      " - AI Engineer: Peter\n",
      "\n",
      "\n",
      "Solution 20:\n",
      " - Database Admin: Jane\n",
      " - Web Designer: Mary\n",
      " - Systems Engineer: Jim\n",
      " - AI Engineer: Anita\n",
      "\n",
      "\n",
      "Solution 21:\n",
      " - Database Admin: Jane\n",
      " - Web Designer: Mary\n",
      " - Systems Engineer: Jim\n",
      " - AI Engineer: Juan\n",
      "\n",
      "\n",
      "Solution 22:\n",
      " - Database Admin: Jane\n",
      " - Web Designer: Mary\n",
      " - Systems Engineer: Jim\n",
      " - AI Engineer: Maria\n",
      "\n",
      "\n",
      "Solution 23:\n",
      " - Database Admin: Jane\n",
      " - Web Designer: Mary\n",
      " - Systems Engineer: Jim\n",
      " - AI Engineer: Peter\n",
      "\n",
      "\n",
      "Solution 24:\n",
      " - Database Admin: Jane\n",
      " - Web Designer: Mary\n",
      " - Systems Engineer: Juan\n",
      " - AI Engineer: Jim\n",
      "\n",
      "\n",
      "Solution 25:\n",
      " - Database Admin: Jane\n",
      " - Web Designer: Mary\n",
      " - Systems Engineer: Juan\n",
      " - AI Engineer: Anita\n",
      "\n",
      "\n",
      "Solution 26:\n",
      " - Database Admin: Jane\n",
      " - Web Designer: Mary\n",
      " - Systems Engineer: Juan\n",
      " - AI Engineer: Maria\n",
      "\n",
      "\n",
      "Solution 27:\n",
      " - Database Admin: Jane\n",
      " - Web Designer: Mary\n",
      " - Systems Engineer: Juan\n",
      " - AI Engineer: Peter\n",
      "\n",
      "\n",
      "Solution 28:\n",
      " - Database Admin: Jane\n",
      " - Web Designer: Juan\n",
      " - Systems Engineer: Bruce\n",
      " - AI Engineer: Jim\n",
      "\n",
      "\n",
      "Solution 29:\n",
      " - Database Admin: Jane\n",
      " - Web Designer: Juan\n",
      " - Systems Engineer: Bruce\n",
      " - AI Engineer: Anita\n",
      "\n",
      "\n",
      "Solution 30:\n",
      " - Database Admin: Jane\n",
      " - Web Designer: Juan\n",
      " - Systems Engineer: Bruce\n",
      " - AI Engineer: Maria\n",
      "\n",
      "\n",
      "Solution 31:\n",
      " - Database Admin: Jane\n",
      " - Web Designer: Juan\n",
      " - Systems Engineer: Bruce\n",
      " - AI Engineer: Peter\n",
      "\n",
      "\n",
      "Solution 32:\n",
      " - Database Admin: Jane\n",
      " - Web Designer: Juan\n",
      " - Systems Engineer: Mary\n",
      " - AI Engineer: Jim\n",
      "\n",
      "\n",
      "Solution 33:\n",
      " - Database Admin: Jane\n",
      " - Web Designer: Juan\n",
      " - Systems Engineer: Mary\n",
      " - AI Engineer: Anita\n",
      "\n",
      "\n",
      "Solution 34:\n",
      " - Database Admin: Jane\n",
      " - Web Designer: Juan\n",
      " - Systems Engineer: Mary\n",
      " - AI Engineer: Maria\n",
      "\n",
      "\n",
      "Solution 35:\n",
      " - Database Admin: Jane\n",
      " - Web Designer: Juan\n",
      " - Systems Engineer: Mary\n",
      " - AI Engineer: Peter\n",
      "\n",
      "\n",
      "Solution 36:\n",
      " - Database Admin: Jane\n",
      " - Web Designer: Juan\n",
      " - Systems Engineer: Jim\n",
      " - AI Engineer: Anita\n",
      "\n",
      "\n",
      "Solution 37:\n",
      " - Database Admin: Jane\n",
      " - Web Designer: Juan\n",
      " - Systems Engineer: Jim\n",
      " - AI Engineer: Maria\n",
      "\n",
      "\n",
      "Solution 38:\n",
      " - Database Admin: Jane\n",
      " - Web Designer: Juan\n",
      " - Systems Engineer: Jim\n",
      " - AI Engineer: Peter\n",
      "\n",
      "\n",
      "Solution 39:\n",
      " - Database Admin: Jim\n",
      " - Web Designer: Anita\n",
      " - Systems Engineer: Bruce\n",
      " - AI Engineer: Juan\n",
      "\n",
      "\n",
      "Solution 40:\n",
      " - Database Admin: Jim\n",
      " - Web Designer: Anita\n",
      " - Systems Engineer: Bruce\n",
      " - AI Engineer: Maria\n",
      "\n",
      "\n",
      "Solution 41:\n",
      " - Database Admin: Jim\n",
      " - Web Designer: Anita\n",
      " - Systems Engineer: Bruce\n",
      " - AI Engineer: Peter\n",
      "\n",
      "\n",
      "Solution 42:\n",
      " - Database Admin: Jim\n",
      " - Web Designer: Anita\n",
      " - Systems Engineer: Mary\n",
      " - AI Engineer: Juan\n",
      "\n",
      "\n",
      "Solution 43:\n",
      " - Database Admin: Jim\n",
      " - Web Designer: Anita\n",
      " - Systems Engineer: Mary\n",
      " - AI Engineer: Maria\n",
      "\n",
      "\n",
      "Solution 44:\n",
      " - Database Admin: Jim\n",
      " - Web Designer: Anita\n",
      " - Systems Engineer: Mary\n",
      " - AI Engineer: Peter\n",
      "\n",
      "\n",
      "Solution 45:\n",
      " - Database Admin: Jim\n",
      " - Web Designer: Anita\n",
      " - Systems Engineer: Juan\n",
      " - AI Engineer: Maria\n",
      "\n",
      "\n",
      "Solution 46:\n",
      " - Database Admin: Jim\n",
      " - Web Designer: Anita\n",
      " - Systems Engineer: Juan\n",
      " - AI Engineer: Peter\n",
      "\n",
      "\n",
      "Solution 47:\n",
      " - Database Admin: Jim\n",
      " - Web Designer: Mary\n",
      " - Systems Engineer: Bruce\n",
      " - AI Engineer: Anita\n",
      "\n",
      "\n",
      "Solution 48:\n",
      " - Database Admin: Jim\n",
      " - Web Designer: Mary\n",
      " - Systems Engineer: Bruce\n",
      " - AI Engineer: Juan\n",
      "\n",
      "\n",
      "Solution 49:\n",
      " - Database Admin: Jim\n",
      " - Web Designer: Mary\n",
      " - Systems Engineer: Bruce\n",
      " - AI Engineer: Maria\n",
      "\n",
      "\n",
      "Solution 50:\n",
      " - Database Admin: Jim\n",
      " - Web Designer: Mary\n",
      " - Systems Engineer: Bruce\n",
      " - AI Engineer: Peter\n",
      "\n",
      "\n",
      "Solution 51:\n",
      " - Database Admin: Jim\n",
      " - Web Designer: Mary\n",
      " - Systems Engineer: Juan\n",
      " - AI Engineer: Anita\n",
      "\n",
      "\n",
      "Solution 52:\n",
      " - Database Admin: Jim\n",
      " - Web Designer: Mary\n",
      " - Systems Engineer: Juan\n",
      " - AI Engineer: Maria\n",
      "\n",
      "\n",
      "Solution 53:\n",
      " - Database Admin: Jim\n",
      " - Web Designer: Mary\n",
      " - Systems Engineer: Juan\n",
      " - AI Engineer: Peter\n",
      "\n",
      "\n",
      "Solution 54:\n",
      " - Database Admin: Jim\n",
      " - Web Designer: Juan\n",
      " - Systems Engineer: Bruce\n",
      " - AI Engineer: Anita\n",
      "\n",
      "\n",
      "Solution 55:\n",
      " - Database Admin: Jim\n",
      " - Web Designer: Juan\n",
      " - Systems Engineer: Bruce\n",
      " - AI Engineer: Maria\n",
      "\n",
      "\n",
      "Solution 56:\n",
      " - Database Admin: Jim\n",
      " - Web Designer: Juan\n",
      " - Systems Engineer: Bruce\n",
      " - AI Engineer: Peter\n",
      "\n",
      "\n",
      "Solution 57:\n",
      " - Database Admin: Jim\n",
      " - Web Designer: Juan\n",
      " - Systems Engineer: Mary\n",
      " - AI Engineer: Anita\n",
      "\n",
      "\n",
      "Solution 58:\n",
      " - Database Admin: Jim\n",
      " - Web Designer: Juan\n",
      " - Systems Engineer: Mary\n",
      " - AI Engineer: Maria\n",
      "\n",
      "\n",
      "Solution 59:\n",
      " - Database Admin: Jim\n",
      " - Web Designer: Juan\n",
      " - Systems Engineer: Mary\n",
      " - AI Engineer: Peter\n",
      "\n"
     ]
    }
   ],
   "source": [
    "from constraint import Problem\n",
    "\n",
    "#Define the Problem\n",
    "problem = Problem()\n",
    "\n",
    "#Variables (Positions to Fill)\n",
    "roles = [\"AI Engineer\", \"Systems Engineer\", \"Web Designer\", \"Database Admin\"]\n",
    "\n",
    "#Domains (Candidates for Each Role)\n",
    "candidates = {\n",
    "    \"AI Engineer\": [\"Peter\", \"Juan\", \"Jim\", \"Anita\", \"Maria\"],\n",
    "    \"Systems Engineer\": [\"Juan\", \"Jim\", \"Mary\", \"Bruce\"],\n",
    "    \"Web Designer\": [\"Juan\", \"Mary\", \"Anita\"],\n",
    "    \"Database Admin\": [\"Jim\", \"Jane\"]\n",
    "}\n",
    "\n",
    "#Add Variables to the Problem with Relevant Domains\n",
    "problem.addVariable(\"AI Engineer\", candidates[\"AI Engineer\"])\n",
    "problem.addVariable(\"Systems Engineer\", candidates[\"Systems Engineer\"])\n",
    "problem.addVariable(\"Web Designer\", candidates[\"Web Designer\"])\n",
    "problem.addVariable(\"Database Admin\", candidates[\"Database Admin\"])\n",
    "\n",
    "#Constraint 1: Unique Assignments (No Duplicate Candidates for Roles)\n",
    "def unique_candidates(*args):\n",
    "    return len(set(args)) == len(args)  #Ensure all assignments are unique\n",
    "\n",
    "problem.addConstraint(unique_candidates, roles)\n",
    "\n",
    "#Constraint 2: Max of Two Roles Per Candidate\n",
    "def max_roles(*assignments):\n",
    "    counts = {}\n",
    "    for candidate in assignments:\n",
    "        counts[candidate] = counts.get(candidate, 0) + 1\n",
    "    return all(count <= 2 for count in counts.values())\n",
    "\n",
    "problem.addConstraint(max_roles, roles)\n",
    "\n",
    "#Solve the CSP\n",
    "solutions = problem.getSolutions()\n",
    "\n",
    "#Display Results\n",
    "if solutions:\n",
    "    print(\"Possible Assignments for Scenario 1:\")\n",
    "    for i, solution in enumerate(solutions, 1):\n",
    "        print(f\"\\nSolution {i}:\")\n",
    "        for role, candidate in solution.items():\n",
    "            print(f\" - {role}: {candidate}\")\n",
    "        print(\"\")  #Adds a blank line after each solution\n",
    "else:\n",
    "    print(\"No valid solution found!\")\n"
   ]
  },
  {
   "cell_type": "markdown",
   "id": "b71a937f-6a84-44bf-84fe-4e32c091c7a3",
   "metadata": {},
   "source": [
    "## A* Algorithm Solution"
   ]
  },
  {
   "cell_type": "code",
   "execution_count": 3,
   "id": "db06d65a-0f9d-4430-80a6-10f5ae2a46fd",
   "metadata": {},
   "outputs": [],
   "source": [
    "import heapq"
   ]
  },
  {
   "cell_type": "code",
   "execution_count": 7,
   "id": "7e30695c-d485-4f1c-8cdd-87468f7c323e",
   "metadata": {},
   "outputs": [
    {
     "name": "stdout",
     "output_type": "stream",
     "text": [
      "Ideal Assignment: {'Database Admin': 'Jane', 'Web Designer': 'Jane', 'Systems Engineer': 'Bruce', 'AI Engineer': 'Anita'}\n"
     ]
    }
   ],
   "source": [
    "#Existing Data\n",
    "positions = [\"Database Admin\", \"Web Designer\", \"Systems Engineer\", \"AI Engineer\"]\n",
    "candidates = {\n",
    "    \"Jane\": [\"Database Admin\", \"Web Designer\"],\n",
    "    \"Anita\": [\"Web Designer\", \"AI Engineer\"],\n",
    "    \"Bruce\": [\"Systems Engineer\"],\n",
    "    \"Maria\": [\"AI Engineer\"],\n",
    "    \"Jim\": [\"AI Engineer\", \"Database Admin\"],\n",
    "    \"Mary\": [\"Systems Engineer\", \"Web Designer\"],\n",
    "    \"Juan\": [\"AI Engineer\", \"Web Designer\"],\n",
    "    \"Peter\": [\"AI Engineer\", \"Systems Engineer\"]\n",
    "}\n",
    "\n",
    "#Define A* Node\n",
    "class Node:\n",
    "    def __init__(self, assignment, cost, remaining_positions):\n",
    "        self.assignment = assignment\n",
    "        self.cost = cost\n",
    "        self.remaining_positions = remaining_positions\n",
    "\n",
    "    def __lt__(self, other):\n",
    "        return self.cost < other.cost\n",
    "\n",
    "#Heuristic Function: Counts unassigned positions (simplified example)\n",
    "def heuristic(remaining_positions):\n",
    "    return len(remaining_positions)\n",
    "\n",
    "#Constraint Check: Valid assignment\n",
    "def is_valid(assignment, position, candidate):\n",
    "    #Max 2 roles per person\n",
    "    if list(assignment.values()).count(candidate) >= 2:\n",
    "        return False\n",
    "    #Candidate must be qualified\n",
    "    return position in candidates[candidate]\n",
    "\n",
    "#Generate Successors\n",
    "def successors(node):\n",
    "    successors_list = []\n",
    "    for candidate in candidates.keys():\n",
    "        if node.remaining_positions:\n",
    "            position = node.remaining_positions[0]\n",
    "            if is_valid(node.assignment, position, candidate):\n",
    "                new_assignment = node.assignment.copy()\n",
    "                new_assignment[position] = candidate\n",
    "                new_remaining_positions = node.remaining_positions[1:]\n",
    "                new_cost = len(new_remaining_positions) + heuristic(new_remaining_positions)\n",
    "                successors_list.append(Node(new_assignment, new_cost, new_remaining_positions))\n",
    "    return successors_list\n",
    "\n",
    "#A* Algorithm\n",
    "def a_star_hiring(positions, candidates):\n",
    "    initial_node = Node({}, 0, positions)\n",
    "    frontier = []\n",
    "    heapq.heappush(frontier, initial_node)\n",
    "    \n",
    "    while frontier:\n",
    "        current_node = heapq.heappop(frontier)\n",
    "        \n",
    "        #Goal check\n",
    "        if not current_node.remaining_positions:\n",
    "            return current_node.assignment\n",
    "        \n",
    "        #Generate successors\n",
    "        for successor in successors(current_node):\n",
    "            heapq.heappush(frontier, successor)\n",
    "    \n",
    "    return None  #No solution\n",
    "\n",
    "#Run the A* Algorithm\n",
    "solution = a_star_hiring(positions, candidates)\n",
    "print(\"Ideal Assignment:\", solution)\n"
   ]
  },
  {
   "cell_type": "markdown",
   "id": "1404ca30-05b7-49a2-8c74-e4ca1ec0b4e7",
   "metadata": {},
   "source": [
    "## Visualising Scenario 1\n",
    "\n",
    "**Constraint Visualisation**:\n",
    "- Show candidates and their skill sets.\n",
    "- Illustrate domains for each role (e.g., candidates who qualify for each position).\n",
    "- Visualise constraints such as \"Max Roles per Person\" and \"One Role per Position.\"\n",
    "\n",
    "**Solution Visualisation**:\n",
    "- Represent the feasible solutions using tables, heatmaps, or bar charts.\n",
    "- Use a bar chart to show the distribution of roles across candidates.\n",
    "- Highlight the number of feasible solutions found."
   ]
  },
  {
   "cell_type": "markdown",
   "id": "cccd8dc8-60a0-47b1-9d5a-cfe24bcebee7",
   "metadata": {},
   "source": [
    "### Organise Data"
   ]
  },
  {
   "cell_type": "code",
   "execution_count": 37,
   "id": "d88f6ab6-e70b-4c83-ae12-2ce799fe1f33",
   "metadata": {},
   "outputs": [],
   "source": [
    "#List of all 59 solutions\n",
    "solutions = [\n",
    "    {'Database Admin': 'Jane', 'Web Designer': 'Anita', 'Systems Engineer': 'Bruce', 'AI Engineer': 'Maria'},\n",
    "    {'Database Admin': 'Jane', 'Web Designer': 'Anita', 'Systems Engineer': 'Bruce', 'AI Engineer': 'Jim'},\n",
    "    {'Database Admin': 'Jane', 'Web Designer': 'Anita', 'Systems Engineer': 'Bruce', 'AI Engineer': 'Juan'},\n",
    "    {'Database Admin': 'Jane', 'Web Designer': 'Anita', 'Systems Engineer': 'Bruce', 'AI Engineer': 'Peter'},\n",
    "    {'Database Admin': 'Jane', 'Web Designer': 'Anita', 'Systems Engineer': 'Mary', 'AI Engineer': 'Maria'},\n",
    "    {'Database Admin': 'Jane', 'Web Designer': 'Anita', 'Systems Engineer': 'Mary', 'AI Engineer': 'Jim'},\n",
    "    {'Database Admin': 'Jane', 'Web Designer': 'Anita', 'Systems Engineer': 'Mary', 'AI Engineer': 'Juan'},\n",
    "    {'Database Admin': 'Jane', 'Web Designer': 'Anita', 'Systems Engineer': 'Mary', 'AI Engineer': 'Peter'},\n",
    "    {'Database Admin': 'Jane', 'Web Designer': 'Anita', 'Systems Engineer': 'Jim', 'AI Engineer': 'Maria'},\n",
    "    {'Database Admin': 'Jane', 'Web Designer': 'Anita', 'Systems Engineer': 'Jim', 'AI Engineer': 'Juan'},\n",
    "    {'Database Admin': 'Jane', 'Web Designer': 'Anita', 'Systems Engineer': 'Jim', 'AI Engineer': 'Peter'},\n",
    "    {'Database Admin': 'Jane', 'Web Designer': 'Anita', 'Systems Engineer': 'Juan', 'AI Engineer': 'Jim'},\n",
    "    {'Database Admin': 'Jane', 'Web Designer': 'Anita', 'Systems Engineer': 'Juan', 'AI Engineer': 'Maria'},\n",
    "    {'Database Admin': 'Jane', 'Web Designer': 'Anita', 'Systems Engineer': 'Juan', 'AI Engineer': 'Peter'},\n",
    "    {'Database Admin': 'Jane', 'Web Designer': 'Mary', 'Systems Engineer': 'Bruce', 'AI Engineer': 'Anita'},\n",
    "    {'Database Admin': 'Jane', 'Web Designer': 'Mary', 'Systems Engineer': 'Bruce', 'AI Engineer': 'Juan'},\n",
    "    {'Database Admin': 'Jane', 'Web Designer': 'Mary', 'Systems Engineer': 'Bruce', 'AI Engineer': 'Jim'},\n",
    "    {'Database Admin': 'Jane', 'Web Designer': 'Mary', 'Systems Engineer': 'Bruce', 'AI Engineer': 'Maria'},\n",
    "    {'Database Admin': 'Jane', 'Web Designer': 'Mary', 'Systems Engineer': 'Bruce', 'AI Engineer': 'Peter'},\n",
    "    {'Database Admin': 'Jane', 'Web Designer': 'Mary', 'Systems Engineer': 'Jim', 'AI Engineer': 'Anita'},\n",
    "    {'Database Admin': 'Jane', 'Web Designer': 'Mary', 'Systems Engineer': 'Jim', 'AI Engineer': 'Juan'},\n",
    "    {'Database Admin': 'Jane', 'Web Designer': 'Mary', 'Systems Engineer': 'Jim', 'AI Engineer': 'Maria'},\n",
    "    {'Database Admin': 'Jane', 'Web Designer': 'Mary', 'Systems Engineer': 'Jim', 'AI Engineer': 'Peter'},\n",
    "    {'Database Admin': 'Jane', 'Web Designer': 'Mary', 'Systems Engineer': 'Juan', 'AI Engineer': 'Jim'},\n",
    "    {'Database Admin': 'Jane', 'Web Designer': 'Mary', 'Systems Engineer': 'Juan', 'AI Engineer': 'Anita'},\n",
    "    {'Database Admin': 'Jane', 'Web Designer': 'Mary', 'Systems Engineer': 'Juan', 'AI Engineer': 'Maria'},\n",
    "    {'Database Admin': 'Jane', 'Web Designer': 'Mary', 'Systems Engineer': 'Juan', 'AI Engineer': 'Peter'},\n",
    "    {'Database Admin': 'Jane', 'Web Designer': 'Juan', 'Systems Engineer': 'Bruce', 'AI Engineer': 'Jim'},\n",
    "    {'Database Admin': 'Jane', 'Web Designer': 'Juan', 'Systems Engineer': 'Bruce', 'AI Engineer': 'Anita'},\n",
    "    {'Database Admin': 'Jane', 'Web Designer': 'Juan', 'Systems Engineer': 'Bruce', 'AI Engineer': 'Maria'},\n",
    "    {'Database Admin': 'Jane', 'Web Designer': 'Juan', 'Systems Engineer': 'Bruce', 'AI Engineer': 'Peter'},\n",
    "    {'Database Admin': 'Jane', 'Web Designer': 'Juan', 'Systems Engineer': 'Mary', 'AI Engineer': 'Jim'},\n",
    "    {'Database Admin': 'Jane', 'Web Designer': 'Juan', 'Systems Engineer': 'Mary', 'AI Engineer': 'Anita'},\n",
    "    {'Database Admin': 'Jane', 'Web Designer': 'Juan', 'Systems Engineer': 'Mary', 'AI Engineer': 'Maria'},\n",
    "    {'Database Admin': 'Jane', 'Web Designer': 'Juan', 'Systems Engineer': 'Mary', 'AI Engineer': 'Peter'},\n",
    "    {'Database Admin': 'Jane', 'Web Designer': 'Juan', 'Systems Engineer': 'Jim', 'AI Engineer': 'Anita'},\n",
    "    {'Database Admin': 'Jane', 'Web Designer': 'Juan', 'Systems Engineer': 'Jim', 'AI Engineer': 'Maria'},\n",
    "    {'Database Admin': 'Jane', 'Web Designer': 'Juan', 'Systems Engineer': 'Jim', 'AI Engineer': 'Peter'},\n",
    "    {'Database Admin': 'Jim', 'Web Designer': 'Anita', 'Systems Engineer': 'Bruce', 'AI Engineer': 'Juan'},\n",
    "    {'Database Admin': 'Jim', 'Web Designer': 'Anita', 'Systems Engineer': 'Bruce', 'AI Engineer': 'Maria'},\n",
    "    {'Database Admin': 'Jim', 'Web Designer': 'Anita', 'Systems Engineer': 'Bruce', 'AI Engineer': 'Peter'},\n",
    "    {'Database Admin': 'Jim', 'Web Designer': 'Anita', 'Systems Engineer': 'Mary', 'AI Engineer': 'Juan'},\n",
    "    {'Database Admin': 'Jim', 'Web Designer': 'Anita', 'Systems Engineer': 'Mary', 'AI Engineer': 'Maria'},\n",
    "    {'Database Admin': 'Jim', 'Web Designer': 'Anita', 'Systems Engineer': 'Mary', 'AI Engineer': 'Peter'},\n",
    "    {'Database Admin': 'Jim', 'Web Designer': 'Anita', 'Systems Engineer': 'Juan', 'AI Engineer': 'Maria'},\n",
    "    {'Database Admin': 'Jim', 'Web Designer': 'Anita', 'Systems Engineer': 'Juan', 'AI Engineer': 'Peter'},\n",
    "    {'Database Admin': 'Jim', 'Web Designer': 'Mary', 'Systems Engineer': 'Bruce', 'AI Engineer': 'Anita'},\n",
    "    {'Database Admin': 'Jim', 'Web Designer': 'Mary', 'Systems Engineer': 'Bruce', 'AI Engineer': 'Juan'},\n",
    "    {'Database Admin': 'Jim', 'Web Designer': 'Mary', 'Systems Engineer': 'Bruce', 'AI Engineer': 'Maria'},\n",
    "    {'Database Admin': 'Jim', 'Web Designer': 'Mary', 'Systems Engineer': 'Bruce', 'AI Engineer': 'Peter'},\n",
    "    {'Database Admin': 'Jim', 'Web Designer': 'Mary', 'Systems Engineer': 'Juan', 'AI Engineer': 'Anita'},\n",
    "    {'Database Admin': 'Jim', 'Web Designer': 'Mary', 'Systems Engineer': 'Juan', 'AI Engineer': 'Maria'},\n",
    "    {'Database Admin': 'Jim', 'Web Designer': 'Mary', 'Systems Engineer': 'Juan', 'AI Engineer': 'Peter'},\n",
    "    {'Database Admin': 'Jim', 'Web Designer': 'Juan', 'Systems Engineer': 'Bruce', 'AI Engineer': 'Anita'},\n",
    "    {'Database Admin': 'Jim', 'Web Designer': 'Juan', 'Systems Engineer': 'Bruce', 'AI Engineer': 'Maria'},\n",
    "    {'Database Admin': 'Jim', 'Web Designer': 'Juan', 'Systems Engineer': 'Bruce', 'AI Engineer': 'Peter'},\n",
    "    {'Database Admin': 'Jim', 'Web Designer': 'Juan', 'Systems Engineer': 'Mary', 'AI Engineer': 'Anita'},\n",
    "    {'Database Admin': 'Jim', 'Web Designer': 'Juan', 'Systems Engineer': 'Mary', 'AI Engineer': 'Maria'},\n",
    "    {'Database Admin': 'Jim', 'Web Designer': 'Juan', 'Systems Engineer': 'Mary', 'AI Engineer': 'Peter'}\n",
    "]\n",
    "\n",
    "#Extract roles\n",
    "roles = ['Database Admin', 'Web Designer', 'Systems Engineer', 'AI Engineer']"
   ]
  },
  {
   "cell_type": "markdown",
   "id": "746b8f91-6004-483f-8c08-dfa6e94075fd",
   "metadata": {},
   "source": [
    "### Count Assignments"
   ]
  },
  {
   "cell_type": "code",
   "execution_count": 39,
   "id": "f86a3076-9d23-4a83-a90e-39372055358c",
   "metadata": {},
   "outputs": [
    {
     "name": "stdout",
     "output_type": "stream",
     "text": [
      "Database Admin: {'Jane': 38, 'Jim': 21}\n",
      "Web Designer: {'Anita': 22, 'Mary': 20, 'Juan': 17}\n",
      "Systems Engineer: {'Bruce': 23, 'Mary': 14, 'Jim': 10, 'Juan': 12}\n",
      "AI Engineer: {'Maria': 17, 'Jim': 7, 'Juan': 8, 'Peter': 17, 'Anita': 10}\n"
     ]
    }
   ],
   "source": [
    "from collections import Counter\n",
    "\n",
    "#Initialise counters for each role\n",
    "role_counts = {role: Counter() for role in roles}\n",
    "\n",
    "#Count occurrences\n",
    "for solution in solutions:\n",
    "    for role, individual in solution.items():\n",
    "        role_counts[role][individual] += 1\n",
    "\n",
    "#Print role counts\n",
    "for role, counts in role_counts.items():\n",
    "    print(f\"{role}: {dict(counts)}\")\n"
   ]
  },
  {
   "cell_type": "markdown",
   "id": "5646ee61-a667-495a-8231-669a00ebdb03",
   "metadata": {},
   "source": [
    "### Candidate Skills Heatmap\n",
    "Heatmap: To represent which candidates have the required skills for each position."
   ]
  },
  {
   "cell_type": "code",
   "execution_count": 5,
   "id": "cd18ec24-87e3-4946-ab5d-0c0b6129d33f",
   "metadata": {},
   "outputs": [],
   "source": [
    "import pandas as pd\n",
    "import seaborn as sns\n",
    "import matplotlib.pyplot as plt"
   ]
  },
  {
   "cell_type": "code",
   "execution_count": 64,
   "id": "4d292e21-cb46-4ca5-b384-d59852fe84a5",
   "metadata": {
    "scrolled": true
   },
   "outputs": [
    {
     "data": {
      "image/png": "[encoded data removed]",
      "text/plain": [
       "<Figure size 1200x600 with 2 Axes>"
      ]
     },
     "metadata": {},
     "output_type": "display_data"
    }
   ],
   "source": [
    "#Data(Candidates and their roles)\n",
    "candidates = {\n",
    "    \"Jane\": [\"Database Admin\", \"Python Programmer\"],\n",
    "    \"Jim\": [\"AI Engineer\", \"Python Programmer\"],\n",
    "    \"Anita\": [\"Web Designer\", \"Frontend Developer\"],\n",
    "    \"Maria\": [\"AI Engineer\", \"Data Scientist\"],\n",
    "    \"Juan\": [\"Systems Engineer\", \"DevOps Specialist\"],\n",
    "    \"Peter\": [\"AI Engineer\", \"Backend Developer\"],\n",
    "    \"Bruce\": [\"Systems Engineer\", \"Network Specialist\"],\n",
    "    \"Mary\": [\"Systems Engineer\", \"Project Manager\"]\n",
    "}\n",
    "\n",
    "#Define the roles that will be displayed in the heatmap\n",
    "roles = [\"Database Admin\", \"Web Designer\", \"Systems Engineer\", \"AI Engineer\", \"Python Programmer\"]\n",
    "\n",
    "#To create a binary matrix of skills for the heatmap\n",
    "skills_matrix = pd.DataFrame([\n",
    "    {role: int(role in skills) for role in roles} for skills in candidates.values()\n",
    "], index=candidates.keys())\n",
    "\n",
    "#Plot the heatmap\n",
    "plt.figure(figsize=(12, 6))\n",
    "sns.heatmap(skills_matrix, annot=True, cmap=\"RdYlBu\", cbar=True, linewidths=0.5)\n",
    "plt.title(\"Candidate Skills Heatmap\", fontsize=16, fontweight=\"bold\", pad=15)\n",
    "plt.xlabel(\"Skills\", fontsize=12)\n",
    "plt.ylabel(\"Candidates\", fontsize=12)\n",
    "plt.xticks(rotation=0, fontsize=10)\n",
    "plt.yticks(fontsize=10)\n",
    "plt.tight_layout()\n",
    "plt.show()"
   ]
  },
  {
   "cell_type": "markdown",
   "id": "aa49307c-c92c-48de-b045-48397ff78e59",
   "metadata": {},
   "source": [
    "###  Domain Representation for Each Role\n",
    "Bar chart: can display the domains (qualified candidates) for each position."
   ]
  },
  {
   "cell_type": "code",
   "execution_count": 18,
   "id": "6d1d9e1e-4510-4ba1-831a-ea1fa8481958",
   "metadata": {},
   "outputs": [],
   "source": [
    "import pandas as pd\n",
    "import seaborn as sns\n",
    "import matplotlib.pyplot as plt"
   ]
  },
  {
   "cell_type": "code",
   "execution_count": 34,
   "id": "538a9cfd-b492-4360-a69c-fedf74a59cfc",
   "metadata": {},
   "outputs": [
    {
     "data": {
      "image/png": "[encoded data removed]",
      "text/plain": [
       "<Figure size 1000x600 with 1 Axes>"
      ]
     },
     "metadata": {},
     "output_type": "display_data"
    }
   ],
   "source": [
    "#Data(Candidates and their skills)\n",
    "candidates = {\n",
    "    \"Jane\": [\"Database Admin\", \"Python Programmer\"],\n",
    "    \"Jim\": [\"AI Engineer\", \"Python Programmer\"],\n",
    "    \"Anita\": [\"Web Designer\", \"Frontend Developer\"],\n",
    "    \"Maria\": [\"AI Engineer\", \"Data Scientist\"],\n",
    "    \"Juan\": [\"Systems Engineer\", \"DevOps Specialist\"],\n",
    "    \"Peter\": [\"AI Engineer\", \"Backend Developer\"],\n",
    "    \"Bruce\": [\"Systems Engineer\", \"Network Specialist\"],\n",
    "    \"Mary\": [\"Systems Engineer\", \"Project Manager\"]\n",
    "}\n",
    "\n",
    "#To create a binary matrix of skills\n",
    "roles = [\"Database Admin\", \"Web Designer\", \"Systems Engineer\", \"AI Engineer\", \"Python Programmer\"]\n",
    "skills_matrix = pd.DataFrame([\n",
    "    {role: int(role in skills) for role in roles} for skills in candidates.values()\n",
    "], index=candidates.keys())\n",
    "\n",
    "#To count how many candidates are qualified for each role\n",
    "role_counts = skills_matrix.sum(axis=0)\n",
    "\n",
    "#Style and color palette for the chart\n",
    "sns.set_theme(style=\"whitegrid\")\n",
    "color_palette = sns.color_palette(\"coolwarm\", len(role_counts))\n",
    "\n",
    "#Plot the bar chart\n",
    "plt.figure(figsize=(10, 6))\n",
    "role_counts.sort_values().plot(\n",
    "    kind=\"barh\",  #Horizontal bar chart for better readability\n",
    "    color=color_palette,\n",
    "    alpha=0.85,\n",
    "    edgecolor=\"black\",\n",
    "    linewidth=1\n",
    ")\n",
    "\n",
    "#Add titles and labels with consistent styling\n",
    "plt.title(\"Domain Representation for Each Role\", fontsize=16, fontweight=\"bold\", pad=15)\n",
    "plt.xlabel(\"Number of Qualified Candidates\", fontsize=12)\n",
    "plt.ylabel(\"Roles\", fontsize=12)\n",
    "plt.xticks(fontsize=10)\n",
    "plt.yticks(fontsize=10)\n",
    "\n",
    "#Gridlines for clarity\n",
    "plt.grid(axis=\"x\", linestyle=\"--\", linewidth=0.5, alpha=0.7)\n",
    "\n",
    "#Tighten the layout and show the chart\n",
    "plt.tight_layout()\n",
    "plt.show()"
   ]
  },
  {
   "cell_type": "markdown",
   "id": "aed0d20e-667b-47a2-90df-7b60521a46e8",
   "metadata": {},
   "source": [
    "### Role Distribution and Requirements\n",
    "Stacked Bar Chart: To show the required roles (Python Programmers, AI Engineers, Web Designer, Database Admin, Systems Engineer) versus the employees' skills distribution. This gives stakeholders a clear understanding of how individual abilities align with job roles."
   ]
  },
  {
   "cell_type": "code",
   "execution_count": 10,
   "id": "ad1262e0-4e89-4f87-9b40-c9e529beb794",
   "metadata": {},
   "outputs": [],
   "source": [
    "import pandas as pd\n",
    "import matplotlib.pyplot as plt"
   ]
  },
  {
   "cell_type": "code",
   "execution_count": 51,
   "id": "e1cd658b-8fdd-41db-ad39-5b0b148360ac",
   "metadata": {},
   "outputs": [
    {
     "data": {
      "text/plain": [
       "<Figure size 1000x600 with 0 Axes>"
      ]
     },
     "metadata": {},
     "output_type": "display_data"
    },
    {
     "data": {
      "image/png": "[encoded data removed]",
      "text/plain": [
       "<Figure size 1000x600 with 1 Axes>"
      ]
     },
     "metadata": {},
     "output_type": "display_data"
    }
   ],
   "source": [
    "#Create a dataset for required roles and available skills\n",
    "required_roles = {\n",
    "    \"Database Admin\": 1,\n",
    "    \"Web Designer\": 1,\n",
    "    \"Systems Engineer\": 1,\n",
    "    \"AI Engineer\": 1,\n",
    "    \"Python Programmer\": 2\n",
    "}\n",
    "\n",
    "#Calculate the available roles from the skills matrix\n",
    "available_roles = skills_matrix.sum(axis=0)\n",
    "\n",
    "#Combine the data into a DataFrame for visualisation\n",
    "role_distribution = pd.DataFrame({\n",
    "    \"Required\": pd.Series(required_roles),\n",
    "    \"Available\": available_roles\n",
    "})\n",
    "\n",
    "#Plot the stacked bar chart with improved styling\n",
    "plt.figure(figsize=(10, 6))\n",
    "\n",
    "#Customize colors for better readability\n",
    "role_distribution.plot(\n",
    "    kind=\"bar\",\n",
    "    stacked=True,\n",
    "    figsize=(10, 6),\n",
    "    color=[\"#4682B4\", \"#FF7F50\"],  #Steel blue and coral\n",
    "    edgecolor=\"black\",\n",
    "    linewidth=1\n",
    ")\n",
    "\n",
    "#Add titles, labels, and legends with enhanced styling\n",
    "plt.title(\"Role Distribution and Requirements\", fontsize=16, fontweight=\"bold\", pad=15)\n",
    "plt.xlabel(\"Roles\", fontsize=12)\n",
    "plt.ylabel(\"Count\", fontsize=12)\n",
    "plt.xticks(rotation=0, fontsize=10)\n",
    "plt.yticks(fontsize=10)\n",
    "plt.legend(title=\"Category\", fontsize=10, title_fontsize=12, loc=\"upper right\")\n",
    "\n",
    "#Add gridlines for visual clarity\n",
    "plt.grid(axis=\"y\", linestyle=\"--\", linewidth=0.5, alpha=0.7)\n",
    "\n",
    "#Optimise the layout\n",
    "plt.tight_layout()\n",
    "\n",
    "#Display the chart\n",
    "plt.show()\n"
   ]
  },
  {
   "cell_type": "markdown",
   "id": "c6765f34-82ae-4ac9-b6b8-71a401115fff",
   "metadata": {},
   "source": [
    "### Role Allocation Summary (Proportions per Solution)\n",
    "Pie Chart: Break down the roles fulfilled by individuals in each solution. For example, in Solution 1, who fulfills the AI Engineer, Systems Engineer, etc."
   ]
  },
  {
   "cell_type": "code",
   "execution_count": 55,
   "id": "b74044b7-9c81-4e7a-8004-2fbf7c9633ac",
   "metadata": {},
   "outputs": [],
   "source": [
    "import matplotlib.pyplot as plt\n",
    "import pandas as pd\n",
    "import seaborn as sns"
   ]
  },
  {
   "cell_type": "code",
   "execution_count": 59,
   "id": "069e9d59-7cef-4ef0-934e-4768da293e74",
   "metadata": {},
   "outputs": [
    {
     "data": {
      "image/png": "[encoded data removed]",
      "text/plain": [
       "<Figure size 500x500 with 1 Axes>"
      ]
     },
     "metadata": {},
     "output_type": "display_data"
    },
    {
     "data": {
      "image/png": "[encoded data removed]",
      "text/plain": [
       "<Figure size 500x500 with 1 Axes>"
      ]
     },
     "metadata": {},
     "output_type": "display_data"
    },
    {
     "data": {
      "image/png": "[encoded data removed]",
      "text/plain": [
       "<Figure size 500x500 with 1 Axes>"
      ]
     },
     "metadata": {},
     "output_type": "display_data"
    }
   ],
   "source": [
    "#Three different selected solutions out of 59\n",
    "solutions = [\n",
    "    {'Database Admin': 'Jane', 'Web Designer': 'Anita', 'Systems Engineer': 'Bruce', 'AI Engineer': 'Maria'},\n",
    "    {'Database Admin': 'Jim', 'Web Designer': 'Anita', 'Systems Engineer': 'Juan', 'AI Engineer': 'Maria'},\n",
    "    {'Database Admin': 'Jane', 'Web Designer': 'Mary', 'Systems Engineer': 'Bruce', 'AI Engineer': 'Anita'}\n",
    "]\n",
    "\n",
    "#Roles(Python programmer not included in scenario 1)\n",
    "roles = ['Database Admin', 'Web Designer', 'Systems Engineer', 'AI Engineer']\n",
    "\n",
    "#Color palette\n",
    "custom_colors = sns.color_palette(\"bright\", len(roles))\n",
    "\n",
    "#Plot each solution as a separate pie chart\n",
    "for i, solution in enumerate(solutions, start=1):\n",
    "    #Count how many roles are assigned to each individual\n",
    "    allocation_summary = pd.Series(solution).value_counts()\n",
    "    \n",
    "     #Pie chart\n",
    "    plt.figure(figsize=(5, 5))\n",
    "    allocation_summary.plot.pie(\n",
    "        autopct=\"%1.1f%%\",\n",
    "        startangle=90,\n",
    "        colors=custom_colors,\n",
    "        wedgeprops={'edgecolor': 'white', 'linewidth': 1.2},\n",
    "        textprops={'fontsize': 12} \n",
    "    )\n",
    "    plt.title(f\"Role Allocation Summary (Solution {i})\", fontsize=14, weight='bold')\n",
    "    plt.ylabel(\"\")  #Remove the default y-label\n",
    "    plt.tight_layout()\n",
    "    plt.show()"
   ]
  },
  {
   "cell_type": "markdown",
   "id": "3404a68f-bba2-4eaf-94dd-4178bc53dff7",
   "metadata": {},
   "source": [
    "## Interactive Bar Chart Visualisation\n",
    "- allows users to explore alternate constraint scenarios."
   ]
  },
  {
   "cell_type": "code",
   "execution_count": 17,
   "id": "3db40372-9469-49ea-9146-39b60eb85f53",
   "metadata": {},
   "outputs": [],
   "source": [
    "import pandas as pd\n",
    "import plotly.express as px"
   ]
  },
  {
   "cell_type": "code",
   "execution_count": 4,
   "id": "fafb867e-a418-4a5c-839e-5a7ea7124e67",
   "metadata": {},
   "outputs": [
    {
     "data": {
      "application/vnd.plotly.v1+json": {
       "config": {
        "plotlyServerURL": "https://plot.ly"
       },
       "data": [
        {
         "alignmentgroup": "True",
         "hovertemplate": "Job Roles=%{x}<br>Assigned Person=%{y}<extra></extra>",
         "legendgroup": "Database Admin",
         "marker": {
          "color": [
           "green",
           "pink",
           "yellow",
           "blue",
           "orange"
          ],
          "pattern": {
           "shape": ""
          }
         },
         "name": "Database Admin",
         "offsetgroup": "Database Admin",
         "orientation": "v",
         "showlegend": true,
         "textposition": "auto",
         "type": "bar",
         "x": [
          "Database Admin",
          "Web Designer",
          "Systems Engineer",
          "AI Engineer",
          "Data Scientist"
         ],
         "xaxis": "x",
         "y": [
          "Jim",
          "Mary",
          "Juan",
          "Maria",
          "Sophia"
         ],
         "yaxis": "y"
        },
        {
         "alignmentgroup": "True",
         "hovertemplate": "Job Roles=%{x}<br>Assigned Person=%{y}<extra></extra>",
         "legendgroup": "Web Designer",
         "marker": {
          "color": [
           "green",
           "pink",
           "yellow",
           "blue",
           "orange"
          ],
          "pattern": {
           "shape": ""
          }
         },
         "name": "Web Designer",
         "offsetgroup": "Web Designer",
         "orientation": "v",
         "showlegend": true,
         "textposition": "auto",
         "type": "bar",
         "x": [
          "Database Admin",
          "Web Designer",
          "Systems Engineer",
          "AI Engineer",
          "Data Scientist"
         ],
         "xaxis": "x",
         "y": [
          "Jim",
          "Mary",
          "Juan",
          "Maria",
          "Sophia"
         ],
         "yaxis": "y"
        },
        {
         "alignmentgroup": "True",
         "hovertemplate": "Job Roles=%{x}<br>Assigned Person=%{y}<extra></extra>",
         "legendgroup": "Systems Engineer",
         "marker": {
          "color": [
           "green",
           "pink",
           "yellow",
           "blue",
           "orange"
          ],
          "pattern": {
           "shape": ""
          }
         },
         "name": "Systems Engineer",
         "offsetgroup": "Systems Engineer",
         "orientation": "v",
         "showlegend": true,
         "textposition": "auto",
         "type": "bar",
         "x": [
          "Database Admin",
          "Web Designer",
          "Systems Engineer",
          "AI Engineer",
          "Data Scientist"
         ],
         "xaxis": "x",
         "y": [
          "Jim",
          "Mary",
          "Juan",
          "Maria",
          "Sophia"
         ],
         "yaxis": "y"
        },
        {
         "alignmentgroup": "True",
         "hovertemplate": "Job Roles=%{x}<br>Assigned Person=%{y}<extra></extra>",
         "legendgroup": "AI Engineer",
         "marker": {
          "color": [
           "green",
           "pink",
           "yellow",
           "blue",
           "orange"
          ],
          "pattern": {
           "shape": ""
          }
         },
         "name": "AI Engineer",
         "offsetgroup": "AI Engineer",
         "orientation": "v",
         "showlegend": true,
         "textposition": "auto",
         "type": "bar",
         "x": [
          "Database Admin",
          "Web Designer",
          "Systems Engineer",
          "AI Engineer",
          "Data Scientist"
         ],
         "xaxis": "x",
         "y": [
          "Jim",
          "Mary",
          "Juan",
          "Maria",
          "Sophia"
         ],
         "yaxis": "y"
        },
        {
         "alignmentgroup": "True",
         "hovertemplate": "Job Roles=%{x}<br>Assigned Person=%{y}<extra></extra>",
         "legendgroup": "Data Scientist",
         "marker": {
          "color": [
           "green",
           "pink",
           "yellow",
           "blue",
           "orange"
          ],
          "pattern": {
           "shape": ""
          }
         },
         "name": "Data Scientist",
         "offsetgroup": "Data Scientist",
         "orientation": "v",
         "showlegend": true,
         "textposition": "auto",
         "type": "bar",
         "x": [
          "Database Admin",
          "Web Designer",
          "Systems Engineer",
          "AI Engineer",
          "Data Scientist"
         ],
         "xaxis": "x",
         "y": [
          "Jim",
          "Mary",
          "Juan",
          "Maria",
          "Sophia"
         ],
         "yaxis": "y"
        }
       ],
       "layout": {
        "autosize": true,
        "barmode": "group",
        "legend": {
         "itemclick": false,
         "itemdoubleclick": false,
         "title": {
          "text": "Role"
         },
         "tracegroupgap": 0
        },
        "showlegend": true,
        "template": {
         "data": {
          "bar": [
           {
            "error_x": {
             "color": "#2a3f5f"
            },
            "error_y": {
             "color": "#2a3f5f"
            },
            "marker": {
             "line": {
              "color": "#E5ECF6",
              "width": 0.5
             },
             "pattern": {
              "fillmode": "overlay",
              "size": 10,
              "solidity": 0.2
             }
            },
            "type": "bar"
           }
          ],
          "barpolar": [
           {
            "marker": {
             "line": {
              "color": "#E5ECF6",
              "width": 0.5
             },
             "pattern": {
              "fillmode": "overlay",
              "size": 10,
              "solidity": 0.2
             }
            },
            "type": "barpolar"
           }
          ],
          "carpet": [
           {
            "aaxis": {
             "endlinecolor": "#2a3f5f",
             "gridcolor": "white",
             "linecolor": "white",
             "minorgridcolor": "white",
             "startlinecolor": "#2a3f5f"
            },
            "baxis": {
             "endlinecolor": "#2a3f5f",
             "gridcolor": "white",
             "linecolor": "white",
             "minorgridcolor": "white",
             "startlinecolor": "#2a3f5f"
            },
            "type": "carpet"
           }
          ],
          "choropleth": [
           {
            "colorbar": {
             "outlinewidth": 0,
             "ticks": ""
            },
            "type": "choropleth"
           }
          ],
          "contour": [
           {
            "colorbar": {
             "outlinewidth": 0,
             "ticks": ""
            },
            "colorscale": [
             [
              0,
              "#0d0887"
             ],
             [
              0.1111111111111111,
              "#46039f"
             ],
             [
              0.2222222222222222,
              "#7201a8"
             ],
             [
              0.3333333333333333,
              "#9c179e"
             ],
             [
              0.4444444444444444,
              "#bd3786"
             ],
             [
              0.5555555555555556,
              "#d8576b"
             ],
             [
              0.6666666666666666,
              "#ed7953"
             ],
             [
              0.7777777777777778,
              "#fb9f3a"
             ],
             [
              0.8888888888888888,
              "#fdca26"
             ],
             [
              1,
              "#f0f921"
             ]
            ],
            "type": "contour"
           }
          ],
          "contourcarpet": [
           {
            "colorbar": {
             "outlinewidth": 0,
             "ticks": ""
            },
            "type": "contourcarpet"
           }
          ],
          "heatmap": [
           {
            "colorbar": {
             "outlinewidth": 0,
             "ticks": ""
            },
            "colorscale": [
             [
              0,
              "#0d0887"
             ],
             [
              0.1111111111111111,
              "#46039f"
             ],
             [
              0.2222222222222222,
              "#7201a8"
             ],
             [
              0.3333333333333333,
              "#9c179e"
             ],
             [
              0.4444444444444444,
              "#bd3786"
             ],
             [
              0.5555555555555556,
              "#d8576b"
             ],
             [
              0.6666666666666666,
              "#ed7953"
             ],
             [
              0.7777777777777778,
              "#fb9f3a"
             ],
             [
              0.8888888888888888,
              "#fdca26"
             ],
             [
              1,
              "#f0f921"
             ]
            ],
            "type": "heatmap"
           }
          ],
          "heatmapgl": [
           {
            "colorbar": {
             "outlinewidth": 0,
             "ticks": ""
            },
            "colorscale": [
             [
              0,
              "#0d0887"
             ],
             [
              0.1111111111111111,
              "#46039f"
             ],
             [
              0.2222222222222222,
              "#7201a8"
             ],
             [
              0.3333333333333333,
              "#9c179e"
             ],
             [
              0.4444444444444444,
              "#bd3786"
             ],
             [
              0.5555555555555556,
              "#d8576b"
             ],
             [
              0.6666666666666666,
              "#ed7953"
             ],
             [
              0.7777777777777778,
              "#fb9f3a"
             ],
             [
              0.8888888888888888,
              "#fdca26"
             ],
             [
              1,
              "#f0f921"
             ]
            ],
            "type": "heatmapgl"
           }
          ],
          "histogram": [
           {
            "marker": {
             "pattern": {
              "fillmode": "overlay",
              "size": 10,
              "solidity": 0.2
             }
            },
            "type": "histogram"
           }
          ],
          "histogram2d": [
           {
            "colorbar": {
             "outlinewidth": 0,
             "ticks": ""
            },
            "colorscale": [
             [
              0,
              "#0d0887"
             ],
             [
              0.1111111111111111,
              "#46039f"
             ],
             [
              0.2222222222222222,
              "#7201a8"
             ],
             [
              0.3333333333333333,
              "#9c179e"
             ],
             [
              0.4444444444444444,
              "#bd3786"
             ],
             [
              0.5555555555555556,
              "#d8576b"
             ],
             [
              0.6666666666666666,
              "#ed7953"
             ],
             [
              0.7777777777777778,
              "#fb9f3a"
             ],
             [
              0.8888888888888888,
              "#fdca26"
             ],
             [
              1,
              "#f0f921"
             ]
            ],
            "type": "histogram2d"
           }
          ],
          "histogram2dcontour": [
           {
            "colorbar": {
             "outlinewidth": 0,
             "ticks": ""
            },
            "colorscale": [
             [
              0,
              "#0d0887"
             ],
             [
              0.1111111111111111,
              "#46039f"
             ],
             [
              0.2222222222222222,
              "#7201a8"
             ],
             [
              0.3333333333333333,
              "#9c179e"
             ],
             [
              0.4444444444444444,
              "#bd3786"
             ],
             [
              0.5555555555555556,
              "#d8576b"
             ],
             [
              0.6666666666666666,
              "#ed7953"
             ],
             [
              0.7777777777777778,
              "#fb9f3a"
             ],
             [
              0.8888888888888888,
              "#fdca26"
             ],
             [
              1,
              "#f0f921"
             ]
            ],
            "type": "histogram2dcontour"
           }
          ],
          "mesh3d": [
           {
            "colorbar": {
             "outlinewidth": 0,
             "ticks": ""
            },
            "type": "mesh3d"
           }
          ],
          "parcoords": [
           {
            "line": {
             "colorbar": {
              "outlinewidth": 0,
              "ticks": ""
             }
            },
            "type": "parcoords"
           }
          ],
          "pie": [
           {
            "automargin": true,
            "type": "pie"
           }
          ],
          "scatter": [
           {
            "fillpattern": {
             "fillmode": "overlay",
             "size": 10,
             "solidity": 0.2
            },
            "type": "scatter"
           }
          ],
          "scatter3d": [
           {
            "line": {
             "colorbar": {
              "outlinewidth": 0,
              "ticks": ""
             }
            },
            "marker": {
             "colorbar": {
              "outlinewidth": 0,
              "ticks": ""
             }
            },
            "type": "scatter3d"
           }
          ],
          "scattercarpet": [
           {
            "marker": {
             "colorbar": {
              "outlinewidth": 0,
              "ticks": ""
             }
            },
            "type": "scattercarpet"
           }
          ],
          "scattergeo": [
           {
            "marker": {
             "colorbar": {
              "outlinewidth": 0,
              "ticks": ""
             }
            },
            "type": "scattergeo"
           }
          ],
          "scattergl": [
           {
            "marker": {
             "colorbar": {
              "outlinewidth": 0,
              "ticks": ""
             }
            },
            "type": "scattergl"
           }
          ],
          "scattermapbox": [
           {
            "marker": {
             "colorbar": {
              "outlinewidth": 0,
              "ticks": ""
             }
            },
            "type": "scattermapbox"
           }
          ],
          "scatterpolar": [
           {
            "marker": {
             "colorbar": {
              "outlinewidth": 0,
              "ticks": ""
             }
            },
            "type": "scatterpolar"
           }
          ],
          "scatterpolargl": [
           {
            "marker": {
             "colorbar": {
              "outlinewidth": 0,
              "ticks": ""
             }
            },
            "type": "scatterpolargl"
           }
          ],
          "scatterternary": [
           {
            "marker": {
             "colorbar": {
              "outlinewidth": 0,
              "ticks": ""
             }
            },
            "type": "scatterternary"
           }
          ],
          "surface": [
           {
            "colorbar": {
             "outlinewidth": 0,
             "ticks": ""
            },
            "colorscale": [
             [
              0,
              "#0d0887"
             ],
             [
              0.1111111111111111,
              "#46039f"
             ],
             [
              0.2222222222222222,
              "#7201a8"
             ],
             [
              0.3333333333333333,
              "#9c179e"
             ],
             [
              0.4444444444444444,
              "#bd3786"
             ],
             [
              0.5555555555555556,
              "#d8576b"
             ],
             [
              0.6666666666666666,
              "#ed7953"
             ],
             [
              0.7777777777777778,
              "#fb9f3a"
             ],
             [
              0.8888888888888888,
              "#fdca26"
             ],
             [
              1,
              "#f0f921"
             ]
            ],
            "type": "surface"
           }
          ],
          "table": [
           {
            "cells": {
             "fill": {
              "color": "#EBF0F8"
             },
             "line": {
              "color": "white"
             }
            },
            "header": {
             "fill": {
              "color": "#C8D4E3"
             },
             "line": {
              "color": "white"
             }
            },
            "type": "table"
           }
          ]
         },
         "layout": {
          "annotationdefaults": {
           "arrowcolor": "#2a3f5f",
           "arrowhead": 0,
           "arrowwidth": 1
          },
          "autotypenumbers": "strict",
          "coloraxis": {
           "colorbar": {
            "outlinewidth": 0,
            "ticks": ""
           }
          },
          "colorscale": {
           "diverging": [
            [
             0,
             "#8e0152"
            ],
            [
             0.1,
             "#c51b7d"
            ],
            [
             0.2,
             "#de77ae"
            ],
            [
             0.3,
             "#f1b6da"
            ],
            [
             0.4,
             "#fde0ef"
            ],
            [
             0.5,
             "#f7f7f7"
            ],
            [
             0.6,
             "#e6f5d0"
            ],
            [
             0.7,
             "#b8e186"
            ],
            [
             0.8,
             "#7fbc41"
            ],
            [
             0.9,
             "#4d9221"
            ],
            [
             1,
             "#276419"
            ]
           ],
           "sequential": [
            [
             0,
             "#0d0887"
            ],
            [
             0.1111111111111111,
             "#46039f"
            ],
            [
             0.2222222222222222,
             "#7201a8"
            ],
            [
             0.3333333333333333,
             "#9c179e"
            ],
            [
             0.4444444444444444,
             "#bd3786"
            ],
            [
             0.5555555555555556,
             "#d8576b"
            ],
            [
             0.6666666666666666,
             "#ed7953"
            ],
            [
             0.7777777777777778,
             "#fb9f3a"
            ],
            [
             0.8888888888888888,
             "#fdca26"
            ],
            [
             1,
             "#f0f921"
            ]
           ],
           "sequentialminus": [
            [
             0,
             "#0d0887"
            ],
            [
             0.1111111111111111,
             "#46039f"
            ],
            [
             0.2222222222222222,
             "#7201a8"
            ],
            [
             0.3333333333333333,
             "#9c179e"
            ],
            [
             0.4444444444444444,
             "#bd3786"
            ],
            [
             0.5555555555555556,
             "#d8576b"
            ],
            [
             0.6666666666666666,
             "#ed7953"
            ],
            [
             0.7777777777777778,
             "#fb9f3a"
            ],
            [
             0.8888888888888888,
             "#fdca26"
            ],
            [
             1,
             "#f0f921"
            ]
           ]
          },
          "colorway": [
           "#636efa",
           "#EF553B",
           "#00cc96",
           "#ab63fa",
           "#FFA15A",
           "#19d3f3",
           "#FF6692",
           "#B6E880",
           "#FF97FF",
           "#FECB52"
          ],
          "font": {
           "color": "#2a3f5f"
          },
          "geo": {
           "bgcolor": "white",
           "lakecolor": "white",
           "landcolor": "#E5ECF6",
           "showlakes": true,
           "showland": true,
           "subunitcolor": "white"
          },
          "hoverlabel": {
           "align": "left"
          },
          "hovermode": "closest",
          "mapbox": {
           "style": "light"
          },
          "paper_bgcolor": "white",
          "plot_bgcolor": "#E5ECF6",
          "polar": {
           "angularaxis": {
            "gridcolor": "white",
            "linecolor": "white",
            "ticks": ""
           },
           "bgcolor": "#E5ECF6",
           "radialaxis": {
            "gridcolor": "white",
            "linecolor": "white",
            "ticks": ""
           }
          },
          "scene": {
           "xaxis": {
            "backgroundcolor": "#E5ECF6",
            "gridcolor": "white",
            "gridwidth": 2,
            "linecolor": "white",
            "showbackground": true,
            "ticks": "",
            "zerolinecolor": "white"
           },
           "yaxis": {
            "backgroundcolor": "#E5ECF6",
            "gridcolor": "white",
            "gridwidth": 2,
            "linecolor": "white",
            "showbackground": true,
            "ticks": "",
            "zerolinecolor": "white"
           },
           "zaxis": {
            "backgroundcolor": "#E5ECF6",
            "gridcolor": "white",
            "gridwidth": 2,
            "linecolor": "white",
            "showbackground": true,
            "ticks": "",
            "zerolinecolor": "white"
           }
          },
          "shapedefaults": {
           "line": {
            "color": "#2a3f5f"
           }
          },
          "ternary": {
           "aaxis": {
            "gridcolor": "white",
            "linecolor": "white",
            "ticks": ""
           },
           "baxis": {
            "gridcolor": "white",
            "linecolor": "white",
            "ticks": ""
           },
           "bgcolor": "#E5ECF6",
           "caxis": {
            "gridcolor": "white",
            "linecolor": "white",
            "ticks": ""
           }
          },
          "title": {
           "x": 0.05
          },
          "xaxis": {
           "automargin": true,
           "gridcolor": "white",
           "linecolor": "white",
           "ticks": "",
           "title": {
            "standoff": 15
           },
           "zerolinecolor": "white",
           "zerolinewidth": 2
          },
          "yaxis": {
           "automargin": true,
           "gridcolor": "white",
           "linecolor": "white",
           "ticks": "",
           "title": {
            "standoff": 15
           },
           "zerolinecolor": "white",
           "zerolinewidth": 2
          }
         }
        },
        "title": {
         "font": {
          "size": 20
         },
         "text": "Additional Funds"
        },
        "updatemenus": [
         {
          "active": 2,
          "buttons": [
           {
            "args": [
             {
              "marker.color": [
               [
                "green",
                "pink",
                "yellow",
                "blue",
                "green",
                "pink",
                "yellow",
                "blue",
                "orange",
                "green",
                "pink",
                "yellow",
                "blue",
                "orange"
               ]
              ],
              "x": [
               [
                "Database Admin",
                "Web Designer",
                "Systems Engineer",
                "AI Engineer",
                "Database Admin",
                "Web Designer",
                "Systems Engineer",
                "AI Engineer",
                "Data Scientist",
                "Database Admin",
                "Web Designer",
                "Systems Engineer",
                "AI Engineer",
                "Data Scientist"
               ]
              ],
              "y": [
               [
                "Jane",
                "Anita",
                "Bruce",
                "Maria",
                "Jim",
                "Mary",
                "Juan",
                "Maria",
                "Sophia",
                "Jane",
                "Juan",
                "Mary",
                "Peter",
                "Sophia"
               ]
              ]
             },
             {
              "title": "All Scenarios"
             }
            ],
            "label": "All Scenarios",
            "method": "update"
           },
           {
            "args": [
             {
              "marker.color": [
               [
                "green",
                "pink",
                "yellow",
                "blue"
               ]
              ],
              "x": [
               [
                "Database Admin",
                "Web Designer",
                "Systems Engineer",
                "AI Engineer"
               ]
              ],
              "y": [
               [
                "Jane",
                "Anita",
                "Bruce",
                "Maria"
               ]
              ]
             },
             {
              "title": "Limited Funds"
             }
            ],
            "label": "Limited Funds",
            "method": "update"
           },
           {
            "args": [
             {
              "marker.color": [
               [
                "green",
                "pink",
                "yellow",
                "blue",
                "orange"
               ]
              ],
              "x": [
               [
                "Database Admin",
                "Web Designer",
                "Systems Engineer",
                "AI Engineer",
                "Data Scientist"
               ]
              ],
              "y": [
               [
                "Jim",
                "Mary",
                "Juan",
                "Maria",
                "Sophia"
               ]
              ]
             },
             {
              "title": "Additional Funds"
             }
            ],
            "label": "Additional Funds",
            "method": "update"
           },
           {
            "args": [
             {
              "marker.color": [
               [
                "green",
                "pink",
                "yellow",
                "blue",
                "orange"
               ]
              ],
              "x": [
               [
                "Database Admin",
                "Web Designer",
                "Systems Engineer",
                "AI Engineer",
                "Data Scientist"
               ]
              ],
              "y": [
               [
                "Jane",
                "Juan",
                "Mary",
                "Peter",
                "Sophia"
               ]
              ]
             },
             {
              "title": "Optimized Hiring"
             }
            ],
            "label": "Optimized Hiring",
            "method": "update"
           }
          ],
          "direction": "down",
          "showactive": true,
          "x": 0.1,
          "xanchor": "left",
          "y": 1.15,
          "yanchor": "top"
         }
        ],
        "xaxis": {
         "anchor": "y",
         "autorange": true,
         "categoryarray": [
          "Database Admin",
          "Web Designer",
          "Systems Engineer",
          "AI Engineer",
          "Data Scientist"
         ],
         "categoryorder": "array",
         "domain": [
          0,
          1
         ],
         "range": [
          -0.5,
          4.5
         ],
         "tickangle": 45,
         "title": {
          "text": "Roles"
         },
         "type": "category"
        },
        "yaxis": {
         "anchor": "x",
         "autorange": true,
         "domain": [
          0,
          1
         ],
         "range": [
          -0.22222222222222224,
          4.222222222222222
         ],
         "title": {
          "text": "Assigned Person"
         },
         "type": "category"
        }
       }
      },
      "image/png": "[encoded data removed]",
      "text/html": [
       "<div>                            <div id=\"6460b823-622c-4c14-9676-46428d25a3d0\" class=\"plotly-graph-div\" style=\"height:525px; width:100%;\"></div>            <script type=\"text/javascript\">                require([\"plotly\"], function(Plotly) {                    window.PLOTLYENV=window.PLOTLYENV || {};                                    if (document.getElementById(\"6460b823-622c-4c14-9676-46428d25a3d0\")) {                    Plotly.newPlot(                        \"6460b823-622c-4c14-9676-46428d25a3d0\",                        [{\"alignmentgroup\":\"True\",\"hovertemplate\":\"Job Roles=%{x}\\u003cbr\\u003eAssigned Person=%{y}\\u003cextra\\u003e\\u003c\\u002fextra\\u003e\",\"legendgroup\":\"Database Admin\",\"marker\":{\"color\":\"green\",\"pattern\":{\"shape\":\"\"}},\"name\":\"Database Admin\",\"offsetgroup\":\"Database Admin\",\"orientation\":\"v\",\"showlegend\":true,\"textposition\":\"auto\",\"x\":[\"Database Admin\",\"Database Admin\",\"Database Admin\"],\"xaxis\":\"x\",\"y\":[\"Jane\",\"Jim\",\"Jane\"],\"yaxis\":\"y\",\"type\":\"bar\"},{\"alignmentgroup\":\"True\",\"hovertemplate\":\"Job Roles=%{x}\\u003cbr\\u003eAssigned Person=%{y}\\u003cextra\\u003e\\u003c\\u002fextra\\u003e\",\"legendgroup\":\"Web Designer\",\"marker\":{\"color\":\"pink\",\"pattern\":{\"shape\":\"\"}},\"name\":\"Web Designer\",\"offsetgroup\":\"Web Designer\",\"orientation\":\"v\",\"showlegend\":true,\"textposition\":\"auto\",\"x\":[\"Web Designer\",\"Web Designer\",\"Web Designer\"],\"xaxis\":\"x\",\"y\":[\"Anita\",\"Mary\",\"Juan\"],\"yaxis\":\"y\",\"type\":\"bar\"},{\"alignmentgroup\":\"True\",\"hovertemplate\":\"Job Roles=%{x}\\u003cbr\\u003eAssigned Person=%{y}\\u003cextra\\u003e\\u003c\\u002fextra\\u003e\",\"legendgroup\":\"Systems Engineer\",\"marker\":{\"color\":\"yellow\",\"pattern\":{\"shape\":\"\"}},\"name\":\"Systems Engineer\",\"offsetgroup\":\"Systems Engineer\",\"orientation\":\"v\",\"showlegend\":true,\"textposition\":\"auto\",\"x\":[\"Systems Engineer\",\"Systems Engineer\",\"Systems Engineer\"],\"xaxis\":\"x\",\"y\":[\"Bruce\",\"Juan\",\"Mary\"],\"yaxis\":\"y\",\"type\":\"bar\"},{\"alignmentgroup\":\"True\",\"hovertemplate\":\"Job Roles=%{x}\\u003cbr\\u003eAssigned Person=%{y}\\u003cextra\\u003e\\u003c\\u002fextra\\u003e\",\"legendgroup\":\"AI Engineer\",\"marker\":{\"color\":\"blue\",\"pattern\":{\"shape\":\"\"}},\"name\":\"AI Engineer\",\"offsetgroup\":\"AI Engineer\",\"orientation\":\"v\",\"showlegend\":true,\"textposition\":\"auto\",\"x\":[\"AI Engineer\",\"AI Engineer\",\"AI Engineer\"],\"xaxis\":\"x\",\"y\":[\"Maria\",\"Maria\",\"Peter\"],\"yaxis\":\"y\",\"type\":\"bar\"},{\"alignmentgroup\":\"True\",\"hovertemplate\":\"Job Roles=%{x}\\u003cbr\\u003eAssigned Person=%{y}\\u003cextra\\u003e\\u003c\\u002fextra\\u003e\",\"legendgroup\":\"Data Scientist\",\"marker\":{\"color\":\"orange\",\"pattern\":{\"shape\":\"\"}},\"name\":\"Data Scientist\",\"offsetgroup\":\"Data Scientist\",\"orientation\":\"v\",\"showlegend\":true,\"textposition\":\"auto\",\"x\":[\"Data Scientist\",\"Data Scientist\"],\"xaxis\":\"x\",\"y\":[\"Sophia\",\"Sophia\"],\"yaxis\":\"y\",\"type\":\"bar\"}],                        {\"template\":{\"data\":{\"histogram2dcontour\":[{\"type\":\"histogram2dcontour\",\"colorbar\":{\"outlinewidth\":0,\"ticks\":\"\"},\"colorscale\":[[0.0,\"#0d0887\"],[0.1111111111111111,\"#46039f\"],[0.2222222222222222,\"#7201a8\"],[0.3333333333333333,\"#9c179e\"],[0.4444444444444444,\"#bd3786\"],[0.5555555555555556,\"#d8576b\"],[0.6666666666666666,\"#ed7953\"],[0.7777777777777778,\"#fb9f3a\"],[0.8888888888888888,\"#fdca26\"],[1.0,\"#f0f921\"]]}],\"choropleth\":[{\"type\":\"choropleth\",\"colorbar\":{\"outlinewidth\":0,\"ticks\":\"\"}}],\"histogram2d\":[{\"type\":\"histogram2d\",\"colorbar\":{\"outlinewidth\":0,\"ticks\":\"\"},\"colorscale\":[[0.0,\"#0d0887\"],[0.1111111111111111,\"#46039f\"],[0.2222222222222222,\"#7201a8\"],[0.3333333333333333,\"#9c179e\"],[0.4444444444444444,\"#bd3786\"],[0.5555555555555556,\"#d8576b\"],[0.6666666666666666,\"#ed7953\"],[0.7777777777777778,\"#fb9f3a\"],[0.8888888888888888,\"#fdca26\"],[1.0,\"#f0f921\"]]}],\"heatmap\":[{\"type\":\"heatmap\",\"colorbar\":{\"outlinewidth\":0,\"ticks\":\"\"},\"colorscale\":[[0.0,\"#0d0887\"],[0.1111111111111111,\"#46039f\"],[0.2222222222222222,\"#7201a8\"],[0.3333333333333333,\"#9c179e\"],[0.4444444444444444,\"#bd3786\"],[0.5555555555555556,\"#d8576b\"],[0.6666666666666666,\"#ed7953\"],[0.7777777777777778,\"#fb9f3a\"],[0.8888888888888888,\"#fdca26\"],[1.0,\"#f0f921\"]]}],\"heatmapgl\":[{\"type\":\"heatmapgl\",\"colorbar\":{\"outlinewidth\":0,\"ticks\":\"\"},\"colorscale\":[[0.0,\"#0d0887\"],[0.1111111111111111,\"#46039f\"],[0.2222222222222222,\"#7201a8\"],[0.3333333333333333,\"#9c179e\"],[0.4444444444444444,\"#bd3786\"],[0.5555555555555556,\"#d8576b\"],[0.6666666666666666,\"#ed7953\"],[0.7777777777777778,\"#fb9f3a\"],[0.8888888888888888,\"#fdca26\"],[1.0,\"#f0f921\"]]}],\"contourcarpet\":[{\"type\":\"contourcarpet\",\"colorbar\":{\"outlinewidth\":0,\"ticks\":\"\"}}],\"contour\":[{\"type\":\"contour\",\"colorbar\":{\"outlinewidth\":0,\"ticks\":\"\"},\"colorscale\":[[0.0,\"#0d0887\"],[0.1111111111111111,\"#46039f\"],[0.2222222222222222,\"#7201a8\"],[0.3333333333333333,\"#9c179e\"],[0.4444444444444444,\"#bd3786\"],[0.5555555555555556,\"#d8576b\"],[0.6666666666666666,\"#ed7953\"],[0.7777777777777778,\"#fb9f3a\"],[0.8888888888888888,\"#fdca26\"],[1.0,\"#f0f921\"]]}],\"surface\":[{\"type\":\"surface\",\"colorbar\":{\"outlinewidth\":0,\"ticks\":\"\"},\"colorscale\":[[0.0,\"#0d0887\"],[0.1111111111111111,\"#46039f\"],[0.2222222222222222,\"#7201a8\"],[0.3333333333333333,\"#9c179e\"],[0.4444444444444444,\"#bd3786\"],[0.5555555555555556,\"#d8576b\"],[0.6666666666666666,\"#ed7953\"],[0.7777777777777778,\"#fb9f3a\"],[0.8888888888888888,\"#fdca26\"],[1.0,\"#f0f921\"]]}],\"mesh3d\":[{\"type\":\"mesh3d\",\"colorbar\":{\"outlinewidth\":0,\"ticks\":\"\"}}],\"scatter\":[{\"fillpattern\":{\"fillmode\":\"overlay\",\"size\":10,\"solidity\":0.2},\"type\":\"scatter\"}],\"parcoords\":[{\"type\":\"parcoords\",\"line\":{\"colorbar\":{\"outlinewidth\":0,\"ticks\":\"\"}}}],\"scatterpolargl\":[{\"type\":\"scatterpolargl\",\"marker\":{\"colorbar\":{\"outlinewidth\":0,\"ticks\":\"\"}}}],\"bar\":[{\"error_x\":{\"color\":\"#2a3f5f\"},\"error_y\":{\"color\":\"#2a3f5f\"},\"marker\":{\"line\":{\"color\":\"#E5ECF6\",\"width\":0.5},\"pattern\":{\"fillmode\":\"overlay\",\"size\":10,\"solidity\":0.2}},\"type\":\"bar\"}],\"scattergeo\":[{\"type\":\"scattergeo\",\"marker\":{\"colorbar\":{\"outlinewidth\":0,\"ticks\":\"\"}}}],\"scatterpolar\":[{\"type\":\"scatterpolar\",\"marker\":{\"colorbar\":{\"outlinewidth\":0,\"ticks\":\"\"}}}],\"histogram\":[{\"marker\":{\"pattern\":{\"fillmode\":\"overlay\",\"size\":10,\"solidity\":0.2}},\"type\":\"histogram\"}],\"scattergl\":[{\"type\":\"scattergl\",\"marker\":{\"colorbar\":{\"outlinewidth\":0,\"ticks\":\"\"}}}],\"scatter3d\":[{\"type\":\"scatter3d\",\"line\":{\"colorbar\":{\"outlinewidth\":0,\"ticks\":\"\"}},\"marker\":{\"colorbar\":{\"outlinewidth\":0,\"ticks\":\"\"}}}],\"scattermapbox\":[{\"type\":\"scattermapbox\",\"marker\":{\"colorbar\":{\"outlinewidth\":0,\"ticks\":\"\"}}}],\"scatterternary\":[{\"type\":\"scatterternary\",\"marker\":{\"colorbar\":{\"outlinewidth\":0,\"ticks\":\"\"}}}],\"scattercarpet\":[{\"type\":\"scattercarpet\",\"marker\":{\"colorbar\":{\"outlinewidth\":0,\"ticks\":\"\"}}}],\"carpet\":[{\"aaxis\":{\"endlinecolor\":\"#2a3f5f\",\"gridcolor\":\"white\",\"linecolor\":\"white\",\"minorgridcolor\":\"white\",\"startlinecolor\":\"#2a3f5f\"},\"baxis\":{\"endlinecolor\":\"#2a3f5f\",\"gridcolor\":\"white\",\"linecolor\":\"white\",\"minorgridcolor\":\"white\",\"startlinecolor\":\"#2a3f5f\"},\"type\":\"carpet\"}],\"table\":[{\"cells\":{\"fill\":{\"color\":\"#EBF0F8\"},\"line\":{\"color\":\"white\"}},\"header\":{\"fill\":{\"color\":\"#C8D4E3\"},\"line\":{\"color\":\"white\"}},\"type\":\"table\"}],\"barpolar\":[{\"marker\":{\"line\":{\"color\":\"#E5ECF6\",\"width\":0.5},\"pattern\":{\"fillmode\":\"overlay\",\"size\":10,\"solidity\":0.2}},\"type\":\"barpolar\"}],\"pie\":[{\"automargin\":true,\"type\":\"pie\"}]},\"layout\":{\"autotypenumbers\":\"strict\",\"colorway\":[\"#636efa\",\"#EF553B\",\"#00cc96\",\"#ab63fa\",\"#FFA15A\",\"#19d3f3\",\"#FF6692\",\"#B6E880\",\"#FF97FF\",\"#FECB52\"],\"font\":{\"color\":\"#2a3f5f\"},\"hovermode\":\"closest\",\"hoverlabel\":{\"align\":\"left\"},\"paper_bgcolor\":\"white\",\"plot_bgcolor\":\"#E5ECF6\",\"polar\":{\"bgcolor\":\"#E5ECF6\",\"angularaxis\":{\"gridcolor\":\"white\",\"linecolor\":\"white\",\"ticks\":\"\"},\"radialaxis\":{\"gridcolor\":\"white\",\"linecolor\":\"white\",\"ticks\":\"\"}},\"ternary\":{\"bgcolor\":\"#E5ECF6\",\"aaxis\":{\"gridcolor\":\"white\",\"linecolor\":\"white\",\"ticks\":\"\"},\"baxis\":{\"gridcolor\":\"white\",\"linecolor\":\"white\",\"ticks\":\"\"},\"caxis\":{\"gridcolor\":\"white\",\"linecolor\":\"white\",\"ticks\":\"\"}},\"coloraxis\":{\"colorbar\":{\"outlinewidth\":0,\"ticks\":\"\"}},\"colorscale\":{\"sequential\":[[0.0,\"#0d0887\"],[0.1111111111111111,\"#46039f\"],[0.2222222222222222,\"#7201a8\"],[0.3333333333333333,\"#9c179e\"],[0.4444444444444444,\"#bd3786\"],[0.5555555555555556,\"#d8576b\"],[0.6666666666666666,\"#ed7953\"],[0.7777777777777778,\"#fb9f3a\"],[0.8888888888888888,\"#fdca26\"],[1.0,\"#f0f921\"]],\"sequentialminus\":[[0.0,\"#0d0887\"],[0.1111111111111111,\"#46039f\"],[0.2222222222222222,\"#7201a8\"],[0.3333333333333333,\"#9c179e\"],[0.4444444444444444,\"#bd3786\"],[0.5555555555555556,\"#d8576b\"],[0.6666666666666666,\"#ed7953\"],[0.7777777777777778,\"#fb9f3a\"],[0.8888888888888888,\"#fdca26\"],[1.0,\"#f0f921\"]],\"diverging\":[[0,\"#8e0152\"],[0.1,\"#c51b7d\"],[0.2,\"#de77ae\"],[0.3,\"#f1b6da\"],[0.4,\"#fde0ef\"],[0.5,\"#f7f7f7\"],[0.6,\"#e6f5d0\"],[0.7,\"#b8e186\"],[0.8,\"#7fbc41\"],[0.9,\"#4d9221\"],[1,\"#276419\"]]},\"xaxis\":{\"gridcolor\":\"white\",\"linecolor\":\"white\",\"ticks\":\"\",\"title\":{\"standoff\":15},\"zerolinecolor\":\"white\",\"automargin\":true,\"zerolinewidth\":2},\"yaxis\":{\"gridcolor\":\"white\",\"linecolor\":\"white\",\"ticks\":\"\",\"title\":{\"standoff\":15},\"zerolinecolor\":\"white\",\"automargin\":true,\"zerolinewidth\":2},\"scene\":{\"xaxis\":{\"backgroundcolor\":\"#E5ECF6\",\"gridcolor\":\"white\",\"linecolor\":\"white\",\"showbackground\":true,\"ticks\":\"\",\"zerolinecolor\":\"white\",\"gridwidth\":2},\"yaxis\":{\"backgroundcolor\":\"#E5ECF6\",\"gridcolor\":\"white\",\"linecolor\":\"white\",\"showbackground\":true,\"ticks\":\"\",\"zerolinecolor\":\"white\",\"gridwidth\":2},\"zaxis\":{\"backgroundcolor\":\"#E5ECF6\",\"gridcolor\":\"white\",\"linecolor\":\"white\",\"showbackground\":true,\"ticks\":\"\",\"zerolinecolor\":\"white\",\"gridwidth\":2}},\"shapedefaults\":{\"line\":{\"color\":\"#2a3f5f\"}},\"annotationdefaults\":{\"arrowcolor\":\"#2a3f5f\",\"arrowhead\":0,\"arrowwidth\":1},\"geo\":{\"bgcolor\":\"white\",\"landcolor\":\"#E5ECF6\",\"subunitcolor\":\"white\",\"showland\":true,\"showlakes\":true,\"lakecolor\":\"white\"},\"title\":{\"x\":0.05},\"mapbox\":{\"style\":\"light\"}}},\"xaxis\":{\"anchor\":\"y\",\"domain\":[0.0,1.0],\"title\":{\"text\":\"Roles\"},\"categoryorder\":\"array\",\"categoryarray\":[\"Database Admin\",\"Web Designer\",\"Systems Engineer\",\"AI Engineer\",\"Data Scientist\"],\"tickangle\":45},\"yaxis\":{\"anchor\":\"x\",\"domain\":[0.0,1.0],\"title\":{\"text\":\"Assigned Person\"}},\"legend\":{\"title\":{\"text\":\"Role\"},\"tracegroupgap\":0,\"itemclick\":false,\"itemdoubleclick\":false},\"title\":{\"text\":\"Interactive Bar Chart: All Scenarios\",\"font\":{\"size\":20}},\"barmode\":\"group\",\"showlegend\":true,\"updatemenus\":[{\"buttons\":[{\"args\":[{\"x\":[[\"Database Admin\",\"Web Designer\",\"Systems Engineer\",\"AI Engineer\",\"Database Admin\",\"Web Designer\",\"Systems Engineer\",\"AI Engineer\",\"Data Scientist\",\"Database Admin\",\"Web Designer\",\"Systems Engineer\",\"AI Engineer\",\"Data Scientist\"]],\"y\":[[\"Jane\",\"Anita\",\"Bruce\",\"Maria\",\"Jim\",\"Mary\",\"Juan\",\"Maria\",\"Sophia\",\"Jane\",\"Juan\",\"Mary\",\"Peter\",\"Sophia\"]],\"marker.color\":[[\"green\",\"pink\",\"yellow\",\"blue\",\"green\",\"pink\",\"yellow\",\"blue\",\"orange\",\"green\",\"pink\",\"yellow\",\"blue\",\"orange\"]]},{\"title\":\"All Scenarios\"}],\"label\":\"All Scenarios\",\"method\":\"update\"},{\"args\":[{\"x\":[[\"Database Admin\",\"Web Designer\",\"Systems Engineer\",\"AI Engineer\"]],\"y\":[[\"Jane\",\"Anita\",\"Bruce\",\"Maria\"]],\"marker.color\":[[\"green\",\"pink\",\"yellow\",\"blue\"]]},{\"title\":\"Limited Funds\"}],\"label\":\"Limited Funds\",\"method\":\"update\"},{\"args\":[{\"x\":[[\"Database Admin\",\"Web Designer\",\"Systems Engineer\",\"AI Engineer\",\"Data Scientist\"]],\"y\":[[\"Jim\",\"Mary\",\"Juan\",\"Maria\",\"Sophia\"]],\"marker.color\":[[\"green\",\"pink\",\"yellow\",\"blue\",\"orange\"]]},{\"title\":\"Additional Funds\"}],\"label\":\"Additional Funds\",\"method\":\"update\"},{\"args\":[{\"x\":[[\"Database Admin\",\"Web Designer\",\"Systems Engineer\",\"AI Engineer\",\"Data Scientist\"]],\"y\":[[\"Jane\",\"Juan\",\"Mary\",\"Peter\",\"Sophia\"]],\"marker.color\":[[\"green\",\"pink\",\"yellow\",\"blue\",\"orange\"]]},{\"title\":\"Optimized Hiring\"}],\"label\":\"Optimized Hiring\",\"method\":\"update\"}],\"direction\":\"down\",\"showactive\":true,\"x\":0.1,\"xanchor\":\"left\",\"y\":1.15,\"yanchor\":\"top\"}]},                        {\"responsive\": true}                    ).then(function(){\n",
       "                            \n",
       "var gd = document.getElementById('6460b823-622c-4c14-9676-46428d25a3d0');\n",
       "var x = new MutationObserver(function (mutations, observer) {{\n",
       "        var display = window.getComputedStyle(gd).display;\n",
       "        if (!display || display === 'none') {{\n",
       "            console.log([gd, 'removed!']);\n",
       "            Plotly.purge(gd);\n",
       "            observer.disconnect();\n",
       "        }}\n",
       "}});\n",
       "\n",
       "// Listen for the removal of the full notebook cells\n",
       "var notebookContainer = gd.closest('#notebook-container');\n",
       "if (notebookContainer) {{\n",
       "    x.observe(notebookContainer, {childList: true});\n",
       "}}\n",
       "\n",
       "// Listen for the clearing of the current output cell\n",
       "var outputEl = gd.closest('.output');\n",
       "if (outputEl) {{\n",
       "    x.observe(outputEl, {childList: true});\n",
       "}}\n",
       "\n",
       "                        })                };                });            </script>        </div>"
      ]
     },
     "metadata": {},
     "output_type": "display_data"
    }
   ],
   "source": [
    "#Define the data for constraint scenarios\n",
    "data = [\n",
    "    #Scenario 1: Limited Funds\n",
    "    {'Scenario': 'Limited Funds', 'Role': 'Database Admin', 'Person': 'Jane'},\n",
    "    {'Scenario': 'Limited Funds', 'Role': 'Web Designer', 'Person': 'Anita'},\n",
    "    {'Scenario': 'Limited Funds', 'Role': 'Systems Engineer', 'Person': 'Bruce'},\n",
    "    {'Scenario': 'Limited Funds', 'Role': 'AI Engineer', 'Person': 'Maria'},\n",
    "\n",
    "    #Scenario 2: Additional Funds\n",
    "    {'Scenario': 'Additional Funds', 'Role': 'Database Admin', 'Person': 'Jim'},\n",
    "    {'Scenario': 'Additional Funds', 'Role': 'Web Designer', 'Person': 'Mary'},\n",
    "    {'Scenario': 'Additional Funds', 'Role': 'Systems Engineer', 'Person': 'Juan'},\n",
    "    {'Scenario': 'Additional Funds', 'Role': 'AI Engineer', 'Person': 'Maria'},\n",
    "    {'Scenario': 'Additional Funds', 'Role': 'Data Scientist', 'Person': 'Sophia'},\n",
    "\n",
    "    #Scenario 3: Optimized Hiring\n",
    "    {'Scenario': 'Optimized Hiring', 'Role': 'Database Admin', 'Person': 'Jane'},\n",
    "    {'Scenario': 'Optimized Hiring', 'Role': 'Web Designer', 'Person': 'Juan'},\n",
    "    {'Scenario': 'Optimized Hiring', 'Role': 'Systems Engineer', 'Person': 'Mary'},\n",
    "    {'Scenario': 'Optimized Hiring', 'Role': 'AI Engineer', 'Person': 'Peter'},\n",
    "    {'Scenario': 'Optimized Hiring', 'Role': 'Data Scientist', 'Person': 'Sophia'}\n",
    "]\n",
    "\n",
    "#Convert data to a DataFrame\n",
    "df = pd.DataFrame(data)\n",
    "\n",
    "#Define a custom color map for roles\n",
    "role_color_map = {\n",
    "    'Database Admin': 'green',\n",
    "    'Web Designer': 'pink',\n",
    "    'Systems Engineer': 'yellow',\n",
    "    'AI Engineer': 'blue',\n",
    "    'Data Scientist': 'orange'\n",
    "}\n",
    "\n",
    "#Function to create the interactive bar chart based on the selected scenario\n",
    "def create_bar_chart(selected_scenario='All Scenarios'):\n",
    "    if selected_scenario == 'All Scenarios':\n",
    "        filtered_df = df\n",
    "        title = \"All Scenarios\"\n",
    "    else:\n",
    "        filtered_df = df[df['Scenario'] == selected_scenario]\n",
    "        title = selected_scenario\n",
    "\n",
    "    #Create the bar chart\n",
    "    fig = px.bar(\n",
    "        filtered_df,\n",
    "        x='Role',\n",
    "        y='Person',\n",
    "        color='Role',\n",
    "        barmode='group',\n",
    "        color_discrete_map=role_color_map,\n",
    "        title=title,\n",
    "        labels={'Role': 'Job Roles', 'Person': 'Assigned Person'}\n",
    "    )\n",
    "\n",
    "    #Update chart layout\n",
    "    fig.update_layout(\n",
    "        title=dict(text=f\"Interactive Bar Chart: {title}\", font=dict(size=20)),\n",
    "        xaxis=dict(title=\"Roles\", tickangle=45),  #Diagonal labels for better visibility\n",
    "        yaxis_title=\"Assigned Person\",\n",
    "        legend_title=\"Role\",\n",
    "        template=\"plotly\",\n",
    "        showlegend=True,\n",
    "        updatemenus=[\n",
    "            dict(\n",
    "                buttons=[\n",
    "                    dict(\n",
    "                        label=\"All Scenarios\",\n",
    "                        method=\"update\",\n",
    "                        args=[\n",
    "                            {\"x\": [df['Role']],\n",
    "                             \"y\": [df['Person']],\n",
    "                             \"marker.color\": [df['Role'].map(role_color_map)]},\n",
    "                            {\"title\": \"All Scenarios\"}\n",
    "                        ]\n",
    "                    ),\n",
    "                    dict(\n",
    "                        label=\"Limited Funds\",\n",
    "                        method=\"update\",\n",
    "                        args=[\n",
    "                            {\"x\": [df[df['Scenario'] == 'Limited Funds']['Role']],\n",
    "                             \"y\": [df[df['Scenario'] == 'Limited Funds']['Person']],\n",
    "                             \"marker.color\": [df[df['Scenario'] == 'Limited Funds']['Role'].map(role_color_map)]},\n",
    "                            {\"title\": \"Limited Funds\"}\n",
    "                        ]\n",
    "                    ),\n",
    "                    dict(\n",
    "                        label=\"Additional Funds\",\n",
    "                        method=\"update\",\n",
    "                        args=[\n",
    "                            {\"x\": [df[df['Scenario'] == 'Additional Funds']['Role']],\n",
    "                             \"y\": [df[df['Scenario'] == 'Additional Funds']['Person']],\n",
    "                             \"marker.color\": [df[df['Scenario'] == 'Additional Funds']['Role'].map(role_color_map)]},\n",
    "                            {\"title\": \"Additional Funds\"}\n",
    "                        ]\n",
    "                    ),\n",
    "                    dict(\n",
    "                        label=\"Optimized Hiring\",\n",
    "                        method=\"update\",\n",
    "                        args=[\n",
    "                            {\"x\": [df[df['Scenario'] == 'Optimized Hiring']['Role']],\n",
    "                             \"y\": [df[df['Scenario'] == 'Optimized Hiring']['Person']],\n",
    "                             \"marker.color\": [df[df['Scenario'] == 'Optimized Hiring']['Role'].map(role_color_map)]},\n",
    "                            {\"title\": \"Optimized Hiring\"}\n",
    "                        ]\n",
    "                    ),\n",
    "                ],\n",
    "                direction=\"down\",\n",
    "                showactive=True,\n",
    "                x=0.1,\n",
    "                xanchor=\"left\",\n",
    "                y=1.15,\n",
    "                yanchor=\"top\"\n",
    "            )\n",
    "        ],\n",
    "        #Highlighted changes: Disable clickable legends\n",
    "        legend_itemclick=False,  #This disables single-click interactivity on legends\n",
    "        legend_itemdoubleclick=False  #This disables double-click interactivity on legends\n",
    "    )\n",
    "    return fig\n",
    "\n",
    "#Create and display the initial chart for all scenarios\n",
    "fig = create_bar_chart('All Scenarios')\n",
    "fig.show()\n"
   ]
  },
  {
   "cell_type": "markdown",
   "id": "a6182d32-bbc1-4e0f-a037-b88f60d2a1f9",
   "metadata": {},
   "source": [
    "## GUI for alternate constraint scenarios"
   ]
  },
  {
   "cell_type": "code",
   "execution_count": 9,
   "id": "eab88c39-5b42-4bc7-bcb4-9b51aafd9529",
   "metadata": {},
   "outputs": [],
   "source": [
    "import tkinter as tk\n",
    "from tkinter import ttk, messagebox\n",
    "import pandas as pd\n",
    "import plotly.graph_objects as go\n",
    "from matplotlib.backends.backend_tkagg import FigureCanvasTkAgg\n",
    "from plotly.subplots import make_subplots"
   ]
  },
  {
   "cell_type": "code",
   "execution_count": null,
   "id": "e26dba1c-6ccc-4372-ae8f-ad4e2f4bd311",
   "metadata": {},
   "outputs": [],
   "source": [
    "#Data for constraint scenarios\n",
    "data = [\n",
    "    {'Scenario': 'Limited Funds', 'Role': 'Database Admin', 'Assigned': 1},\n",
    "    {'Scenario': 'Limited Funds', 'Role': 'Web Designer', 'Assigned': 1},\n",
    "    {'Scenario': 'Limited Funds', 'Role': 'Systems Engineer', 'Assigned': 1},\n",
    "    {'Scenario': 'Limited Funds', 'Role': 'AI Engineer', 'Assigned': 1},\n",
    "\n",
    "    {'Scenario': 'Additional Funds', 'Role': 'Database Admin', 'Assigned': 1},\n",
    "    {'Scenario': 'Additional Funds', 'Role': 'Web Designer', 'Assigned': 1},\n",
    "    {'Scenario': 'Additional Funds', 'Role': 'Systems Engineer', 'Assigned': 1},\n",
    "    {'Scenario': 'Additional Funds', 'Role': 'AI Engineer', 'Assigned': 1},\n",
    "    {'Scenario': 'Additional Funds', 'Role': 'Data Scientist', 'Assigned': 1},\n",
    "\n",
    "    {'Scenario': 'Optimized Hiring', 'Role': 'Database Admin', 'Assigned': 1},\n",
    "    {'Scenario': 'Optimized Hiring', 'Role': 'Web Designer', 'Assigned': 1},\n",
    "    {'Scenario': 'Optimized Hiring', 'Role': 'Systems Engineer', 'Assigned': 1},\n",
    "    {'Scenario': 'Optimized Hiring', 'Role': 'AI Engineer', 'Assigned': 1},\n",
    "    {'Scenario': 'Optimized Hiring', 'Role': 'Data Scientist', 'Assigned': 1}\n",
    "]\n",
    "\n",
    "#Convert data to DataFrame\n",
    "df = pd.DataFrame(data)\n",
    "\n",
    "#Function to create the stacked area chart\n",
    "def create_stacked_area_chart(selected_scenario='All Scenarios'):\n",
    "    if selected_scenario == 'All Scenarios':\n",
    "        filtered_df = df\n",
    "    else:\n",
    "        filtered_df = df[df['Scenario'] == selected_scenario]\n",
    "\n",
    "    pivot_df = filtered_df.pivot_table(index='Role', columns='Scenario', values='Assigned', fill_value=0)\n",
    "\n",
    "    #Create stacked area chart\n",
    "    fig = make_subplots(specs=[[{\"secondary_y\": False}]])\n",
    "    for scenario in pivot_df.columns:\n",
    "        fig.add_scatter(\n",
    "            x=pivot_df.index,\n",
    "            y=pivot_df[scenario],\n",
    "            mode='lines',\n",
    "            stackgroup='one',  # Enables stacking\n",
    "            name=scenario\n",
    "        )\n",
    "\n",
    "    fig.update_layout(\n",
    "        title=f\"Stacked Area Chart: {selected_scenario}\",\n",
    "        xaxis_title=\"Job Roles\",\n",
    "        yaxis_title=\"Number of Assignments\",\n",
    "        legend_title=\"Scenarios\",\n",
    "        template=\"plotly\",\n",
    "    )\n",
    "\n",
    "    return fig\n",
    "\n",
    "#Function to update the chart based on user selection\n",
    "def update_chart(canvas, frame):\n",
    "    selected_scenario = scenario_var.get()\n",
    "    fig = create_stacked_area_chart(selected_scenario)\n",
    "    canvas.draw_idle()\n",
    "    plot_figure(fig, canvas, frame)\n",
    "\n",
    "#Function to add new data\n",
    "def add_new_data():\n",
    "    scenario = scenario_entry.get()\n",
    "    role = role_entry.get()\n",
    "    assigned = assigned_entry.get()\n",
    "\n",
    "    if not scenario or not role or not assigned.isdigit():\n",
    "        messagebox.showerror(\"Input Error\", \"Please enter valid data!\")\n",
    "        return\n",
    "\n",
    "    new_data = {'Scenario': scenario, 'Role': role, 'Assigned': int(assigned)}\n",
    "    global df\n",
    "    df = df.append(new_data, ignore_index=True)\n",
    "    messagebox.showinfo(\"Success\", \"Data added successfully!\")\n",
    "\n",
    "#Function to reset the data\n",
    "def reset_data():\n",
    "    global df\n",
    "    df = pd.DataFrame(data)  # Reset to initial data\n",
    "    messagebox.showinfo(\"Reset\", \"Data has been reset to default!\")\n",
    "\n",
    "#Function to embed Plotly chart into Tkinter\n",
    "def plot_figure(fig, canvas, frame):\n",
    "    html_str = fig.to_html(full_html=False)\n",
    "    html_widget = tk.Text(frame, height=25, width=100)\n",
    "    html_widget.insert(\"1.0\", html_str)\n",
    "    html_widget.pack(side=tk.TOP, fill=tk.BOTH, expand=True)\n",
    "\n",
    "#Tkinter GUI\n",
    "root = tk.Tk()\n",
    "root.title(\"Explore Constraint Scenarios\")\n",
    "root.geometry(\"900x600\")\n",
    "\n",
    "#Main frame for the chart\n",
    "chart_frame = tk.Frame(root)\n",
    "chart_frame.pack(side=tk.TOP, fill=tk.BOTH, expand=True)\n",
    "\n",
    "#Bottom frame for controls\n",
    "control_frame = tk.Frame(root)\n",
    "control_frame.pack(side=tk.BOTTOM, fill=tk.X, expand=True)\n",
    "\n",
    "#Dropdown for scenario selection\n",
    "scenario_var = tk.StringVar(value=\"All Scenarios\")\n",
    "scenario_label = tk.Label(control_frame, text=\"Select Scenario:\", font=(\"Arial\", 12))\n",
    "scenario_label.grid(row=0, column=0, padx=10, pady=10)\n",
    "\n",
    "scenario_dropdown = ttk.Combobox(\n",
    "    control_frame, textvariable=scenario_var, state=\"readonly\",\n",
    "    values=[\"All Scenarios\", \"Limited Funds\", \"Additional Funds\", \"Optimized Hiring\"]\n",
    ")\n",
    "scenario_dropdown.grid(row=0, column=1, padx=10, pady=10)\n",
    "\n",
    "#Button to update the chart\n",
    "update_button = tk.Button(control_frame, text=\"Generate Chart\", command=lambda: update_chart(canvas, chart_frame), font=(\"Arial\", 12))\n",
    "update_button.grid(row=0, column=2, padx=10, pady=10)\n",
    "\n",
    "#Entry boxes for adding new data\n",
    "scenario_entry = tk.Entry(control_frame, width=20)\n",
    "role_entry = tk.Entry(control_frame, width=20)\n",
    "assigned_entry = tk.Entry(control_frame, width=5)\n",
    "\n",
    "scenario_label = tk.Label(control_frame, text=\"Scenario:\")\n",
    "role_label = tk.Label(control_frame, text=\"Role:\")\n",
    "assigned_label = tk.Label(control_frame, text=\"Assigned:\")\n",
    "\n",
    "scenario_label.grid(row=1, column=0)\n",
    "role_label.grid(row=1, column=1)\n",
    "assigned_label.grid(row=1, column=2)\n",
    "\n",
    "scenario_entry.grid(row=2, column=0)\n",
    "role_entry.grid(row=2, column=1)\n",
    "assigned_entry.grid(row=2, column=2)\n",
    "\n",
    "#Add and Reset buttons\n",
    "add_button = tk.Button(control_frame, text=\"Add Data\", command=add_new_data, font=(\"Arial\", 12))\n",
    "reset_button = tk.Button(control_frame, text=\"Reset Data\", command=reset_data, font=(\"Arial\", 12))\n",
    "\n",
    "add_button.grid(row=2, column=3, padx=10, pady=10)\n",
    "reset_button.grid(row=2, column=4, padx=10, pady=10)\n",
    "\n",
    "#Initial chart creation\n",
    "fig = create_stacked_area_chart('All Scenarios')\n",
    "canvas = FigureCanvasTkAgg(fig, master=chart_frame)\n",
    "canvas.draw()\n",
    "plot_figure(fig, canvas, chart_frame)\n",
    "\n",
    "#Run the GUI\n",
    "root.mainloop()"
   ]
  },
  {
   "cell_type": "markdown",
   "id": "6badd4e4-fbd7-4231-ad1f-5787f896b48a",
   "metadata": {},
   "source": [
    "## Scenario 2"
   ]
  },
  {
   "cell_type": "code",
   "execution_count": 27,
   "id": "1958ad3d-9b3d-4d40-8255-90b7520cc1da",
   "metadata": {},
   "outputs": [
    {
     "name": "stdout",
     "output_type": "stream",
     "text": [
      "Found 32247 solution(s). Displaying the first 50 solutions:\n",
      "\n",
      "Solution 1:\n",
      "----------------------------------------\n",
      "Database Admin 1         : Jane\n",
      "Python Programmer 1      : Jane\n",
      "Python Programmer 2      : Bruce\n",
      "Python Programmer 3      : Bruce\n",
      "Web Designer 1           : Anita\n",
      "Systems Engineer 1       : Mary\n",
      "AI Engineer 1            : Maria\n",
      "AI Engineer 2            : Maria\n",
      "AI Engineer 3            : Anita\n",
      "\n",
      "========================================\n",
      "\n",
      "Solution 2:\n",
      "----------------------------------------\n",
      "Database Admin 1         : Jane\n",
      "Python Programmer 1      : Jane\n",
      "Python Programmer 2      : Bruce\n",
      "Python Programmer 3      : Bruce\n",
      "Web Designer 1           : Anita\n",
      "Systems Engineer 1       : Mary\n",
      "AI Engineer 1            : Maria\n",
      "AI Engineer 2            : Maria\n",
      "AI Engineer 3            : Jim\n",
      "\n",
      "========================================\n",
      "\n",
      "Solution 3:\n",
      "----------------------------------------\n",
      "Database Admin 1         : Jane\n",
      "Python Programmer 1      : Jane\n",
      "Python Programmer 2      : Bruce\n",
      "Python Programmer 3      : Bruce\n",
      "Web Designer 1           : Anita\n",
      "Systems Engineer 1       : Mary\n",
      "AI Engineer 1            : Maria\n",
      "AI Engineer 2            : Maria\n",
      "AI Engineer 3            : Juan\n",
      "\n",
      "========================================\n",
      "\n",
      "Solution 4:\n",
      "----------------------------------------\n",
      "Database Admin 1         : Jane\n",
      "Python Programmer 1      : Jane\n",
      "Python Programmer 2      : Bruce\n",
      "Python Programmer 3      : Bruce\n",
      "Web Designer 1           : Anita\n",
      "Systems Engineer 1       : Mary\n",
      "AI Engineer 1            : Maria\n",
      "AI Engineer 2            : Maria\n",
      "AI Engineer 3            : Peter\n",
      "\n",
      "========================================\n",
      "\n",
      "Solution 5:\n",
      "----------------------------------------\n",
      "Database Admin 1         : Jane\n",
      "Python Programmer 1      : Jane\n",
      "Python Programmer 2      : Bruce\n",
      "Python Programmer 3      : Bruce\n",
      "Web Designer 1           : Anita\n",
      "Systems Engineer 1       : Mary\n",
      "AI Engineer 1            : Maria\n",
      "AI Engineer 2            : Anita\n",
      "AI Engineer 3            : Maria\n",
      "\n",
      "========================================\n",
      "\n",
      "Solution 6:\n",
      "----------------------------------------\n",
      "Database Admin 1         : Jane\n",
      "Python Programmer 1      : Jane\n",
      "Python Programmer 2      : Bruce\n",
      "Python Programmer 3      : Bruce\n",
      "Web Designer 1           : Anita\n",
      "Systems Engineer 1       : Mary\n",
      "AI Engineer 1            : Maria\n",
      "AI Engineer 2            : Anita\n",
      "AI Engineer 3            : Jim\n",
      "\n",
      "========================================\n",
      "\n",
      "Solution 7:\n",
      "----------------------------------------\n",
      "Database Admin 1         : Jane\n",
      "Python Programmer 1      : Jane\n",
      "Python Programmer 2      : Bruce\n",
      "Python Programmer 3      : Bruce\n",
      "Web Designer 1           : Anita\n",
      "Systems Engineer 1       : Mary\n",
      "AI Engineer 1            : Maria\n",
      "AI Engineer 2            : Anita\n",
      "AI Engineer 3            : Juan\n",
      "\n",
      "========================================\n",
      "\n",
      "Solution 8:\n",
      "----------------------------------------\n",
      "Database Admin 1         : Jane\n",
      "Python Programmer 1      : Jane\n",
      "Python Programmer 2      : Bruce\n",
      "Python Programmer 3      : Bruce\n",
      "Web Designer 1           : Anita\n",
      "Systems Engineer 1       : Mary\n",
      "AI Engineer 1            : Maria\n",
      "AI Engineer 2            : Anita\n",
      "AI Engineer 3            : Peter\n",
      "\n",
      "========================================\n",
      "\n",
      "Solution 9:\n",
      "----------------------------------------\n",
      "Database Admin 1         : Jane\n",
      "Python Programmer 1      : Jane\n",
      "Python Programmer 2      : Bruce\n",
      "Python Programmer 3      : Bruce\n",
      "Web Designer 1           : Anita\n",
      "Systems Engineer 1       : Mary\n",
      "AI Engineer 1            : Maria\n",
      "AI Engineer 2            : Jim\n",
      "AI Engineer 3            : Anita\n",
      "\n",
      "========================================\n",
      "\n",
      "Solution 10:\n",
      "----------------------------------------\n",
      "Database Admin 1         : Jane\n",
      "Python Programmer 1      : Jane\n",
      "Python Programmer 2      : Bruce\n",
      "Python Programmer 3      : Bruce\n",
      "Web Designer 1           : Anita\n",
      "Systems Engineer 1       : Mary\n",
      "AI Engineer 1            : Maria\n",
      "AI Engineer 2            : Jim\n",
      "AI Engineer 3            : Maria\n",
      "\n",
      "========================================\n",
      "\n",
      "Solution 11:\n",
      "----------------------------------------\n",
      "Database Admin 1         : Jane\n",
      "Python Programmer 1      : Jane\n",
      "Python Programmer 2      : Bruce\n",
      "Python Programmer 3      : Bruce\n",
      "Web Designer 1           : Anita\n",
      "Systems Engineer 1       : Mary\n",
      "AI Engineer 1            : Maria\n",
      "AI Engineer 2            : Jim\n",
      "AI Engineer 3            : Jim\n",
      "\n",
      "========================================\n",
      "\n",
      "Solution 12:\n",
      "----------------------------------------\n",
      "Database Admin 1         : Jane\n",
      "Python Programmer 1      : Jane\n",
      "Python Programmer 2      : Bruce\n",
      "Python Programmer 3      : Bruce\n",
      "Web Designer 1           : Anita\n",
      "Systems Engineer 1       : Mary\n",
      "AI Engineer 1            : Maria\n",
      "AI Engineer 2            : Jim\n",
      "AI Engineer 3            : Juan\n",
      "\n",
      "========================================\n",
      "\n",
      "Solution 13:\n",
      "----------------------------------------\n",
      "Database Admin 1         : Jane\n",
      "Python Programmer 1      : Jane\n",
      "Python Programmer 2      : Bruce\n",
      "Python Programmer 3      : Bruce\n",
      "Web Designer 1           : Anita\n",
      "Systems Engineer 1       : Mary\n",
      "AI Engineer 1            : Maria\n",
      "AI Engineer 2            : Jim\n",
      "AI Engineer 3            : Peter\n",
      "\n",
      "========================================\n",
      "\n",
      "Solution 14:\n",
      "----------------------------------------\n",
      "Database Admin 1         : Jane\n",
      "Python Programmer 1      : Jane\n",
      "Python Programmer 2      : Bruce\n",
      "Python Programmer 3      : Bruce\n",
      "Web Designer 1           : Anita\n",
      "Systems Engineer 1       : Mary\n",
      "AI Engineer 1            : Maria\n",
      "AI Engineer 2            : Juan\n",
      "AI Engineer 3            : Anita\n",
      "\n",
      "========================================\n",
      "\n",
      "Solution 15:\n",
      "----------------------------------------\n",
      "Database Admin 1         : Jane\n",
      "Python Programmer 1      : Jane\n",
      "Python Programmer 2      : Bruce\n",
      "Python Programmer 3      : Bruce\n",
      "Web Designer 1           : Anita\n",
      "Systems Engineer 1       : Mary\n",
      "AI Engineer 1            : Maria\n",
      "AI Engineer 2            : Juan\n",
      "AI Engineer 3            : Maria\n",
      "\n",
      "========================================\n",
      "\n",
      "Solution 16:\n",
      "----------------------------------------\n",
      "Database Admin 1         : Jane\n",
      "Python Programmer 1      : Jane\n",
      "Python Programmer 2      : Bruce\n",
      "Python Programmer 3      : Bruce\n",
      "Web Designer 1           : Anita\n",
      "Systems Engineer 1       : Mary\n",
      "AI Engineer 1            : Maria\n",
      "AI Engineer 2            : Juan\n",
      "AI Engineer 3            : Jim\n",
      "\n",
      "========================================\n",
      "\n",
      "Solution 17:\n",
      "----------------------------------------\n",
      "Database Admin 1         : Jane\n",
      "Python Programmer 1      : Jane\n",
      "Python Programmer 2      : Bruce\n",
      "Python Programmer 3      : Bruce\n",
      "Web Designer 1           : Anita\n",
      "Systems Engineer 1       : Mary\n",
      "AI Engineer 1            : Maria\n",
      "AI Engineer 2            : Juan\n",
      "AI Engineer 3            : Juan\n",
      "\n",
      "========================================\n",
      "\n",
      "Solution 18:\n",
      "----------------------------------------\n",
      "Database Admin 1         : Jane\n",
      "Python Programmer 1      : Jane\n",
      "Python Programmer 2      : Bruce\n",
      "Python Programmer 3      : Bruce\n",
      "Web Designer 1           : Anita\n",
      "Systems Engineer 1       : Mary\n",
      "AI Engineer 1            : Maria\n",
      "AI Engineer 2            : Juan\n",
      "AI Engineer 3            : Peter\n",
      "\n",
      "========================================\n",
      "\n",
      "Solution 19:\n",
      "----------------------------------------\n",
      "Database Admin 1         : Jane\n",
      "Python Programmer 1      : Jane\n",
      "Python Programmer 2      : Bruce\n",
      "Python Programmer 3      : Bruce\n",
      "Web Designer 1           : Anita\n",
      "Systems Engineer 1       : Mary\n",
      "AI Engineer 1            : Maria\n",
      "AI Engineer 2            : Peter\n",
      "AI Engineer 3            : Anita\n",
      "\n",
      "========================================\n",
      "\n",
      "Solution 20:\n",
      "----------------------------------------\n",
      "Database Admin 1         : Jane\n",
      "Python Programmer 1      : Jane\n",
      "Python Programmer 2      : Bruce\n",
      "Python Programmer 3      : Bruce\n",
      "Web Designer 1           : Anita\n",
      "Systems Engineer 1       : Mary\n",
      "AI Engineer 1            : Maria\n",
      "AI Engineer 2            : Peter\n",
      "AI Engineer 3            : Maria\n",
      "\n",
      "========================================\n",
      "\n",
      "Solution 21:\n",
      "----------------------------------------\n",
      "Database Admin 1         : Jane\n",
      "Python Programmer 1      : Jane\n",
      "Python Programmer 2      : Bruce\n",
      "Python Programmer 3      : Bruce\n",
      "Web Designer 1           : Anita\n",
      "Systems Engineer 1       : Mary\n",
      "AI Engineer 1            : Maria\n",
      "AI Engineer 2            : Peter\n",
      "AI Engineer 3            : Jim\n",
      "\n",
      "========================================\n",
      "\n",
      "Solution 22:\n",
      "----------------------------------------\n",
      "Database Admin 1         : Jane\n",
      "Python Programmer 1      : Jane\n",
      "Python Programmer 2      : Bruce\n",
      "Python Programmer 3      : Bruce\n",
      "Web Designer 1           : Anita\n",
      "Systems Engineer 1       : Mary\n",
      "AI Engineer 1            : Maria\n",
      "AI Engineer 2            : Peter\n",
      "AI Engineer 3            : Juan\n",
      "\n",
      "========================================\n",
      "\n",
      "Solution 23:\n",
      "----------------------------------------\n",
      "Database Admin 1         : Jane\n",
      "Python Programmer 1      : Jane\n",
      "Python Programmer 2      : Bruce\n",
      "Python Programmer 3      : Bruce\n",
      "Web Designer 1           : Anita\n",
      "Systems Engineer 1       : Mary\n",
      "AI Engineer 1            : Maria\n",
      "AI Engineer 2            : Peter\n",
      "AI Engineer 3            : Peter\n",
      "\n",
      "========================================\n",
      "\n",
      "Solution 24:\n",
      "----------------------------------------\n",
      "Database Admin 1         : Jane\n",
      "Python Programmer 1      : Jane\n",
      "Python Programmer 2      : Bruce\n",
      "Python Programmer 3      : Bruce\n",
      "Web Designer 1           : Anita\n",
      "Systems Engineer 1       : Mary\n",
      "AI Engineer 1            : Anita\n",
      "AI Engineer 2            : Maria\n",
      "AI Engineer 3            : Maria\n",
      "\n",
      "========================================\n",
      "\n",
      "Solution 25:\n",
      "----------------------------------------\n",
      "Database Admin 1         : Jane\n",
      "Python Programmer 1      : Jane\n",
      "Python Programmer 2      : Bruce\n",
      "Python Programmer 3      : Bruce\n",
      "Web Designer 1           : Anita\n",
      "Systems Engineer 1       : Mary\n",
      "AI Engineer 1            : Anita\n",
      "AI Engineer 2            : Maria\n",
      "AI Engineer 3            : Jim\n",
      "\n",
      "========================================\n",
      "\n",
      "Solution 26:\n",
      "----------------------------------------\n",
      "Database Admin 1         : Jane\n",
      "Python Programmer 1      : Jane\n",
      "Python Programmer 2      : Bruce\n",
      "Python Programmer 3      : Bruce\n",
      "Web Designer 1           : Anita\n",
      "Systems Engineer 1       : Mary\n",
      "AI Engineer 1            : Anita\n",
      "AI Engineer 2            : Maria\n",
      "AI Engineer 3            : Juan\n",
      "\n",
      "========================================\n",
      "\n",
      "Solution 27:\n",
      "----------------------------------------\n",
      "Database Admin 1         : Jane\n",
      "Python Programmer 1      : Jane\n",
      "Python Programmer 2      : Bruce\n",
      "Python Programmer 3      : Bruce\n",
      "Web Designer 1           : Anita\n",
      "Systems Engineer 1       : Mary\n",
      "AI Engineer 1            : Anita\n",
      "AI Engineer 2            : Maria\n",
      "AI Engineer 3            : Peter\n",
      "\n",
      "========================================\n",
      "\n",
      "Solution 28:\n",
      "----------------------------------------\n",
      "Database Admin 1         : Jane\n",
      "Python Programmer 1      : Jane\n",
      "Python Programmer 2      : Bruce\n",
      "Python Programmer 3      : Bruce\n",
      "Web Designer 1           : Anita\n",
      "Systems Engineer 1       : Mary\n",
      "AI Engineer 1            : Anita\n",
      "AI Engineer 2            : Jim\n",
      "AI Engineer 3            : Maria\n",
      "\n",
      "========================================\n",
      "\n",
      "Solution 29:\n",
      "----------------------------------------\n",
      "Database Admin 1         : Jane\n",
      "Python Programmer 1      : Jane\n",
      "Python Programmer 2      : Bruce\n",
      "Python Programmer 3      : Bruce\n",
      "Web Designer 1           : Anita\n",
      "Systems Engineer 1       : Mary\n",
      "AI Engineer 1            : Anita\n",
      "AI Engineer 2            : Jim\n",
      "AI Engineer 3            : Jim\n",
      "\n",
      "========================================\n",
      "\n",
      "Solution 30:\n",
      "----------------------------------------\n",
      "Database Admin 1         : Jane\n",
      "Python Programmer 1      : Jane\n",
      "Python Programmer 2      : Bruce\n",
      "Python Programmer 3      : Bruce\n",
      "Web Designer 1           : Anita\n",
      "Systems Engineer 1       : Mary\n",
      "AI Engineer 1            : Anita\n",
      "AI Engineer 2            : Jim\n",
      "AI Engineer 3            : Juan\n",
      "\n",
      "========================================\n",
      "\n",
      "Solution 31:\n",
      "----------------------------------------\n",
      "Database Admin 1         : Jane\n",
      "Python Programmer 1      : Jane\n",
      "Python Programmer 2      : Bruce\n",
      "Python Programmer 3      : Bruce\n",
      "Web Designer 1           : Anita\n",
      "Systems Engineer 1       : Mary\n",
      "AI Engineer 1            : Anita\n",
      "AI Engineer 2            : Jim\n",
      "AI Engineer 3            : Peter\n",
      "\n",
      "========================================\n",
      "\n",
      "Solution 32:\n",
      "----------------------------------------\n",
      "Database Admin 1         : Jane\n",
      "Python Programmer 1      : Jane\n",
      "Python Programmer 2      : Bruce\n",
      "Python Programmer 3      : Bruce\n",
      "Web Designer 1           : Anita\n",
      "Systems Engineer 1       : Mary\n",
      "AI Engineer 1            : Anita\n",
      "AI Engineer 2            : Juan\n",
      "AI Engineer 3            : Maria\n",
      "\n",
      "========================================\n",
      "\n",
      "Solution 33:\n",
      "----------------------------------------\n",
      "Database Admin 1         : Jane\n",
      "Python Programmer 1      : Jane\n",
      "Python Programmer 2      : Bruce\n",
      "Python Programmer 3      : Bruce\n",
      "Web Designer 1           : Anita\n",
      "Systems Engineer 1       : Mary\n",
      "AI Engineer 1            : Anita\n",
      "AI Engineer 2            : Juan\n",
      "AI Engineer 3            : Jim\n",
      "\n",
      "========================================\n",
      "\n",
      "Solution 34:\n",
      "----------------------------------------\n",
      "Database Admin 1         : Jane\n",
      "Python Programmer 1      : Jane\n",
      "Python Programmer 2      : Bruce\n",
      "Python Programmer 3      : Bruce\n",
      "Web Designer 1           : Anita\n",
      "Systems Engineer 1       : Mary\n",
      "AI Engineer 1            : Anita\n",
      "AI Engineer 2            : Juan\n",
      "AI Engineer 3            : Juan\n",
      "\n",
      "========================================\n",
      "\n",
      "Solution 35:\n",
      "----------------------------------------\n",
      "Database Admin 1         : Jane\n",
      "Python Programmer 1      : Jane\n",
      "Python Programmer 2      : Bruce\n",
      "Python Programmer 3      : Bruce\n",
      "Web Designer 1           : Anita\n",
      "Systems Engineer 1       : Mary\n",
      "AI Engineer 1            : Anita\n",
      "AI Engineer 2            : Juan\n",
      "AI Engineer 3            : Peter\n",
      "\n",
      "========================================\n",
      "\n",
      "Solution 36:\n",
      "----------------------------------------\n",
      "Database Admin 1         : Jane\n",
      "Python Programmer 1      : Jane\n",
      "Python Programmer 2      : Bruce\n",
      "Python Programmer 3      : Bruce\n",
      "Web Designer 1           : Anita\n",
      "Systems Engineer 1       : Mary\n",
      "AI Engineer 1            : Anita\n",
      "AI Engineer 2            : Peter\n",
      "AI Engineer 3            : Maria\n",
      "\n",
      "========================================\n",
      "\n",
      "Solution 37:\n",
      "----------------------------------------\n",
      "Database Admin 1         : Jane\n",
      "Python Programmer 1      : Jane\n",
      "Python Programmer 2      : Bruce\n",
      "Python Programmer 3      : Bruce\n",
      "Web Designer 1           : Anita\n",
      "Systems Engineer 1       : Mary\n",
      "AI Engineer 1            : Anita\n",
      "AI Engineer 2            : Peter\n",
      "AI Engineer 3            : Jim\n",
      "\n",
      "========================================\n",
      "\n",
      "Solution 38:\n",
      "----------------------------------------\n",
      "Database Admin 1         : Jane\n",
      "Python Programmer 1      : Jane\n",
      "Python Programmer 2      : Bruce\n",
      "Python Programmer 3      : Bruce\n",
      "Web Designer 1           : Anita\n",
      "Systems Engineer 1       : Mary\n",
      "AI Engineer 1            : Anita\n",
      "AI Engineer 2            : Peter\n",
      "AI Engineer 3            : Juan\n",
      "\n",
      "========================================\n",
      "\n",
      "Solution 39:\n",
      "----------------------------------------\n",
      "Database Admin 1         : Jane\n",
      "Python Programmer 1      : Jane\n",
      "Python Programmer 2      : Bruce\n",
      "Python Programmer 3      : Bruce\n",
      "Web Designer 1           : Anita\n",
      "Systems Engineer 1       : Mary\n",
      "AI Engineer 1            : Anita\n",
      "AI Engineer 2            : Peter\n",
      "AI Engineer 3            : Peter\n",
      "\n",
      "========================================\n",
      "\n",
      "Solution 40:\n",
      "----------------------------------------\n",
      "Database Admin 1         : Jane\n",
      "Python Programmer 1      : Jane\n",
      "Python Programmer 2      : Bruce\n",
      "Python Programmer 3      : Bruce\n",
      "Web Designer 1           : Anita\n",
      "Systems Engineer 1       : Mary\n",
      "AI Engineer 1            : Jim\n",
      "AI Engineer 2            : Maria\n",
      "AI Engineer 3            : Anita\n",
      "\n",
      "========================================\n",
      "\n",
      "Solution 41:\n",
      "----------------------------------------\n",
      "Database Admin 1         : Jane\n",
      "Python Programmer 1      : Jane\n",
      "Python Programmer 2      : Bruce\n",
      "Python Programmer 3      : Bruce\n",
      "Web Designer 1           : Anita\n",
      "Systems Engineer 1       : Mary\n",
      "AI Engineer 1            : Jim\n",
      "AI Engineer 2            : Maria\n",
      "AI Engineer 3            : Maria\n",
      "\n",
      "========================================\n",
      "\n",
      "Solution 42:\n",
      "----------------------------------------\n",
      "Database Admin 1         : Jane\n",
      "Python Programmer 1      : Jane\n",
      "Python Programmer 2      : Bruce\n",
      "Python Programmer 3      : Bruce\n",
      "Web Designer 1           : Anita\n",
      "Systems Engineer 1       : Mary\n",
      "AI Engineer 1            : Jim\n",
      "AI Engineer 2            : Maria\n",
      "AI Engineer 3            : Jim\n",
      "\n",
      "========================================\n",
      "\n",
      "Solution 43:\n",
      "----------------------------------------\n",
      "Database Admin 1         : Jane\n",
      "Python Programmer 1      : Jane\n",
      "Python Programmer 2      : Bruce\n",
      "Python Programmer 3      : Bruce\n",
      "Web Designer 1           : Anita\n",
      "Systems Engineer 1       : Mary\n",
      "AI Engineer 1            : Jim\n",
      "AI Engineer 2            : Maria\n",
      "AI Engineer 3            : Juan\n",
      "\n",
      "========================================\n",
      "\n",
      "Solution 44:\n",
      "----------------------------------------\n",
      "Database Admin 1         : Jane\n",
      "Python Programmer 1      : Jane\n",
      "Python Programmer 2      : Bruce\n",
      "Python Programmer 3      : Bruce\n",
      "Web Designer 1           : Anita\n",
      "Systems Engineer 1       : Mary\n",
      "AI Engineer 1            : Jim\n",
      "AI Engineer 2            : Maria\n",
      "AI Engineer 3            : Peter\n",
      "\n",
      "========================================\n",
      "\n",
      "Solution 45:\n",
      "----------------------------------------\n",
      "Database Admin 1         : Jane\n",
      "Python Programmer 1      : Jane\n",
      "Python Programmer 2      : Bruce\n",
      "Python Programmer 3      : Bruce\n",
      "Web Designer 1           : Anita\n",
      "Systems Engineer 1       : Mary\n",
      "AI Engineer 1            : Jim\n",
      "AI Engineer 2            : Anita\n",
      "AI Engineer 3            : Maria\n",
      "\n",
      "========================================\n",
      "\n",
      "Solution 46:\n",
      "----------------------------------------\n",
      "Database Admin 1         : Jane\n",
      "Python Programmer 1      : Jane\n",
      "Python Programmer 2      : Bruce\n",
      "Python Programmer 3      : Bruce\n",
      "Web Designer 1           : Anita\n",
      "Systems Engineer 1       : Mary\n",
      "AI Engineer 1            : Jim\n",
      "AI Engineer 2            : Anita\n",
      "AI Engineer 3            : Jim\n",
      "\n",
      "========================================\n",
      "\n",
      "Solution 47:\n",
      "----------------------------------------\n",
      "Database Admin 1         : Jane\n",
      "Python Programmer 1      : Jane\n",
      "Python Programmer 2      : Bruce\n",
      "Python Programmer 3      : Bruce\n",
      "Web Designer 1           : Anita\n",
      "Systems Engineer 1       : Mary\n",
      "AI Engineer 1            : Jim\n",
      "AI Engineer 2            : Anita\n",
      "AI Engineer 3            : Juan\n",
      "\n",
      "========================================\n",
      "\n",
      "Solution 48:\n",
      "----------------------------------------\n",
      "Database Admin 1         : Jane\n",
      "Python Programmer 1      : Jane\n",
      "Python Programmer 2      : Bruce\n",
      "Python Programmer 3      : Bruce\n",
      "Web Designer 1           : Anita\n",
      "Systems Engineer 1       : Mary\n",
      "AI Engineer 1            : Jim\n",
      "AI Engineer 2            : Anita\n",
      "AI Engineer 3            : Peter\n",
      "\n",
      "========================================\n",
      "\n",
      "Solution 49:\n",
      "----------------------------------------\n",
      "Database Admin 1         : Jane\n",
      "Python Programmer 1      : Jane\n",
      "Python Programmer 2      : Bruce\n",
      "Python Programmer 3      : Bruce\n",
      "Web Designer 1           : Anita\n",
      "Systems Engineer 1       : Mary\n",
      "AI Engineer 1            : Jim\n",
      "AI Engineer 2            : Jim\n",
      "AI Engineer 3            : Anita\n",
      "\n",
      "========================================\n",
      "\n",
      "Solution 50:\n",
      "----------------------------------------\n",
      "Database Admin 1         : Jane\n",
      "Python Programmer 1      : Jane\n",
      "Python Programmer 2      : Bruce\n",
      "Python Programmer 3      : Bruce\n",
      "Web Designer 1           : Anita\n",
      "Systems Engineer 1       : Mary\n",
      "AI Engineer 1            : Jim\n",
      "AI Engineer 2            : Jim\n",
      "AI Engineer 3            : Maria\n",
      "\n",
      "========================================\n",
      "\n"
     ]
    }
   ],
   "source": [
    "from constraint import Problem\n",
    "\n",
    "#Step 1: Define the CSP problem\n",
    "problem = Problem()\n",
    "\n",
    "#Step 2: Define variables (roles to be filled) and their domains (eligible candidates)\n",
    "roles = {\n",
    "    \"Python Programmer\": [\"Peter\", \"Bruce\", \"Jane\"],\n",
    "    \"AI Engineer\": [\"Peter\", \"Juan\", \"Jim\", \"Anita\", \"Maria\"],\n",
    "    \"Web Designer\": [\"Juan\", \"Mary\", \"Anita\"],\n",
    "    \"Database Admin\": [\"Jim\", \"Jane\"],\n",
    "    \"Systems Engineer\": [\"Juan\", \"Jim\", \"Mary\", \"Bruce\"],\n",
    "    \"Security Employee (Optional)\": [\"Maria\", \"Mary\"]\n",
    "}\n",
    "\n",
    "#Number of each role needed\n",
    "role_requirements = {\n",
    "    \"Python Programmer\": 3,\n",
    "    \"AI Engineer\": 3,\n",
    "    \"Web Designer\": 1,\n",
    "    \"Database Admin\": 1,\n",
    "    \"Systems Engineer\": 1,\n",
    "    \"Security Employee (Optional)\": 0  # Optional role\n",
    "}\n",
    "\n",
    "#Add variables and their domains to the problem\n",
    "for role, candidates in roles.items():\n",
    "    problem.addVariables([f\"{role} {i+1}\" for i in range(role_requirements[role])], candidates)\n",
    "\n",
    "#Step 3: Define constraints\n",
    "#Allow candidates to take at most two roles\n",
    "def max_two_roles(*assignments):\n",
    "    from collections import Counter\n",
    "    counts = Counter(assignments)\n",
    "    return all(count <= 2 for count in counts.values())\n",
    "\n",
    "problem.addConstraint(max_two_roles, problem._variables)\n",
    "\n",
    "#Prioritise filling all required roles\n",
    "#No additional code needed since constraints naturally enforce role requirements\n",
    "\n",
    "#Step 4: Solve the problem\n",
    "solutions = problem.getSolutions()\n",
    "\n",
    "#Step 5: Display the results with improved formatting\n",
    "max_solutions_to_display = 50\n",
    "\n",
    "if solutions:\n",
    "    print(f\"Found {len(solutions)} solution(s). Displaying the first {min(max_solutions_to_display, len(solutions))} solutions:\\n\")\n",
    "    \n",
    "    for i, solution in enumerate(solutions[:max_solutions_to_display]):\n",
    "        print(f\"Solution {i + 1}:\")\n",
    "        print(\"-\" * 40)  #Divider line for better readability\n",
    "\n",
    "        # Loop through the roles and print the candidate for each role\n",
    "        for role, candidate in solution.items():\n",
    "            print(f\"{role: <25}: {candidate}\")\n",
    "        \n",
    "        print(\"\\n\" + \"=\" * 40 + \"\\n\")  #Divider after each solution for clarity\n",
    "\n",
    "else:\n",
    "    print(\"No solution found.\")"
   ]
  },
  {
   "cell_type": "markdown",
   "id": "51d7d155-35a0-4edc-b444-dec1c22b9360",
   "metadata": {},
   "source": [
    "## A* Algorithm"
   ]
  },
  {
   "cell_type": "code",
   "execution_count": 1,
   "id": "bfcd4097-3763-48f2-9b8a-4c309c2a95c4",
   "metadata": {},
   "outputs": [],
   "source": [
    "import heapq"
   ]
  },
  {
   "cell_type": "code",
   "execution_count": 3,
   "id": "71b86241-5fc8-4076-8033-513ab2b632b0",
   "metadata": {},
   "outputs": [
    {
     "name": "stdout",
     "output_type": "stream",
     "text": [
      "Ideal Assignment:\n",
      "Python Programmer (1): Peter\n",
      "Python Programmer (2): Peter\n",
      "Python Programmer (3): Jane\n",
      "AI Engineer (4): Juan\n",
      "AI Engineer (5): Juan\n",
      "AI Engineer (6): Jim\n",
      "Web Designer (7): Mary\n",
      "Database Admin (8): Jim\n",
      "Systems Engineer (9): Mary\n",
      "Security Employee (10): Maria\n"
     ]
    }
   ],
   "source": [
    "#Updated Data for Scenario 2\n",
    "positions = [\n",
    "    \"Python Programmer\", \"Python Programmer\", \"Python Programmer\",\n",
    "    \"AI Engineer\", \"AI Engineer\", \"AI Engineer\",\n",
    "    \"Web Designer\", \"Database Admin\", \"Systems Engineer\",\n",
    "    \"Security Employee\"  #Optional role\n",
    "]\n",
    "candidates = {\n",
    "    \"Peter\": [\"Python Programmer\", \"AI Engineer\"],\n",
    "    \"Juan\": [\"Web Designer\", \"Systems Engineer\", \"AI Engineer\"],\n",
    "    \"Jim\": [\"AI Engineer\", \"Database Admin\", \"Systems Engineer\"],\n",
    "    \"Jane\": [\"Python Programmer\", \"Database Admin\"],\n",
    "    \"Mary\": [\"Web Designer\", \"Security Employee\", \"Systems Engineer\"],\n",
    "    \"Bruce\": [\"Systems Engineer\", \"Python Programmer\"],\n",
    "    \"Anita\": [\"Web Designer\", \"AI Engineer\"],\n",
    "    \"Maria\": [\"Multimedia\", \"AI Engineer\", \"Security Employee\"]\n",
    "}\n",
    "\n",
    "#Define A* Node\n",
    "class Node:\n",
    "    def __init__(self, assignment, cost, remaining_positions):\n",
    "        self.assignment = assignment\n",
    "        self.cost = cost\n",
    "        self.remaining_positions = remaining_positions\n",
    "\n",
    "    def __lt__(self, other):\n",
    "        return self.cost < other.cost\n",
    "\n",
    "#Heuristic Function: Counts unassigned positions\n",
    "def heuristic(remaining_positions):\n",
    "    return len(remaining_positions)\n",
    "\n",
    "#Constraint Check: Valid assignment\n",
    "def is_valid(assignment, position, candidate):\n",
    "    #Maximum 2 roles per person\n",
    "    if list(assignment.values()).count(candidate) >= 2:\n",
    "        return False\n",
    "    #Candidate must be qualified for the role\n",
    "    return position in candidates[candidate]\n",
    "\n",
    "#Generate Successors\n",
    "def successors(node):\n",
    "    successors_list = []\n",
    "    for candidate in candidates.keys():\n",
    "        if node.remaining_positions:\n",
    "            position = node.remaining_positions[0]\n",
    "            if is_valid(node.assignment, position, candidate):\n",
    "                new_assignment = node.assignment.copy()\n",
    "                new_assignment[f\"{position} ({len(node.assignment) + 1})\"] = candidate\n",
    "                new_remaining_positions = node.remaining_positions[1:]\n",
    "                new_cost = len(new_remaining_positions) + heuristic(new_remaining_positions)\n",
    "                successors_list.append(Node(new_assignment, new_cost, new_remaining_positions))\n",
    "    return successors_list\n",
    "\n",
    "#A* Algorithm\n",
    "def a_star_hiring(positions, candidates):\n",
    "    initial_node = Node({}, 0, positions)\n",
    "    frontier = []\n",
    "    heapq.heappush(frontier, initial_node)\n",
    "    \n",
    "    while frontier:\n",
    "        current_node = heapq.heappop(frontier)\n",
    "        \n",
    "        #Goal Check: All positions assigned\n",
    "        if not current_node.remaining_positions:\n",
    "            return current_node.assignment\n",
    "        \n",
    "        #Generate Successors\n",
    "        for successor in successors(current_node):\n",
    "            heapq.heappush(frontier, successor)\n",
    "    \n",
    "    return None  #No solution\n",
    "\n",
    "#Run the A* Algorithm for Scenario 2\n",
    "solution = a_star_hiring(positions, candidates)\n",
    "print(\"Ideal Assignment:\")\n",
    "for role, person in solution.items():\n",
    "    print(f\"{role}: {person}\")"
   ]
  },
  {
   "cell_type": "markdown",
   "id": "a63593f8-33f6-4ffc-82be-f6b065278d41",
   "metadata": {},
   "source": [
    "## Visualising Scenario 2\n",
    "\n",
    "### Constraint Visualisation:\n",
    "- **Candidate Skill Sets**: Display which candidates possess the necessary skills for each role.\n",
    "- **Domains for Each Role**: Show which candidates qualify for each position.\n",
    "- **Constraints**:\n",
    "    - **Max Roles per Person**: Ensure each candidate has a maximum of one role.\n",
    "    - **One Role per Position**: Each role can only be assigned to one candidate.\n",
    "\n",
    "\n",
    "### Solution Visualisation:\n",
    "- **Feasible Solutions**: Use heatmaps or bar charts to show candidate-role assignments.\n",
    "- **Highlight Feasible Solutions**: Represent the number of valid assignments that meet all constraints.\n"
   ]
  },
  {
   "cell_type": "code",
   "execution_count": 34,
   "id": "9ca99bbe-e528-492e-a602-1aa1b76be2e2",
   "metadata": {},
   "outputs": [],
   "source": [
    "import pandas as pd\n",
    "import matplotlib.pyplot as plt\n",
    "import seaborn as sns"
   ]
  },
  {
   "cell_type": "code",
   "execution_count": 36,
   "id": "906f4f2a-a39c-4c74-8be0-5bcf169bea1d",
   "metadata": {},
   "outputs": [],
   "source": [
    "#Define the candidates and their abilities for Scenario 2\n",
    "candidates = {\n",
    "    \"Peter\": [\"Python Programmer\", \"AI Engineer\"],\n",
    "    \"Juan\": [\"Web Designer\", \"Systems Engineer\", \"AI Engineer\"],\n",
    "    \"Jim\": [\"AI Engineer\", \"Database Admin\", \"Systems Engineer\"],\n",
    "    \"Jane\": [\"Python Programmer\", \"Database Admin\"],\n",
    "    \"Mary\": [\"Web Designer\", \"Security Employee\", \"Systems Engineer\"],\n",
    "    \"Bruce\": [\"Systems Engineer\", \"Python Programmer\"],\n",
    "    \"Anita\": [\"Web Designer\", \"AI Engineer\"],\n",
    "    \"Maria\": [\"Multimedia\", \"AI Engineer\", \"Security Employee\"]\n",
    "}\n",
    "\n",
    "#Define the roles that will be displayed in the heatmap\n",
    "roles = [\"Python Programmer\", \"AI Engineer\", \"Web Designer\", \"Database Admin\", \"Systems Engineer\", \"Security Employee (Optional)\"]"
   ]
  },
  {
   "cell_type": "markdown",
   "id": "f8672789-3cfa-4600-a7e4-dc295105301c",
   "metadata": {},
   "source": [
    "##  Heatmap to Show Candidate-Qualification Matching\n",
    "This heatmap will show which candidates are qualified for each of the roles based on Scenario 2. The axes will list candidates on the vertical axis and roles on the horizontal axis. The cells will have a value of 1 (qualified) or 0 (not qualified), and the color intensity will reflect this."
   ]
  },
  {
   "cell_type": "code",
   "execution_count": 39,
   "id": "c535d3a9-e647-45a1-a65e-f3f9e61c595a",
   "metadata": {},
   "outputs": [
    {
     "data": {
      "image/png": "[encoded data removed]",
      "text/plain": [
       "<Figure size 1200x600 with 2 Axes>"
      ]
     },
     "metadata": {},
     "output_type": "display_data"
    }
   ],
   "source": [
    "#Create a binary matrix of skills for the heatmap\n",
    "skills_matrix = pd.DataFrame([\n",
    "    {role: int(role in skills) for role in roles} for skills in candidates.values()\n",
    "], index=candidates.keys())\n",
    "\n",
    "#Plot the heatmap\n",
    "plt.figure(figsize=(12, 6))\n",
    "sns.heatmap(skills_matrix, annot=True, cmap=\"RdYlBu\", cbar=True, linewidths=0.5)\n",
    "plt.title(\"Candidate Skills Heatmap\", fontsize=16, fontweight=\"bold\", pad=15)\n",
    "plt.xlabel(\"Skills (Roles)\", fontsize=12)\n",
    "plt.ylabel(\"Candidates\", fontsize=12)\n",
    "plt.xticks(ha=\"right\", fontsize=10)\n",
    "plt.yticks(fontsize=10)\n",
    "plt.tight_layout()\n",
    "plt.show()"
   ]
  },
  {
   "cell_type": "markdown",
   "id": "1549c2ac-7558-4f0f-8381-1c1c92d87295",
   "metadata": {},
   "source": [
    "## Bar Chart: Number of Candidates Qualifying for Each Role\n",
    "This chart will display how many candidates are qualified for each role."
   ]
  },
  {
   "cell_type": "code",
   "execution_count": 50,
   "id": "f48c8329-850e-4c6a-bb99-dddf43509d9e",
   "metadata": {},
   "outputs": [
    {
     "data": {
      "image/png": "[encoded data removed]",
      "text/plain": [
       "<Figure size 1000x600 with 1 Axes>"
      ]
     },
     "metadata": {},
     "output_type": "display_data"
    }
   ],
   "source": [
    "# Bar chart to show the number of candidates qualifying for each role with distinct colors\n",
    "role_qualifications = skills_matrix.sum(axis=0)\n",
    "\n",
    "plt.figure(figsize=(10, 6))\n",
    "\n",
    "#Define distinct color palette for better contrast\n",
    "colors = ['#1f77b4', '#ff7f0e', '#2ca02c', '#d62728', '#9467bd', '#8c564b']\n",
    "\n",
    "#Use the custom colors, ensuring it matches the number of roles\n",
    "role_qualifications.plot(kind='bar', color=colors[:len(role_qualifications)], edgecolor='black')\n",
    "\n",
    "#Add title and labels with better font styles\n",
    "plt.title(\"Number of Candidates Qualifying for Each Role\", fontsize=16, fontweight=\"bold\", pad=15)\n",
    "plt.xlabel(\"Roles\", fontsize=12, fontweight=\"bold\")\n",
    "plt.ylabel(\"Number of Candidates\", fontsize=12, fontweight=\"bold\")\n",
    "\n",
    "#Customize tick labels for readability\n",
    "plt.xticks(ha=\"right\", fontsize=10)\n",
    "plt.yticks(fontsize=10)\n",
    "\n",
    "#Tight layout for better spacing\n",
    "plt.tight_layout()\n",
    "\n",
    "#Show the plot\n",
    "plt.show()\n"
   ]
  },
  {
   "cell_type": "markdown",
   "id": "38624c96-51d6-4de9-8fb7-8c2148ded833",
   "metadata": {},
   "source": [
    "## Heatmap: Feasible Role Assignments\n",
    "This heatmap will display feasible assignments based on the constraints (e.g., at most two roles per person, and role requirements)."
   ]
  },
  {
   "cell_type": "code",
   "execution_count": 11,
   "id": "d6c2a76b-dac2-446a-81b3-cd842541db26",
   "metadata": {},
   "outputs": [
    {
     "data": {
      "image/png": "[encoded data removed]",
      "text/plain": [
       "<Figure size 1200x600 with 2 Axes>"
      ]
     },
     "metadata": {},
     "output_type": "display_data"
    }
   ],
   "source": [
    "#Select the first 50 solutions\n",
    "sampled_solutions = feasible_assignments[:50]\n",
    "\n",
    "#Create a binary matrix for the sampled solutions\n",
    "feasible_matrix = pd.DataFrame([\n",
    "    {role: int(role in assignment.values()) for role in roles}\n",
    "    for assignment in sampled_solutions\n",
    "], index=[f\"Solution {i+1}\" for i in range(len(sampled_solutions))])\n",
    "\n",
    "#Plot the heatmap\n",
    "plt.figure(figsize=(12, 6))\n",
    "sns.heatmap(feasible_matrix, annot=True, cmap=\"viridis\", cbar=True, linewidths=0.5)\n",
    "plt.title(\"Feasible Role Assignments Heatmap (50 Solutions)\", fontsize=16, fontweight=\"bold\", pad=15)\n",
    "plt.xlabel(\"Roles\", fontsize=12)\n",
    "plt.ylabel(\"Feasible Solutions\", fontsize=12)\n",
    "plt.xticks(rotation=45, ha=\"right\", fontsize=10)\n",
    "plt.yticks(fontsize=10)\n",
    "plt.tight_layout()\n",
    "plt.show()"
   ]
  },
  {
   "cell_type": "markdown",
   "id": "23c134fc-70ae-4119-b618-284ac58cb2f9",
   "metadata": {},
   "source": [
    "## Bar Chart for Displaying the Final Assignment of Candidates to Roles\n",
    "This bar chart will show how many roles are assigned to each candidate in the 50 feasible solutions."
   ]
  },
  {
   "cell_type": "code",
   "execution_count": 23,
   "id": "f352266a-02cc-4044-ae19-0968722ea1ab",
   "metadata": {},
   "outputs": [
    {
     "data": {
      "image/png": "[encoded data removed]",
      "text/plain": [
       "<Figure size 1000x600 with 1 Axes>"
      ]
     },
     "metadata": {},
     "output_type": "display_data"
    }
   ],
   "source": [
    "#Limit the solutions to 50\n",
    "limited_solutions = feasible_assignments[:50]\n",
    "\n",
    "#Create a final assignment for each candidate\n",
    "final_assignment = {}\n",
    "for solution in limited_solutions:\n",
    "    for role, candidate in solution.items():\n",
    "        final_assignment[candidate] = final_assignment.get(candidate, 0) + 1\n",
    "\n",
    "#Define a color palette with distinct colors\n",
    "colors = ['#FF6347', '#4682B4', '#32CD32', '#FFD700', '#8A2BE2', '#DC143C', \n",
    "          '#FF1493', '#7FFF00', '#D2691E', '#FF4500', '#2E8B57', '#A52A2A']\n",
    "\n",
    "#If there are more than 12 candidates, randomly cycle through the colors\n",
    "if len(final_assignment) > len(colors):\n",
    "    colors = [random.choice(colors) for _ in range(len(final_assignment))]\n",
    "\n",
    "#Plot the bar chart with custom colors\n",
    "plt.figure(figsize=(10, 6))\n",
    "plt.bar(final_assignment.keys(), final_assignment.values(), color=colors, edgecolor='black')\n",
    "\n",
    "#Set the title and labels\n",
    "plt.title(\"Final Assignment of Candidates to Roles (50 Solutions)\", fontsize=16, fontweight=\"bold\", pad=15)\n",
    "plt.xlabel(\"Candidates\", fontsize=12)\n",
    "plt.ylabel(\"Number of Assignments\", fontsize=12)\n",
    "\n",
    "#Rotate the x-ticks and adjust font size\n",
    "plt.xticks(rotation=45, ha=\"right\", fontsize=10)\n",
    "plt.yticks(fontsize=10)\n",
    "\n",
    "#Adjust layout for tightness\n",
    "plt.tight_layout()\n",
    "\n",
    "#Display the chart\n",
    "plt.show()"
   ]
  },
  {
   "cell_type": "code",
   "execution_count": null,
   "id": "652698ec-49b8-4cd4-a572-482d74e9aa16",
   "metadata": {},
   "outputs": [],
   "source": []
  }
 ],
 "metadata": {
  "kernelspec": {
   "display_name": "Python 3 (ipykernel)",
   "language": "python",
   "name": "python3"
  },
  "language_info": {
   "codemirror_mode": {
    "name": "ipython",
    "version": 3
   },
   "file_extension": ".py",
   "mimetype": "text/x-python",
   "name": "python",
   "nbconvert_exporter": "python",
   "pygments_lexer": "ipython3",
   "version": "3.12.4"
  }
 },
 "nbformat": 4,
 "nbformat_minor": 5
}
